{
  "nbformat": 4,
  "nbformat_minor": 0,
  "metadata": {
    "colab": {
      "provenance": []
    },
    "kernelspec": {
      "name": "python3",
      "display_name": "Python 3"
    },
    "language_info": {
      "name": "python"
    }
  },
  "cells": [
    {
      "cell_type": "code",
      "source": [
        "%pip install jmespath"
      ],
      "metadata": {
        "colab": {
          "base_uri": "https://localhost:8080/"
        },
        "id": "Jxaohi8INlO4",
        "outputId": "a176c5b9-c27f-4e02-cf90-875ca65db21e"
      },
      "execution_count": null,
      "outputs": [
        {
          "output_type": "stream",
          "name": "stdout",
          "text": [
            "Collecting jmespath\n",
            "  Downloading jmespath-1.0.1-py3-none-any.whl (20 kB)\n",
            "Installing collected packages: jmespath\n",
            "Successfully installed jmespath-1.0.1\n"
          ]
        }
      ]
    },
    {
      "cell_type": "code",
      "source": [
        "%pip install dbldatagen"
      ],
      "metadata": {
        "colab": {
          "base_uri": "https://localhost:8080/"
        },
        "id": "rIyqS427RfY9",
        "outputId": "7cd10c0e-bf74-4b09-9de0-a66cd9aaa155"
      },
      "execution_count": null,
      "outputs": [
        {
          "output_type": "stream",
          "name": "stdout",
          "text": [
            "Collecting dbldatagen\n",
            "  Downloading dbldatagen-0.3.5-py3-none-any.whl (86 kB)\n",
            "\u001b[?25l     \u001b[90m━━━━━━━━━━━━━━━━━━━━━━━━━━━━━━━━━━━━━━━━\u001b[0m \u001b[32m0.0/86.3 kB\u001b[0m \u001b[31m?\u001b[0m eta \u001b[36m-:--:--\u001b[0m\r\u001b[2K     \u001b[90m━━━━━━━━━━━━━━━━━━━━━━━━━━━━━━━━━━━━━━━━\u001b[0m \u001b[32m86.3/86.3 kB\u001b[0m \u001b[31m2.7 MB/s\u001b[0m eta \u001b[36m0:00:00\u001b[0m\n",
            "\u001b[?25hInstalling collected packages: dbldatagen\n",
            "Successfully installed dbldatagen-0.3.5\n"
          ]
        }
      ]
    },
    {
      "cell_type": "code",
      "source": [
        "%pip install pyspark\n"
      ],
      "metadata": {
        "colab": {
          "base_uri": "https://localhost:8080/"
        },
        "id": "P7Q2Sg9gSQum",
        "outputId": "841bf242-9161-4c43-da29-30337577079d"
      },
      "execution_count": null,
      "outputs": [
        {
          "output_type": "stream",
          "name": "stdout",
          "text": [
            "Collecting pyspark\n",
            "  Downloading pyspark-3.5.0.tar.gz (316.9 MB)\n",
            "\u001b[2K     \u001b[90m━━━━━━━━━━━━━━━━━━━━━━━━━━━━━━━━━━━━━━━━\u001b[0m \u001b[32m316.9/316.9 MB\u001b[0m \u001b[31m2.5 MB/s\u001b[0m eta \u001b[36m0:00:00\u001b[0m\n",
            "\u001b[?25h  Preparing metadata (setup.py) ... \u001b[?25l\u001b[?25hdone\n",
            "Requirement already satisfied: py4j==0.10.9.7 in /usr/local/lib/python3.10/dist-packages (from pyspark) (0.10.9.7)\n",
            "Building wheels for collected packages: pyspark\n",
            "  Building wheel for pyspark (setup.py) ... \u001b[?25l\u001b[?25hdone\n",
            "  Created wheel for pyspark: filename=pyspark-3.5.0-py2.py3-none-any.whl size=317425344 sha256=77005293eebd908c5dc790ca2d18a73d48961ac3d411cb7705219d81ecc2281c\n",
            "  Stored in directory: /root/.cache/pip/wheels/41/4e/10/c2cf2467f71c678cfc8a6b9ac9241e5e44a01940da8fbb17fc\n",
            "Successfully built pyspark\n",
            "Installing collected packages: pyspark\n",
            "Successfully installed pyspark-3.5.0\n"
          ]
        }
      ]
    },
    {
      "cell_type": "code",
      "source": [
        "top5DogDiseasesUSA= [\n",
        "    \"Obesity\",\n",
        "    \"Canine Osteoarthritis (Degenerative Joint Disease)\",\n",
        "    \"Heartworm Disease\",\n",
        "    'Canine Dental Disease',\n",
        "    'Skin Allergies and Dermatitis',\n",
        "    'Canine Ear Infections'\n",
        "]"
      ],
      "metadata": {
        "id": "0CHAXqyHKRKO"
      },
      "execution_count": null,
      "outputs": []
    },
    {
      "cell_type": "code",
      "source": [
        "petDiseasesUSA = [\n",
        "  \"Dental Disease\",\n",
        "  \"Allergies\",\n",
        "  \"Ear Infections\",\n",
        "  \"Skin Infections\",\n",
        "  \"Obesity\",\n",
        "  \"Arthritis\",\n",
        "  \"Diabetes\",\n",
        "  \"Kennel Cough\",\n",
        "  \"Leptospirosis\",\n",
        "  \"Heartworm Disease\",\n",
        "  \"None\",\n",
        "  \"None\",\n",
        "  \"None\",\n",
        "  \"None\",\n",
        "  \"None\",\n",
        "  \"None\",\n",
        "  \"None\",\n",
        "  \"None\",\n",
        "  \"None\",\n",
        "  \"None\",\n",
        "];\n",
        "\n"
      ],
      "metadata": {
        "id": "Ksg4RYhsr-0a"
      },
      "execution_count": null,
      "outputs": []
    },
    {
      "cell_type": "code",
      "source": [
        "popular_dog_breeds = [\n",
        "    \"Labrador Retriever\",\n",
        "    \"French Bulldog\",\n",
        "    \"German Shepherd\",\n",
        "    \"Golden Retriever\",\n",
        "    \"Bulldog\",\n",
        "    \"Poodle\",\n",
        "    \"Beagle\",\n",
        "    \"Rottweiler\",\n",
        "    \"Dachshund\",\n",
        "    \"Yorkshire Terrier\"\n",
        "]\n"
      ],
      "metadata": {
        "id": "DloVlbZpLjgy"
      },
      "execution_count": null,
      "outputs": []
    },
    {
      "cell_type": "code",
      "source": [
        "popular_dog_diets = [\n",
        "    \"Dry Kibble\",\n",
        "    \"Canned/Wet Food\",\n",
        "    \"Raw Food Diet\",\n",
        "    \"Homemade Dog Food\",\n",
        "    \"Grain-Free Diet\",\n",
        "    \"Limited Ingredient Diet\",\n",
        "    \"High-Protein Diet\",\n",
        "    \"Prescription/Veterinary Diet\",\n",
        "    \"Small Breed Dog Food\",\n",
        "    \"Large Breed Dog Food\",\n",
        "]\n"
      ],
      "metadata": {
        "id": "m192bWZUMi3H"
      },
      "execution_count": null,
      "outputs": []
    },
    {
      "cell_type": "code",
      "source": [
        "popular_cat_breeds = [\n",
        "    \"Persian\",\n",
        "    \"Maine Coon\",\n",
        "    \"Siamese\",\n",
        "    \"Ragdoll\",\n",
        "    \"British Shorthair\",\n",
        "    \"Sphynx\",\n",
        "    \"Bengal\",\n",
        "    \"Abyssinian\",\n",
        "    \"Scottish Fold\",\n",
        "    \"Birman\",\n",
        "]\n"
      ],
      "metadata": {
        "id": "UhSEF3HiW0Ld"
      },
      "execution_count": null,
      "outputs": []
    },
    {
      "cell_type": "code",
      "source": [
        "popular_cat_diets = [\n",
        "    \"Dry Cat Food (Kibble)\",\n",
        "    \"Canned/Wet Cat Food\",\n",
        "    \"Raw Food Diet (Raw Cat Food)\",\n",
        "    \"Homemade Cat Food\",\n",
        "    \"Grain-Free Cat Food\",\n",
        "    \"Limited Ingredient Diet Cat Food\",\n",
        "    \"High-Protein Cat Food\",\n",
        "    \"Prescription/Veterinary Diet Cat Food\",\n",
        "    \"Senior Cat Food\",\n",
        "    \"Kitten Food\",\n",
        "]\n"
      ],
      "metadata": {
        "id": "89UssDpPW_8M"
      },
      "execution_count": null,
      "outputs": []
    },
    {
      "cell_type": "code",
      "source": [
        "%pip install Faker"
      ],
      "metadata": {
        "colab": {
          "base_uri": "https://localhost:8080/"
        },
        "id": "Wtvql20sEHqk",
        "outputId": "64a46995-15b9-4bc5-edb8-771e8956fd3f"
      },
      "execution_count": null,
      "outputs": [
        {
          "output_type": "stream",
          "name": "stdout",
          "text": [
            "Collecting Faker\n",
            "  Downloading Faker-20.0.0-py3-none-any.whl (1.7 MB)\n",
            "\u001b[2K     \u001b[90m━━━━━━━━━━━━━━━━━━━━━━━━━━━━━━━━━━━━━━━━\u001b[0m \u001b[32m1.7/1.7 MB\u001b[0m \u001b[31m10.6 MB/s\u001b[0m eta \u001b[36m0:00:00\u001b[0m\n",
            "\u001b[?25hRequirement already satisfied: python-dateutil>=2.4 in /usr/local/lib/python3.10/dist-packages (from Faker) (2.8.2)\n",
            "Requirement already satisfied: six>=1.5 in /usr/local/lib/python3.10/dist-packages (from python-dateutil>=2.4->Faker) (1.16.0)\n",
            "Installing collected packages: Faker\n",
            "Successfully installed Faker-20.0.0\n"
          ]
        }
      ]
    },
    {
      "cell_type": "code",
      "source": [
        "fake_email=[]"
      ],
      "metadata": {
        "id": "sbxqZDOEEdxh"
      },
      "execution_count": null,
      "outputs": []
    },
    {
      "cell_type": "code",
      "source": [
        "from faker import Faker\n",
        "fake = Faker()\n",
        "\n",
        "for _ in range(1000):\n",
        "  fake_email.append(fake.email())\n",
        "  # print(fake.email())"
      ],
      "metadata": {
        "id": "ily00ibPEM6a"
      },
      "execution_count": null,
      "outputs": []
    },
    {
      "cell_type": "code",
      "source": [
        "econ_situation = ['high', 'low', 'moderate']"
      ],
      "metadata": {
        "id": "GRCMc6n1FKEU"
      },
      "execution_count": null,
      "outputs": []
    },
    {
      "cell_type": "code",
      "source": [
        "jobType = ['nojob', 'part-time', 'full-time']"
      ],
      "metadata": {
        "id": "WjAmVE0WFa80"
      },
      "execution_count": null,
      "outputs": []
    },
    {
      "cell_type": "code",
      "source": [
        "maritalStatus = ['single', 'married', 'divorced']"
      ],
      "metadata": {
        "id": "CBMasEBFFs7v"
      },
      "execution_count": null,
      "outputs": []
    },
    {
      "cell_type": "code",
      "execution_count": null,
      "metadata": {
        "id": "tkjAmrrkNccF"
      },
      "outputs": [],
      "source": [
        "import dbldatagen as dg\n",
        "from pyspark.sql.types import IntegerType, FloatType, StringType, BooleanType\n",
        "from pyspark.sql import SparkSession\n",
        "from datetime import timedelta, datetime\n",
        "\n",
        "column_count = 10\n",
        "data_rows = 1000\n",
        "interval = timedelta(days=1, hours=1)\n",
        "start = datetime(2017, 10, 1, 0, 0, 0)\n",
        "end = datetime(2018, 10, 1, 6, 0, 0)\n",
        "spark = SparkSession.builder \\\n",
        "    .master(\"local[4]\") \\\n",
        "    .appName(\"Word Count\") \\\n",
        "    .config(\"spark.some.config.option\", \"some-value\") \\\n",
        "    .getOrCreate()\n",
        "\n",
        "df_spec = (dg.DataGenerator(spark, name=\"test_data_set1\", rows=data_rows,\n",
        "                                                  partitions=4)\n",
        "           .withIdOutput()\n",
        "          #  .withColumn(\"r\", FloatType(),\n",
        "          #                   expr=\"floor(rand() * 350) * (86400 + 3600)\",\n",
        "          #                   numColumns=column_count)\n",
        "           .withColumn(\"email\", StringType(),values=fake_email)\n",
        "           .withColumn(\"personLikeToTravel\", BooleanType())\n",
        "          #  .withColumn(\"personLikeToTravel\", IntegerType(), minValue=10, maxValue=35)\n",
        "           .withColumn(\"economicSituation\",  StringType(),values=econ_situation)\n",
        "           .withColumn(\"jobType\",  StringType(),values=jobType)\n",
        "          #  .withColumn(\"jobType\", IntegerType(), minValue=1, maxValue=19, random=True)\n",
        "           .withColumn(\"maritalStatus\", StringType(), values=maritalStatus, random=True)\n",
        "           .withColumn(\"travelledThisTimeLastYear\", BooleanType())\n",
        "           .withColumn(\"isHolidayNextWeek\", BooleanType())\n",
        "           .withColumn(\"travelNextWeek\", BooleanType())\n",
        "          #  .withColumn(\"previousHealthConditions\", StringType(), values=petDiseasesUSA, random=True)\n",
        "          #  .withColumn(\"Obesity\", BooleanType())\n",
        "          #  .withColumn(\"state\", StringType(), values=states,\n",
        "                          # random=True)\n",
        "          #  .withColumn(\"disease\", StringType(), values=petDiseasesUSA,\n",
        "          #                 random=True)\n",
        "          #  .withColumn(\"date\", \"timestamp\", begin=start, end=end, interval=interval, random=True)\n",
        "\n",
        "           )\n",
        "\n",
        "df = df_spec.build()\n",
        "num_rows=df.count()"
      ]
    },
    {
      "cell_type": "code",
      "source": [
        "import dbldatagen as dg\n",
        "from pyspark.sql.types import IntegerType, FloatType, StringType, BooleanType\n",
        "from pyspark.sql import SparkSession\n",
        "from datetime import timedelta, datetime\n",
        "\n",
        "column_count = 10\n",
        "data_rows = 1000\n",
        "interval = timedelta(days=1, hours=1)\n",
        "start = datetime(2017, 10, 1, 0, 0, 0)\n",
        "end = datetime(2018, 10, 1, 6, 0, 0)\n",
        "spark = SparkSession.builder \\\n",
        "    .master(\"local[4]\") \\\n",
        "    .appName(\"Word Count\") \\\n",
        "    .config(\"spark.some.config.option\", \"some-value\") \\\n",
        "    .getOrCreate()\n",
        "\n",
        "df_spec = (dg.DataGenerator(spark, name=\"test_data_set1\", rows=data_rows,\n",
        "                                                  partitions=4)\n",
        "           .withIdOutput()\n",
        "          #  .withColumn(\"r\", FloatType(),\n",
        "          #                   expr=\"floor(rand() * 350) * (86400 + 3600)\",\n",
        "          #                   numColumns=column_count)\n",
        "           .withColumn(\"weight\", IntegerType(), minValue=10, maxValue=35, random=True)\n",
        "           .withColumn(\"VaccinationsUpToDate\", BooleanType())\n",
        "           .withColumn(\"age\", IntegerType(), minValue=1, maxValue=19, random=True)\n",
        "           .withColumn(\"diet\", StringType(), values=popular_cat_diets, random=True)\n",
        "           .withColumn(\"exercise\", IntegerType(), minValue=0, maxValue=2)\n",
        "           .withColumn(\"breed\", StringType(), values=popular_cat_breeds, random=True)\n",
        "           .withColumn(\"Breed Predisposition\", BooleanType())\n",
        "          #  .withColumn(\"Joint Trauma Or Injury\", BooleanType())\n",
        "           .withColumn(\"Obesity\", BooleanType())\n",
        "           .withColumn(\"Genetic Factors\", BooleanType())\n",
        "           .withColumn(\"Feline Diabetes\", BooleanType())\n",
        "\n",
        "          #  .withColumn(\"previousHealthConditions\", StringType(), values=petDiseasesUSA, random=True)\n",
        "          #  .withColumn(\"state\", StringType(), values=states,\n",
        "                          # random=True)\n",
        "          #  .withColumn(\"disease\", StringType(), values=petDiseasesUSA,\n",
        "          #                 random=True)\n",
        "          #  .withColumn(\"date\", \"timestamp\", begin=start, end=end, interval=interval, random=True)\n",
        "\n",
        "           )\n",
        "\n",
        "df = df_spec.build()\n",
        "num_rows=df.count()"
      ],
      "metadata": {
        "id": "MGGyMWtgVB68"
      },
      "execution_count": null,
      "outputs": []
    },
    {
      "cell_type": "code",
      "source": [
        "x3_output = df_spec.build(withTempView=True)\n",
        "\n",
        "print(df_spec.schema)\n",
        "x3_output.printSchema()\n",
        "# display(x3_output)\n",
        "\n",
        "analyzer = dg.DataAnalyzer(x3_output)\n",
        "\n",
        "print(\"Summary;\", analyzer.summarize())"
      ],
      "metadata": {
        "id": "Yg8oHB3YQRfe"
      },
      "execution_count": null,
      "outputs": []
    },
    {
      "cell_type": "code",
      "source": [
        "df"
      ],
      "metadata": {
        "colab": {
          "base_uri": "https://localhost:8080/"
        },
        "id": "-AttJXa4Q3KN",
        "outputId": "1115edf8-f582-4e42-f26c-2bab3715333f"
      },
      "execution_count": null,
      "outputs": [
        {
          "output_type": "execute_result",
          "data": {
            "text/plain": [
              "DataFrame[id: bigint, email: string, personLikeToTravel: boolean, economicSituation: string, jobType: string, maritalStatus: string, travelledThisTimeLastYear: boolean, isHolidayNextWeek: boolean, travelNextWeek: boolean]"
            ]
          },
          "metadata": {},
          "execution_count": 25
        }
      ]
    },
    {
      "cell_type": "code",
      "source": [
        "df.write \\\n",
        "    .format(\"com.databricks.spark.csv\") \\\n",
        "    .option(\"header\", \"true\") \\\n",
        "    .save(\"travelNextWeek1.csv\")"
      ],
      "metadata": {
        "id": "qZqnTJqgRP14"
      },
      "execution_count": null,
      "outputs": []
    }
  ]
}