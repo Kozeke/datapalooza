{
 "cells": [
  {
   "cell_type": "markdown",
   "source": [
    "Populate AWS Secrets such as AWC Access Key and AWS Secret Key for connecting to Kinesis"
   ],
   "metadata": {
    "application/vnd.databricks.v1+cell": {
     "cellMetadata": {
      "byteLimit": 2048000,
      "rowLimit": 10000
     },
     "inputWidgets": {},
     "nuid": "7a8e925a-bb6e-4177-bbb6-d1000ed71cf4",
     "showTitle": false,
     "title": ""
    }
   }
  },
  {
   "cell_type": "code",
   "execution_count": null,
   "source": [
    "%scala\r\n",
    "val awsAccessKeyId = \"\"\r\n",
    "val awsSecretKeyId = \"\"\r\n",
    "val kinesisRegion = \"eu-west-3\"\r\n",
    "val my_stream_name = \"segment-data-stream\"\r\n"
   ],
   "outputs": [],
   "metadata": {
    "application/vnd.databricks.v1+cell": {
     "cellMetadata": {
      "byteLimit": 2048000,
      "rowLimit": 10000
     },
     "inputWidgets": {},
     "nuid": "7b9b42a0-5351-48b3-b78e-e23e187dd380",
     "showTitle": false,
     "title": ""
    }
   }
  },
  {
   "cell_type": "code",
   "execution_count": null,
   "source": [
    "awsAccessKeyId = \"\"\r\n",
    "awsSecretKeyId = \"\"\r\n",
    "kinesisRegion = \"eu-west-3\"\r\n",
    "my_stream_name = \"segment-data-stream\""
   ],
   "outputs": [],
   "metadata": {
    "application/vnd.databricks.v1+cell": {
     "cellMetadata": {
      "byteLimit": 2048000,
      "rowLimit": 10000
     },
     "inputWidgets": {},
     "nuid": "f92b1cdc-deab-443e-b7d1-1f2a495caeef",
     "showTitle": false,
     "title": ""
    }
   }
  },
  {
   "cell_type": "code",
   "execution_count": null,
   "source": [
    "%scala\r\n",
    "import com.databricks.sql.kinesis.AWSKinesisConsumerManager\r\n",
    "\r\n",
    "val manager = AWSKinesisConsumerManager.newManager()\r\n",
    " .option (\"awsAccessKey\", awsAccessKeyId)\r\n",
    " .option(\"awsSecretKey\", awsSecretKeyId)\r\n",
    " .option(\"region\", kinesisRegion)\r\n",
    ".create()\r\n",
    "\r\n",
    "val consumerARN = manager.registerConsumer(my_stream_name, \"dbdemos_dais2023_jot\")\r\n",
    "\r\n",
    "val consumers = manager.listConsumers(my_stream_name)\r\n",
    "display(consumers)\r\n",
    "\r\n"
   ],
   "outputs": [
    {
     "output_type": "display_data",
     "data": {
      "text/html": [
       "<style scoped>\n",
       "  .table-result-container {\n",
       "    max-height: 300px;\n",
       "    overflow: auto;\n",
       "  }\n",
       "  table, th, td {\n",
       "    border: 1px solid black;\n",
       "    border-collapse: collapse;\n",
       "  }\n",
       "  th, td {\n",
       "    padding: 5px;\n",
       "  }\n",
       "  th {\n",
       "    text-align: left;\n",
       "  }\n",
       "</style><div class='table-result-container'><table class='table-result'><thead style='background-color: white'><tr><th>name</th><th>arn</th><th>status</th><th>creationTimestamp</th></tr></thead><tbody><tr><td>dbdemos_dais2023_jot</td><td>arn:aws:kinesis:eu-west-3:220311413364:stream/segment-data-stream/consumer/dbdemos_dais2023_jot:1699915420</td><td>ACTIVE</td><td>2023-11-13T22:43:40.000+0000</td></tr></tbody></table></div>"
      ]
     },
     "metadata": {
      "application/vnd.databricks.v1+output": {
       "addedWidgets": {},
       "aggData": [],
       "aggError": "",
       "aggOverflow": false,
       "aggSchema": [],
       "aggSeriesLimitReached": false,
       "aggType": "",
       "arguments": {},
       "columnCustomDisplayInfos": {},
       "data": [
        [
         "dbdemos_dais2023_jot",
         "arn:aws:kinesis:eu-west-3:220311413364:stream/segment-data-stream/consumer/dbdemos_dais2023_jot:1699915420",
         "ACTIVE",
         "2023-11-13T22:43:40.000+0000"
        ]
       ],
       "datasetInfos": [
        {
         "name": "consumers",
         "schema": {
          "fields": [
           {
            "metadata": {},
            "name": "name",
            "nullable": true,
            "type": "string"
           },
           {
            "metadata": {},
            "name": "arn",
            "nullable": true,
            "type": "string"
           },
           {
            "metadata": {},
            "name": "status",
            "nullable": true,
            "type": "string"
           },
           {
            "metadata": {},
            "name": "creationTimestamp",
            "nullable": true,
            "type": "timestamp"
           }
          ],
          "type": "struct"
         },
         "tableIdentifier": null,
         "typeStr": "org.apache.spark.sql.DataFrame"
        }
       ],
       "dbfsResultPath": null,
       "isJsonSchema": true,
       "metadata": {
        "isDbfsCommandResult": false
       },
       "overflow": false,
       "plotOptions": {
        "customPlotOptions": {},
        "displayType": "table",
        "pivotAggregation": null,
        "pivotColumns": null,
        "xColumns": null,
        "yColumns": null
       },
       "removedWidgets": [],
       "schema": [
        {
         "metadata": "{}",
         "name": "name",
         "type": "\"string\""
        },
        {
         "metadata": "{}",
         "name": "arn",
         "type": "\"string\""
        },
        {
         "metadata": "{}",
         "name": "status",
         "type": "\"string\""
        },
        {
         "metadata": "{}",
         "name": "creationTimestamp",
         "type": "\"timestamp\""
        }
       ],
       "type": "table"
      }
     }
    }
   ],
   "metadata": {
    "application/vnd.databricks.v1+cell": {
     "cellMetadata": {
      "byteLimit": 2048000,
      "rowLimit": 10000
     },
     "inputWidgets": {},
     "nuid": "31843e9e-c4e3-484c-867b-453e61279d04",
     "showTitle": false,
     "title": ""
    }
   }
  },
  {
   "cell_type": "code",
   "execution_count": null,
   "source": [
    "from pyspark.sql import SQLContext\n",
    "sc\n",
    "sql_context = SQLContext(sc)"
   ],
   "outputs": [],
   "metadata": {
    "application/vnd.databricks.v1+cell": {
     "cellMetadata": {
      "byteLimit": 2048000,
      "rowLimit": 10000
     },
     "inputWidgets": {},
     "nuid": "6a4c59c4-ef22-46a8-b406-2c0be6260585",
     "showTitle": false,
     "title": ""
    }
   }
  },
  {
   "cell_type": "code",
   "execution_count": null,
   "source": [
    "from pyspark.sql.types import StructType,StructField, StringType, IntegerType, DoubleType, BooleanType\n"
   ],
   "outputs": [],
   "metadata": {
    "application/vnd.databricks.v1+cell": {
     "cellMetadata": {
      "byteLimit": 2048000,
      "rowLimit": 10000
     },
     "inputWidgets": {},
     "nuid": "4068547d-7b3b-493b-a89f-5c7524ffc4b7",
     "showTitle": false,
     "title": ""
    }
   }
  },
  {
   "cell_type": "code",
   "execution_count": null,
   "source": [
    "input_schema = StructType(\n",
    "    [   \n",
    "        StructField('type',StringType()),\n",
    "        StructField('userId', StringType()),\n",
    "        StructField('traits', StructType([\n",
    "            StructField('id', StringType(), False),\n",
    "            StructField('weight', StringType(), False),\n",
    "            StructField('VaccinationsUpToDate', StringType()),\n",
    "            StructField('Obesity', StringType()),\n",
    "            StructField('age', StringType()),\n",
    "            StructField('diet', StringType()),\n",
    "            StructField('exercise', StringType()),\n",
    "            StructField('breed', StringType()),\n",
    "            StructField('previoushealthconditions', StringType()),\n",
    "            StructField('breedPredisposition', StringType()),\n",
    "            StructField('geneticFactors', StringType()),\n",
    "        ])),\n",
    "        StructField('event', StringType()),\n",
    "        # StructField('sensor_D', DoubleType()),\n",
    "        # StructField ('sensor_E', DoubleType()),\n",
    "        # StructField('sensor_F', DoubleType()),\n",
    "        # StructField ('timestamp', StringType()),\n",
    "        # StructField('turbine_id', StringType()),\n",
    "        # StructField('_rescued_data', StringType())\n",
    "    ])"
   ],
   "outputs": [],
   "metadata": {
    "application/vnd.databricks.v1+cell": {
     "cellMetadata": {
      "byteLimit": 2048000,
      "rowLimit": 10000
     },
     "inputWidgets": {},
     "nuid": "98e6662e-a80c-4bd0-814e-8f6dbea9665a",
     "showTitle": false,
     "title": ""
    }
   }
  },
  {
   "cell_type": "code",
   "execution_count": null,
   "source": [
    "from pyspark.sql.functions import col,from_json, current_timestamp\n",
    "\n",
    "df = sql_context\\\n",
    ".readStream\\\n",
    ".format(\"kinesis\")\\\n",
    ".option(\"streamName\", my_stream_name)\\\n",
    ".option(\"initialPosition\", \"earliest\")\\\n",
    ".option (\"awsAccessKey\", awsAccessKeyId)\\\n",
    ".option (\"awsSecretKey\", awsSecretKeyId)\\\n",
    ".option(\"region\", kinesisRegion).load()\\\n",
    ".withColumn('data', col('data').cast('string')).select('data')"
   ],
   "outputs": [],
   "metadata": {
    "application/vnd.databricks.v1+cell": {
     "cellMetadata": {
      "byteLimit": 2048000,
      "rowLimit": 10000
     },
     "inputWidgets": {},
     "nuid": "4ce87c72-9603-4d30-afbb-968f226c15a0",
     "showTitle": false,
     "title": ""
    }
   }
  },
  {
   "cell_type": "code",
   "execution_count": null,
   "source": [
    "display(df)"
   ],
   "outputs": [
    {
     "output_type": "display_data",
     "data": {
      "text/html": [
       "<style scoped>\n",
       "  .table-result-container {\n",
       "    max-height: 300px;\n",
       "    overflow: auto;\n",
       "  }\n",
       "  table, th, td {\n",
       "    border: 1px solid black;\n",
       "    border-collapse: collapse;\n",
       "  }\n",
       "  th, td {\n",
       "    padding: 5px;\n",
       "  }\n",
       "  th {\n",
       "    text-align: left;\n",
       "  }\n",
       "</style><div class='table-result-container'><table class='table-result'><thead style='background-color: white'><tr><th>data</th></tr></thead><tbody><tr><td>{\"_metadata\":{\"bundled\":[\"Segment.io\"],\"bundledIds\":[],\"unbundled\":[]},\"anonymousId\":\"1adad8dc-cb78-4806-b83e-3b313b672267\",\"channel\":\"client\",\"context\":{\"ip\":\"93.47.20.8\",\"library\":{\"name\":\"analytics.js\",\"version\":\"next-1.61.0\"},\"locale\":\"ru\",\"page\":{\"path\":\"/datapalooza/website/\",\"referrer\":\"\",\"search\":\"\",\"title\":\"Pet Caring Services\",\"url\":\"https://kozeke.github.io/datapalooza/website/\"},\"timezone\":\"Europe/Berlin\",\"userAgent\":\"Mozilla/5.0 (Windows NT 10.0; Win64; x64) AppleWebKit/537.36 (KHTML, like Gecko) Chrome/119.0.0.0 Safari/537.36 Edg/119.0.0.0\",\"userAgentData\":{\"brands\":[{\"brand\":\"Microsoft Edge\",\"version\":\"119\"},{\"brand\":\"Chromium\",\"version\":\"119\"},{\"brand\":\"Not?A_Brand\",\"version\":\"24\"}],\"mobile\":false,\"platform\":\"Windows\"}},\"integrations\":{},\"messageId\":\"ajs-next-95f82b5692c29fb882bd01c09679706a\",\"originalTimestamp\":\"2023-11-16T09:19:10.441Z\",\"projectId\":\"pGmYy5aVoCQqk1qGQQ1Z1h\",\"properties\":{\"path\":\"/datapalooza/website/\",\"referrer\":\"\",\"search\":\"\",\"title\":\"Pet Caring Services\",\"url\":\"https://kozeke.github.io/datapalooza/website/\"},\"receivedAt\":\"2023-11-16T09:19:11.635Z\",\"sentAt\":\"2023-11-16T09:19:10.457Z\",\"timestamp\":\"2023-11-16T09:19:11.619Z\",\"type\":\"page\",\"userId\":\"12345\",\"version\":2                                           }</td></tr><tr><td>{\"_metadata\":{\"bundled\":[\"Segment.io\"],\"bundledIds\":[],\"unbundled\":[]},\"anonymousId\":\"1adad8dc-cb78-4806-b83e-3b313b672267\",\"channel\":\"client\",\"context\":{\"ip\":\"93.47.20.8\",\"library\":{\"name\":\"analytics.js\",\"version\":\"next-1.61.0\"},\"locale\":\"ru\",\"page\":{\"path\":\"/datapalooza/website/register.html\",\"referrer\":\"https://kozeke.github.io/datapalooza/website/\",\"search\":\"\",\"title\":\"Register - Pet Caring Services\",\"url\":\"https://kozeke.github.io/datapalooza/website/register.html\"},\"timezone\":\"Europe/Berlin\",\"userAgent\":\"Mozilla/5.0 (Windows NT 10.0; Win64; x64) AppleWebKit/537.36 (KHTML, like Gecko) Chrome/119.0.0.0 Safari/537.36 Edg/119.0.0.0\",\"userAgentData\":{\"brands\":[{\"brand\":\"Microsoft Edge\",\"version\":\"119\"},{\"brand\":\"Chromium\",\"version\":\"119\"},{\"brand\":\"Not?A_Brand\",\"version\":\"24\"}],\"mobile\":false,\"platform\":\"Windows\"}},\"integrations\":{},\"messageId\":\"ajs-next-5faa9e054802d724b3ccdabd5b8ed0dd\",\"originalTimestamp\":\"2023-11-16T09:19:17.149Z\",\"projectId\":\"pGmYy5aVoCQqk1qGQQ1Z1h\",\"properties\":{\"path\":\"/datapalooza/website/register.html\",\"referrer\":\"https://kozeke.github.io/datapalooza/website/\",\"search\":\"\",\"title\":\"Register - Pet Caring Services\",\"url\":\"https://kozeke.github.io/datapalooza/website/register.html\"},\"receivedAt\":\"2023-11-16T09:19:17.970Z\",\"sentAt\":\"2023-11-16T09:19:17.152Z\",\"timestamp\":\"2023-11-16T09:19:17.967Z\",\"type\":\"page\",\"userId\":\"12345\",\"version\":2                                           }</td></tr><tr><td>{\"_metadata\":{\"bundled\":[\"Segment.io\"],\"bundledIds\":[],\"unbundled\":[]},\"anonymousId\":\"1adad8dc-cb78-4806-b83e-3b313b672267\",\"channel\":\"client\",\"context\":{\"ip\":\"93.47.20.8\",\"library\":{\"name\":\"analytics.js\",\"version\":\"next-1.61.0\"},\"locale\":\"ru\",\"page\":{\"path\":\"/datapalooza/website/register.html\",\"referrer\":\"https://kozeke.github.io/datapalooza/website/\",\"search\":\"\",\"title\":\"Register - Pet Caring Services\",\"url\":\"https://kozeke.github.io/datapalooza/website/register.html\"},\"timezone\":\"Europe/Berlin\",\"userAgent\":\"Mozilla/5.0 (Windows NT 10.0; Win64; x64) AppleWebKit/537.36 (KHTML, like Gecko) Chrome/119.0.0.0 Safari/537.36 Edg/119.0.0.0\",\"userAgentData\":{\"brands\":[{\"brand\":\"Microsoft Edge\",\"version\":\"119\"},{\"brand\":\"Chromium\",\"version\":\"119\"},{\"brand\":\"Not?A_Brand\",\"version\":\"24\"}],\"mobile\":false,\"platform\":\"Windows\"}},\"integrations\":{\"Salesforce\":true},\"messageId\":\"ajs-next-6f5260005989ff4802eba2a80e6b8ccf\",\"originalTimestamp\":\"2023-11-16T09:19:25.106Z\",\"projectId\":\"pGmYy5aVoCQqk1qGQQ1Z1h\",\"receivedAt\":\"2023-11-16T09:19:25.938Z\",\"sentAt\":\"2023-11-16T09:19:25.115Z\",\"timestamp\":\"2023-11-16T09:19:25.929Z\",\"traits\":{\"address\":\"Corso Sardegna\",\"category\":\"Marketing\",\"clicked_random_link\":\"true\",\"email\":\"kozykorpesh.tolep@gmail.com\",\"is_first_session\":\"true\",\"leadSource\":\"Newsletter\",\"name\":\"Customer.io Instance #2\",\"viewed_product\":\"true\"},\"type\":\"identify\",\"userId\":\"12345\",\"version\":2                                           }</td></tr><tr><td>{\"_metadata\":{\"bundled\":[\"Segment.io\"],\"bundledIds\":[],\"unbundled\":[]},\"anonymousId\":\"1adad8dc-cb78-4806-b83e-3b313b672267\",\"channel\":\"client\",\"context\":{\"ip\":\"93.47.20.8\",\"library\":{\"name\":\"analytics.js\",\"version\":\"next-1.61.0\"},\"locale\":\"ru\",\"page\":{\"path\":\"/datapalooza/website/register.html\",\"referrer\":\"https://kozeke.github.io/datapalooza/website/\",\"search\":\"\",\"title\":\"Register - Pet Caring Services\",\"url\":\"https://kozeke.github.io/datapalooza/website/register.html\"},\"timezone\":\"Europe/Berlin\",\"userAgent\":\"Mozilla/5.0 (Windows NT 10.0; Win64; x64) AppleWebKit/537.36 (KHTML, like Gecko) Chrome/119.0.0.0 Safari/537.36 Edg/119.0.0.0\",\"userAgentData\":{\"brands\":[{\"brand\":\"Microsoft Edge\",\"version\":\"119\"},{\"brand\":\"Chromium\",\"version\":\"119\"},{\"brand\":\"Not?A_Brand\",\"version\":\"24\"}],\"mobile\":false,\"platform\":\"Windows\"}},\"event\":\"Form Submitted\",\"integrations\":{},\"messageId\":\"ajs-next-985631a2531fb2067a3da3a5daf0d8c8\",\"originalTimestamp\":\"2023-11-16T09:19:25.108Z\",\"projectId\":\"pGmYy5aVoCQqk1qGQQ1Z1h\",\"properties\":{\"type\":\"Lead Generation\"},\"receivedAt\":\"2023-11-16T09:19:25.938Z\",\"sentAt\":\"2023-11-16T09:19:25.116Z\",\"timestamp\":\"2023-11-16T09:19:25.930Z\",\"type\":\"track\",\"userId\":\"12345\",\"version\":2                                           }</td></tr><tr><td>{\"_metadata\":{\"bundled\":[\"Segment.io\"],\"bundledIds\":[],\"unbundled\":[]},\"anonymousId\":\"1adad8dc-cb78-4806-b83e-3b313b672267\",\"channel\":\"client\",\"context\":{\"ip\":\"93.47.20.8\",\"library\":{\"name\":\"analytics.js\",\"version\":\"next-1.61.0\"},\"locale\":\"ru\",\"page\":{\"path\":\"/datapalooza/website/services.html\",\"referrer\":\"https://kozeke.github.io/datapalooza/website/register.html\",\"search\":\"\",\"title\":\"Blog - Pet Caring Services\",\"url\":\"https://kozeke.github.io/datapalooza/website/services.html\"},\"timezone\":\"Europe/Berlin\",\"userAgent\":\"Mozilla/5.0 (Windows NT 10.0; Win64; x64) AppleWebKit/537.36 (KHTML, like Gecko) Chrome/119.0.0.0 Safari/537.36 Edg/119.0.0.0\",\"userAgentData\":{\"brands\":[{\"brand\":\"Microsoft Edge\",\"version\":\"119\"},{\"brand\":\"Chromium\",\"version\":\"119\"},{\"brand\":\"Not?A_Brand\",\"version\":\"24\"}],\"mobile\":false,\"platform\":\"Windows\"}},\"integrations\":{},\"messageId\":\"ajs-next-68f14aaba36c617c85468e3caf2ea928\",\"originalTimestamp\":\"2023-11-16T09:21:21.378Z\",\"projectId\":\"pGmYy5aVoCQqk1qGQQ1Z1h\",\"properties\":{\"path\":\"/datapalooza/website/services.html\",\"referrer\":\"https://kozeke.github.io/datapalooza/website/register.html\",\"search\":\"\",\"title\":\"Blog - Pet Caring Services\",\"url\":\"https://kozeke.github.io/datapalooza/website/services.html\"},\"receivedAt\":\"2023-11-16T09:21:23.156Z\",\"sentAt\":\"2023-11-16T09:21:21.383Z\",\"timestamp\":\"2023-11-16T09:21:23.151Z\",\"type\":\"page\",\"userId\":\"12345\",\"version\":2                                           }</td></tr><tr><td>{\"_metadata\":{\"bundled\":[\"Segment.io\"],\"bundledIds\":[],\"unbundled\":[]},\"anonymousId\":\"1adad8dc-cb78-4806-b83e-3b313b672267\",\"channel\":\"client\",\"context\":{\"ip\":\"93.47.20.8\",\"library\":{\"name\":\"analytics.js\",\"version\":\"next-1.61.0\"},\"locale\":\"ru\",\"page\":{\"path\":\"/datapalooza/website/index.html\",\"referrer\":\"https://kozeke.github.io/datapalooza/website/services.html\",\"search\":\"\",\"title\":\"Pet Caring Services\",\"url\":\"https://kozeke.github.io/datapalooza/website/index.html\"},\"timezone\":\"Europe/Berlin\",\"userAgent\":\"Mozilla/5.0 (Windows NT 10.0; Win64; x64) AppleWebKit/537.36 (KHTML, like Gecko) Chrome/119.0.0.0 Safari/537.36 Edg/119.0.0.0\",\"userAgentData\":{\"brands\":[{\"brand\":\"Microsoft Edge\",\"version\":\"119\"},{\"brand\":\"Chromium\",\"version\":\"119\"},{\"brand\":\"Not?A_Brand\",\"version\":\"24\"}],\"mobile\":false,\"platform\":\"Windows\"}},\"integrations\":{},\"messageId\":\"ajs-next-54032e7b2ecd538db00a5bb526ea7acf\",\"originalTimestamp\":\"2023-11-16T09:21:22.570Z\",\"projectId\":\"pGmYy5aVoCQqk1qGQQ1Z1h\",\"properties\":{\"path\":\"/datapalooza/website/index.html\",\"referrer\":\"https://kozeke.github.io/datapalooza/website/services.html\",\"search\":\"\",\"title\":\"Pet Caring Services\",\"url\":\"https://kozeke.github.io/datapalooza/website/index.html\"},\"receivedAt\":\"2023-11-16T09:21:23.394Z\",\"sentAt\":\"2023-11-16T09:21:22.575Z\",\"timestamp\":\"2023-11-16T09:21:23.389Z\",\"type\":\"page\",\"userId\":\"12345\",\"version\":2                                           }</td></tr><tr><td>{\"_metadata\":{\"bundled\":[\"Segment.io\"],\"bundledIds\":[],\"unbundled\":[]},\"anonymousId\":\"bafd4d6a-1a95-460d-aae7-611d32052d8b\",\"channel\":\"client\",\"context\":{\"ip\":\"93.47.20.8\",\"library\":{\"name\":\"analytics.js\",\"version\":\"next-1.61.0\"},\"locale\":\"ru-RU\",\"page\":{\"path\":\"/C:/Users/Kozy-Korpesh/Desktop/datapalooza/website/pet_profile.html\",\"referrer\":\"\",\"search\":\"\",\"title\":\"Pet Profile Form\",\"url\":\"file:///C:/Users/Kozy-Korpesh/Desktop/datapalooza/website/pet_profile.html\"},\"timezone\":\"Europe/Berlin\",\"userAgent\":\"Mozilla/5.0 (Windows NT 10.0; Win64; x64) AppleWebKit/537.36 (KHTML, like Gecko) Chrome/112.0.0.0 Safari/537.36\",\"userAgentData\":{\"brands\":[{\"brand\":\"Chromium\",\"version\":\"112\"},{\"brand\":\"Google Chrome\",\"version\":\"112\"},{\"brand\":\"Not:A-Brand\",\"version\":\"99\"}],\"mobile\":false,\"platform\":\"Windows\"}},\"integrations\":{},\"messageId\":\"ajs-next-a9d21d4209128aa5a2b0a60be039cab7\",\"originalTimestamp\":\"2023-11-16T09:22:06.771Z\",\"projectId\":\"pGmYy5aVoCQqk1qGQQ1Z1h\",\"properties\":{\"path\":\"/C:/Users/Kozy-Korpesh/Desktop/datapalooza/website/pet_profile.html\",\"referrer\":\"\",\"search\":\"\",\"title\":\"Pet Profile Form\",\"url\":\"file:///C:/Users/Kozy-Korpesh/Desktop/datapalooza/website/pet_profile.html\"},\"receivedAt\":\"2023-11-16T09:22:07.971Z\",\"sentAt\":\"2023-11-16T09:22:06.792Z\",\"timestamp\":\"2023-11-16T09:22:07.950Z\",\"type\":\"page\",\"userId\":\"12345\",\"version\":2                                           }</td></tr><tr><td>{\"_metadata\":{\"bundled\":[\"Segment.io\"],\"bundledIds\":[],\"unbundled\":[]},\"anonymousId\":\"bafd4d6a-1a95-460d-aae7-611d32052d8b\",\"channel\":\"client\",\"context\":{\"ip\":\"93.47.20.8\",\"library\":{\"name\":\"analytics.js\",\"version\":\"next-1.61.0\"},\"locale\":\"ru-RU\",\"page\":{\"path\":\"/C:/Users/Kozy-Korpesh/Desktop/datapalooza/website/pet_profile.html\",\"referrer\":\"\",\"search\":\"\",\"title\":\"Pet Profile Form\",\"url\":\"file:///C:/Users/Kozy-Korpesh/Desktop/datapalooza/website/pet_profile.html\"},\"timezone\":\"Europe/Berlin\",\"userAgent\":\"Mozilla/5.0 (Windows NT 10.0; Win64; x64) AppleWebKit/537.36 (KHTML, like Gecko) Chrome/112.0.0.0 Safari/537.36\",\"userAgentData\":{\"brands\":[{\"brand\":\"Chromium\",\"version\":\"112\"},{\"brand\":\"Google Chrome\",\"version\":\"112\"},{\"brand\":\"Not:A-Brand\",\"version\":\"99\"}],\"mobile\":false,\"platform\":\"Windows\"}},\"event\":\"Pet profile Submitted\",\"integrations\":{},\"messageId\":\"ajs-next-f5a49938b3b3b927d8e1c24736c08ffb\",\"originalTimestamp\":\"2023-11-16T09:22:45.577Z\",\"projectId\":\"pGmYy5aVoCQqk1qGQQ1Z1h\",\"properties\":{\"type\":\"Lead Generation\"},\"receivedAt\":\"2023-11-16T09:22:46.409Z\",\"sentAt\":\"2023-11-16T09:22:45.581Z\",\"timestamp\":\"2023-11-16T09:22:46.405Z\",\"type\":\"track\",\"userId\":\"12345\",\"version\":2                                           }</td></tr><tr><td>{\"_metadata\":{\"bundled\":[\"Segment.io\"],\"bundledIds\":[],\"unbundled\":[]},\"anonymousId\":\"bafd4d6a-1a95-460d-aae7-611d32052d8b\",\"channel\":\"client\",\"context\":{\"ip\":\"93.47.20.8\",\"library\":{\"name\":\"analytics.js\",\"version\":\"next-1.61.0\"},\"locale\":\"ru-RU\",\"page\":{\"path\":\"/C:/Users/Kozy-Korpesh/Desktop/datapalooza/website/pet_profile.html\",\"referrer\":\"\",\"search\":\"\",\"title\":\"Pet Profile Form\",\"url\":\"file:///C:/Users/Kozy-Korpesh/Desktop/datapalooza/website/pet_profile.html\"},\"timezone\":\"Europe/Berlin\",\"userAgent\":\"Mozilla/5.0 (Windows NT 10.0; Win64; x64) AppleWebKit/537.36 (KHTML, like Gecko) Chrome/112.0.0.0 Safari/537.36\",\"userAgentData\":{\"brands\":[{\"brand\":\"Chromium\",\"version\":\"112\"},{\"brand\":\"Google Chrome\",\"version\":\"112\"},{\"brand\":\"Not:A-Brand\",\"version\":\"99\"}],\"mobile\":false,\"platform\":\"Windows\"}},\"integrations\":{\"Salesforce\":true},\"messageId\":\"ajs-next-d1c288be38232c0acd0b409e194a38e6\",\"originalTimestamp\":\"2023-11-16T09:22:45.576Z\",\"projectId\":\"pGmYy5aVoCQqk1qGQQ1Z1h\",\"receivedAt\":\"2023-11-16T09:22:46.409Z\",\"sentAt\":\"2023-11-16T09:22:45.580Z\",\"timestamp\":\"2023-11-16T09:22:46.405Z\",\"traits\":{\"Obesity\":\"true\",\"VaccinationsUpToDate\":\"true\",\"address\":\"2 Via Asiago\",\"age\":\"78\",\"breed\":\"bulldog\",\"breedPredisposition\":\"true\",\"category\":\"Marketing\",\"clicked_random_link\":\"true\",\"diet\":\"hjhj\",\"email\":\"admin@ir.kz\",\"exercise\":\"7\",\"geneticFactors\":\"true\",\"id\":\"6\",\"is_first_session\":\"true\",\"leadSource\":\"Newsletter\",\"name\":\"Kozy-Korpesh Tolep\",\"previoushealthconditions\":\"hjh\",\"viewed_product\":\"true\",\"weight\":\"78\"},\"type\":\"identify\",\"userId\":\"12345\",\"version\":2                                           }</td></tr><tr><td>{\"_metadata\":{\"bundled\":[\"Segment.io\"],\"bundledIds\":[],\"unbundled\":[]},\"anonymousId\":\"1adad8dc-cb78-4806-b83e-3b313b672267\",\"channel\":\"client\",\"context\":{\"ip\":\"93.47.20.8\",\"library\":{\"name\":\"analytics.js\",\"version\":\"next-1.61.0\"},\"locale\":\"ru\",\"page\":{\"path\":\"/datapalooza/website/index.html\",\"referrer\":\"https://kozeke.github.io/datapalooza/website/services.html\",\"search\":\"\",\"title\":\"Pet Caring Services\",\"url\":\"https://kozeke.github.io/datapalooza/website/index.html\"},\"timezone\":\"Europe/Berlin\",\"userAgent\":\"Mozilla/5.0 (Windows NT 10.0; Win64; x64) AppleWebKit/537.36 (KHTML, like Gecko) Chrome/119.0.0.0 Safari/537.36 Edg/119.0.0.0\",\"userAgentData\":{\"brands\":[{\"brand\":\"Microsoft Edge\",\"version\":\"119\"},{\"brand\":\"Chromium\",\"version\":\"119\"},{\"brand\":\"Not?A_Brand\",\"version\":\"24\"}],\"mobile\":false,\"platform\":\"Windows\"}},\"integrations\":{},\"messageId\":\"ajs-next-a062a78be5572f25eb0f84dd639f2033\",\"originalTimestamp\":\"2023-11-16T11:12:38.476Z\",\"projectId\":\"pGmYy5aVoCQqk1qGQQ1Z1h\",\"properties\":{\"path\":\"/datapalooza/website/index.html\",\"referrer\":\"https://kozeke.github.io/datapalooza/website/services.html\",\"search\":\"\",\"title\":\"Pet Caring Services\",\"url\":\"https://kozeke.github.io/datapalooza/website/index.html\"},\"receivedAt\":\"2023-11-16T11:12:40.420Z\",\"sentAt\":\"2023-11-16T11:12:38.494Z\",\"timestamp\":\"2023-11-16T11:12:40.402Z\",\"type\":\"page\",\"userId\":\"12345\",\"version\":2                                           }</td></tr><tr><td>{\"_metadata\":{\"bundled\":[\"Segment.io\"],\"bundledIds\":[],\"unbundled\":[]},\"anonymousId\":\"bafd4d6a-1a95-460d-aae7-611d32052d8b\",\"channel\":\"client\",\"context\":{\"ip\":\"93.47.20.8\",\"library\":{\"name\":\"analytics.js\",\"version\":\"next-1.61.0\"},\"locale\":\"ru-RU\",\"page\":{\"path\":\"/C:/Users/Kozy-Korpesh/Desktop/datapalooza/website/pet_profile.html\",\"referrer\":\"\",\"search\":\"\",\"title\":\"Pet Profile Form\",\"url\":\"file:///C:/Users/Kozy-Korpesh/Desktop/datapalooza/website/pet_profile.html\"},\"timezone\":\"Europe/Berlin\",\"userAgent\":\"Mozilla/5.0 (Windows NT 10.0; Win64; x64) AppleWebKit/537.36 (KHTML, like Gecko) Chrome/112.0.0.0 Safari/537.36\",\"userAgentData\":{\"brands\":[{\"brand\":\"Chromium\",\"version\":\"112\"},{\"brand\":\"Google Chrome\",\"version\":\"112\"},{\"brand\":\"Not:A-Brand\",\"version\":\"99\"}],\"mobile\":false,\"platform\":\"Windows\"}},\"event\":\"Pet profile Submitted\",\"integrations\":{},\"messageId\":\"ajs-next-5861b6641481f85e49df5ffc1a8c557a\",\"originalTimestamp\":\"2023-11-16T11:42:11.299Z\",\"projectId\":\"pGmYy5aVoCQqk1qGQQ1Z1h\",\"properties\":{\"type\":\"Lead Generation\"},\"receivedAt\":\"2023-11-16T11:42:13.249Z\",\"sentAt\":\"2023-11-16T11:42:11.307Z\",\"timestamp\":\"2023-11-16T11:42:13.241Z\",\"type\":\"track\",\"userId\":\"12345\",\"version\":2                                           }</td></tr><tr><td>{\"_metadata\":{\"bundled\":[\"Segment.io\"],\"bundledIds\":[],\"unbundled\":[]},\"anonymousId\":\"bafd4d6a-1a95-460d-aae7-611d32052d8b\",\"channel\":\"client\",\"context\":{\"ip\":\"93.47.20.8\",\"library\":{\"name\":\"analytics.js\",\"version\":\"next-1.61.0\"},\"locale\":\"ru-RU\",\"page\":{\"path\":\"/C:/Users/Kozy-Korpesh/Desktop/datapalooza/website/pet_profile.html\",\"referrer\":\"\",\"search\":\"\",\"title\":\"Pet Profile Form\",\"url\":\"file:///C:/Users/Kozy-Korpesh/Desktop/datapalooza/website/pet_profile.html\"},\"timezone\":\"Europe/Berlin\",\"userAgent\":\"Mozilla/5.0 (Windows NT 10.0; Win64; x64) AppleWebKit/537.36 (KHTML, like Gecko) Chrome/112.0.0.0 Safari/537.36\",\"userAgentData\":{\"brands\":[{\"brand\":\"Chromium\",\"version\":\"112\"},{\"brand\":\"Google Chrome\",\"version\":\"112\"},{\"brand\":\"Not:A-Brand\",\"version\":\"99\"}],\"mobile\":false,\"platform\":\"Windows\"}},\"integrations\":{\"Salesforce\":true},\"messageId\":\"ajs-next-e40c124d65fccc686241660d8feb5e13\",\"originalTimestamp\":\"2023-11-16T11:42:11.866Z\",\"projectId\":\"pGmYy5aVoCQqk1qGQQ1Z1h\",\"receivedAt\":\"2023-11-16T11:42:13.451Z\",\"sentAt\":\"2023-11-16T11:42:11.871Z\",\"timestamp\":\"2023-11-16T11:42:13.446Z\",\"traits\":{\"Obesity\":\"true\",\"VaccinationsUpToDate\":\"true\",\"address\":\"2 Via Asiago\",\"age\":\"78\",\"breed\":\"bulldog\",\"breedPredisposition\":\"true\",\"category\":\"Marketing\",\"clicked_random_link\":\"true\",\"diet\":\"hjhj\",\"email\":\"admin@ir.kz\",\"exercise\":\"7\",\"geneticFactors\":\"true\",\"id\":\"6\",\"is_first_session\":\"true\",\"leadSource\":\"Newsletter\",\"name\":\"Kozy-Korpesh Tolep\",\"previoushealthconditions\":\"hjh\",\"viewed_product\":\"true\",\"weight\":\"78\"},\"type\":\"identify\",\"userId\":\"12345\",\"version\":2                                           }</td></tr><tr><td>{\"_metadata\":{\"bundled\":[\"Segment.io\"],\"bundledIds\":[],\"unbundled\":[]},\"anonymousId\":\"bafd4d6a-1a95-460d-aae7-611d32052d8b\",\"channel\":\"client\",\"context\":{\"ip\":\"93.47.20.8\",\"library\":{\"name\":\"analytics.js\",\"version\":\"next-1.61.0\"},\"locale\":\"ru-RU\",\"page\":{\"path\":\"/C:/Users/Kozy-Korpesh/Desktop/datapalooza/website/pet_profile.html\",\"referrer\":\"\",\"search\":\"\",\"title\":\"Pet Profile Form\",\"url\":\"file:///C:/Users/Kozy-Korpesh/Desktop/datapalooza/website/pet_profile.html\"},\"timezone\":\"Europe/Berlin\",\"userAgent\":\"Mozilla/5.0 (Windows NT 10.0; Win64; x64) AppleWebKit/537.36 (KHTML, like Gecko) Chrome/112.0.0.0 Safari/537.36\",\"userAgentData\":{\"brands\":[{\"brand\":\"Chromium\",\"version\":\"112\"},{\"brand\":\"Google Chrome\",\"version\":\"112\"},{\"brand\":\"Not:A-Brand\",\"version\":\"99\"}],\"mobile\":false,\"platform\":\"Windows\"}},\"event\":\"Pet profile Submitted\",\"integrations\":{},\"messageId\":\"ajs-next-762fc7829b177197603db5f5d75de6d2\",\"originalTimestamp\":\"2023-11-16T11:42:11.868Z\",\"projectId\":\"pGmYy5aVoCQqk1qGQQ1Z1h\",\"properties\":{\"type\":\"Lead Generation\"},\"receivedAt\":\"2023-11-16T11:42:13.451Z\",\"sentAt\":\"2023-11-16T11:42:11.871Z\",\"timestamp\":\"2023-11-16T11:42:13.448Z\",\"type\":\"track\",\"userId\":\"12345\",\"version\":2                                           }</td></tr><tr><td>{\"_metadata\":{\"bundled\":[\"Segment.io\"],\"bundledIds\":[],\"unbundled\":[]},\"anonymousId\":\"bafd4d6a-1a95-460d-aae7-611d32052d8b\",\"channel\":\"client\",\"context\":{\"ip\":\"93.47.20.8\",\"library\":{\"name\":\"analytics.js\",\"version\":\"next-1.61.0\"},\"locale\":\"ru-RU\",\"page\":{\"path\":\"/C:/Users/Kozy-Korpesh/Desktop/datapalooza/website/pet_profile.html\",\"referrer\":\"\",\"search\":\"\",\"title\":\"Pet Profile Form\",\"url\":\"file:///C:/Users/Kozy-Korpesh/Desktop/datapalooza/website/pet_profile.html\"},\"timezone\":\"Europe/Berlin\",\"userAgent\":\"Mozilla/5.0 (Windows NT 10.0; Win64; x64) AppleWebKit/537.36 (KHTML, like Gecko) Chrome/112.0.0.0 Safari/537.36\",\"userAgentData\":{\"brands\":[{\"brand\":\"Chromium\",\"version\":\"112\"},{\"brand\":\"Google Chrome\",\"version\":\"112\"},{\"brand\":\"Not:A-Brand\",\"version\":\"99\"}],\"mobile\":false,\"platform\":\"Windows\"}},\"integrations\":{\"Salesforce\":true},\"messageId\":\"ajs-next-1b223211c54cba8dc7e29059699b42e1\",\"originalTimestamp\":\"2023-11-16T11:42:12.354Z\",\"projectId\":\"pGmYy5aVoCQqk1qGQQ1Z1h\",\"receivedAt\":\"2023-11-16T11:42:13.942Z\",\"sentAt\":\"2023-11-16T11:42:12.361Z\",\"timestamp\":\"2023-11-16T11:42:13.935Z\",\"traits\":{\"Obesity\":\"true\",\"VaccinationsUpToDate\":\"true\",\"address\":\"2 Via Asiago\",\"age\":\"78\",\"breed\":\"bulldog\",\"breedPredisposition\":\"true\",\"category\":\"Marketing\",\"clicked_random_link\":\"true\",\"diet\":\"hjhj\",\"email\":\"admin@ir.kz\",\"exercise\":\"7\",\"geneticFactors\":\"true\",\"id\":\"6\",\"is_first_session\":\"true\",\"leadSource\":\"Newsletter\",\"name\":\"Kozy-Korpesh Tolep\",\"previoushealthconditions\":\"hjh\",\"viewed_product\":\"true\",\"weight\":\"78\"},\"type\":\"identify\",\"userId\":\"12345\",\"version\":2                                           }</td></tr><tr><td>{\"_metadata\":{\"bundled\":[\"Segment.io\"],\"bundledIds\":[],\"unbundled\":[]},\"anonymousId\":\"bafd4d6a-1a95-460d-aae7-611d32052d8b\",\"channel\":\"client\",\"context\":{\"ip\":\"93.47.20.8\",\"library\":{\"name\":\"analytics.js\",\"version\":\"next-1.61.0\"},\"locale\":\"ru-RU\",\"page\":{\"path\":\"/C:/Users/Kozy-Korpesh/Desktop/datapalooza/website/pet_profile.html\",\"referrer\":\"\",\"search\":\"\",\"title\":\"Pet Profile Form\",\"url\":\"file:///C:/Users/Kozy-Korpesh/Desktop/datapalooza/website/pet_profile.html\"},\"timezone\":\"Europe/Berlin\",\"userAgent\":\"Mozilla/5.0 (Windows NT 10.0; Win64; x64) AppleWebKit/537.36 (KHTML, like Gecko) Chrome/112.0.0.0 Safari/537.36\",\"userAgentData\":{\"brands\":[{\"brand\":\"Chromium\",\"version\":\"112\"},{\"brand\":\"Google Chrome\",\"version\":\"112\"},{\"brand\":\"Not:A-Brand\",\"version\":\"99\"}],\"mobile\":false,\"platform\":\"Windows\"}},\"event\":\"Pet profile Submitted\",\"integrations\":{},\"messageId\":\"ajs-next-42e55c8a1e602474926282b5fb5856d0\",\"originalTimestamp\":\"2023-11-16T11:42:12.356Z\",\"projectId\":\"pGmYy5aVoCQqk1qGQQ1Z1h\",\"properties\":{\"type\":\"Lead Generation\"},\"receivedAt\":\"2023-11-16T11:42:13.942Z\",\"sentAt\":\"2023-11-16T11:42:12.362Z\",\"timestamp\":\"2023-11-16T11:42:13.936Z\",\"type\":\"track\",\"userId\":\"12345\",\"version\":2                                           }</td></tr><tr><td>{\"_metadata\":{\"bundled\":[\"Segment.io\"],\"bundledIds\":[],\"unbundled\":[]},\"anonymousId\":\"bafd4d6a-1a95-460d-aae7-611d32052d8b\",\"channel\":\"client\",\"context\":{\"ip\":\"93.47.20.8\",\"library\":{\"name\":\"analytics.js\",\"version\":\"next-1.61.0\"},\"locale\":\"ru-RU\",\"page\":{\"path\":\"/C:/Users/Kozy-Korpesh/Desktop/datapalooza/website/pet_profile.html\",\"referrer\":\"\",\"search\":\"\",\"title\":\"Pet Profile Form\",\"url\":\"file:///C:/Users/Kozy-Korpesh/Desktop/datapalooza/website/pet_profile.html\"},\"timezone\":\"Europe/Berlin\",\"userAgent\":\"Mozilla/5.0 (Windows NT 10.0; Win64; x64) AppleWebKit/537.36 (KHTML, like Gecko) Chrome/112.0.0.0 Safari/537.36\",\"userAgentData\":{\"brands\":[{\"brand\":\"Chromium\",\"version\":\"112\"},{\"brand\":\"Google Chrome\",\"version\":\"112\"},{\"brand\":\"Not:A-Brand\",\"version\":\"99\"}],\"mobile\":false,\"platform\":\"Windows\"}},\"integrations\":{\"Salesforce\":true},\"messageId\":\"ajs-next-261ac8031a16257e8e97a0df453bf866\",\"originalTimestamp\":\"2023-11-16T11:42:11.293Z\",\"projectId\":\"pGmYy5aVoCQqk1qGQQ1Z1h\",\"receivedAt\":\"2023-11-16T11:42:13.249Z\",\"sentAt\":\"2023-11-16T11:42:11.305Z\",\"timestamp\":\"2023-11-16T11:42:13.237Z\",\"traits\":{\"Obesity\":\"true\",\"VaccinationsUpToDate\":\"true\",\"address\":\"2 Via Asiago\",\"age\":\"78\",\"breed\":\"bulldog\",\"breedPredisposition\":\"true\",\"category\":\"Marketing\",\"clicked_random_link\":\"true\",\"diet\":\"hjhj\",\"email\":\"admin@ir.kz\",\"exercise\":\"7\",\"geneticFactors\":\"true\",\"id\":\"6\",\"is_first_session\":\"true\",\"leadSource\":\"Newsletter\",\"name\":\"Kozy-Korpesh Tolep\",\"previoushealthconditions\":\"hjh\",\"viewed_product\":\"true\",\"weight\":\"78\"},\"type\":\"identify\",\"userId\":\"12345\",\"version\":2                                           }</td></tr><tr><td>{\"_metadata\":{\"bundled\":[\"Segment.io\"],\"bundledIds\":[],\"unbundled\":[]},\"anonymousId\":\"bafd4d6a-1a95-460d-aae7-611d32052d8b\",\"channel\":\"client\",\"context\":{\"ip\":\"93.47.20.8\",\"library\":{\"name\":\"analytics.js\",\"version\":\"next-1.61.0\"},\"locale\":\"ru-RU\",\"page\":{\"path\":\"/C:/Users/Kozy-Korpesh/Desktop/datapalooza/website/pet_profile.html\",\"referrer\":\"\",\"search\":\"\",\"title\":\"Pet Profile Form\",\"url\":\"file:///C:/Users/Kozy-Korpesh/Desktop/datapalooza/website/pet_profile.html\"},\"timezone\":\"Europe/Berlin\",\"userAgent\":\"Mozilla/5.0 (Windows NT 10.0; Win64; x64) AppleWebKit/537.36 (KHTML, like Gecko) Chrome/112.0.0.0 Safari/537.36\",\"userAgentData\":{\"brands\":[{\"brand\":\"Chromium\",\"version\":\"112\"},{\"brand\":\"Google Chrome\",\"version\":\"112\"},{\"brand\":\"Not:A-Brand\",\"version\":\"99\"}],\"mobile\":false,\"platform\":\"Windows\"}},\"integrations\":{\"Salesforce\":true},\"messageId\":\"ajs-next-79a176462175f8a82e1e4390890ebd84\",\"originalTimestamp\":\"2023-11-16T11:42:12.586Z\",\"projectId\":\"pGmYy5aVoCQqk1qGQQ1Z1h\",\"receivedAt\":\"2023-11-16T11:42:14.172Z\",\"sentAt\":\"2023-11-16T11:42:12.592Z\",\"timestamp\":\"2023-11-16T11:42:14.166Z\",\"traits\":{\"Obesity\":\"true\",\"VaccinationsUpToDate\":\"true\",\"address\":\"2 Via Asiago\",\"age\":\"78\",\"breed\":\"bulldog\",\"breedPredisposition\":\"true\",\"category\":\"Marketing\",\"clicked_random_link\":\"true\",\"diet\":\"hjhj\",\"email\":\"admin@ir.kz\",\"exercise\":\"7\",\"geneticFactors\":\"true\",\"id\":\"6\",\"is_first_session\":\"true\",\"leadSource\":\"Newsletter\",\"name\":\"Kozy-Korpesh Tolep\",\"previoushealthconditions\":\"hjh\",\"viewed_product\":\"true\",\"weight\":\"78\"},\"type\":\"identify\",\"userId\":\"12345\",\"version\":2                                           }</td></tr><tr><td>{\"_metadata\":{\"bundled\":[\"Segment.io\"],\"bundledIds\":[],\"unbundled\":[]},\"anonymousId\":\"bafd4d6a-1a95-460d-aae7-611d32052d8b\",\"channel\":\"client\",\"context\":{\"ip\":\"93.47.20.8\",\"library\":{\"name\":\"analytics.js\",\"version\":\"next-1.61.0\"},\"locale\":\"ru-RU\",\"page\":{\"path\":\"/C:/Users/Kozy-Korpesh/Desktop/datapalooza/website/pet_profile.html\",\"referrer\":\"\",\"search\":\"\",\"title\":\"Pet Profile Form\",\"url\":\"file:///C:/Users/Kozy-Korpesh/Desktop/datapalooza/website/pet_profile.html\"},\"timezone\":\"Europe/Berlin\",\"userAgent\":\"Mozilla/5.0 (Windows NT 10.0; Win64; x64) AppleWebKit/537.36 (KHTML, like Gecko) Chrome/112.0.0.0 Safari/537.36\",\"userAgentData\":{\"brands\":[{\"brand\":\"Chromium\",\"version\":\"112\"},{\"brand\":\"Google Chrome\",\"version\":\"112\"},{\"brand\":\"Not:A-Brand\",\"version\":\"99\"}],\"mobile\":false,\"platform\":\"Windows\"}},\"event\":\"Pet profile Submitted\",\"integrations\":{},\"messageId\":\"ajs-next-aa0afa9335eb7f4f058a2b2e48ac3f04\",\"originalTimestamp\":\"2023-11-16T11:42:12.588Z\",\"projectId\":\"pGmYy5aVoCQqk1qGQQ1Z1h\",\"properties\":{\"type\":\"Lead Generation\"},\"receivedAt\":\"2023-11-16T11:42:14.172Z\",\"sentAt\":\"2023-11-16T11:42:12.593Z\",\"timestamp\":\"2023-11-16T11:42:14.167Z\",\"type\":\"track\",\"userId\":\"12345\",\"version\":2                                           }</td></tr><tr><td>{\"_metadata\":{\"bundled\":[\"Segment.io\"],\"bundledIds\":[],\"unbundled\":[]},\"anonymousId\":\"bafd4d6a-1a95-460d-aae7-611d32052d8b\",\"channel\":\"client\",\"context\":{\"ip\":\"93.47.20.8\",\"library\":{\"name\":\"analytics.js\",\"version\":\"next-1.61.0\"},\"locale\":\"ru-RU\",\"page\":{\"path\":\"/C:/Users/Kozy-Korpesh/Desktop/datapalooza/website/pet_profile.html\",\"referrer\":\"\",\"search\":\"\",\"title\":\"Pet Profile Form\",\"url\":\"file:///C:/Users/Kozy-Korpesh/Desktop/datapalooza/website/pet_profile.html\"},\"timezone\":\"Europe/Berlin\",\"userAgent\":\"Mozilla/5.0 (Windows NT 10.0; Win64; x64) AppleWebKit/537.36 (KHTML, like Gecko) Chrome/112.0.0.0 Safari/537.36\",\"userAgentData\":{\"brands\":[{\"brand\":\"Chromium\",\"version\":\"112\"},{\"brand\":\"Google Chrome\",\"version\":\"112\"},{\"brand\":\"Not:A-Brand\",\"version\":\"99\"}],\"mobile\":false,\"platform\":\"Windows\"}},\"integrations\":{\"Salesforce\":true},\"messageId\":\"ajs-next-44b9834a4bc2694f60a4e989468c0221\",\"originalTimestamp\":\"2023-11-16T12:03:01.383Z\",\"projectId\":\"pGmYy5aVoCQqk1qGQQ1Z1h\",\"receivedAt\":\"2023-11-16T12:03:03.160Z\",\"sentAt\":\"2023-11-16T12:03:01.385Z\",\"timestamp\":\"2023-11-16T12:03:03.158Z\",\"traits\":{\"Obesity\":\"true\",\"VaccinationsUpToDate\":\"true\",\"address\":\"2 Via Asiago\",\"age\":\"78\",\"breed\":\"bulldog\",\"breedPredisposition\":\"true\",\"category\":\"Marketing\",\"clicked_random_link\":\"true\",\"diet\":\"hjhj\",\"email\":\"admin@ir.kz\",\"exercise\":\"7\",\"geneticFactors\":\"true\",\"id\":\"5\",\"is_first_session\":\"true\",\"leadSource\":\"Newsletter\",\"name\":\"Kozy-Korpesh Tolep\",\"previoushealthconditions\":\"hjh\",\"viewed_product\":\"true\",\"weight\":\"78\"},\"type\":\"identify\",\"userId\":\"12345\",\"version\":2                                           }</td></tr><tr><td>{\"_metadata\":{\"bundled\":[\"Segment.io\"],\"bundledIds\":[],\"unbundled\":[]},\"anonymousId\":\"bafd4d6a-1a95-460d-aae7-611d32052d8b\",\"channel\":\"client\",\"context\":{\"ip\":\"93.47.20.8\",\"library\":{\"name\":\"analytics.js\",\"version\":\"next-1.61.0\"},\"locale\":\"ru-RU\",\"page\":{\"path\":\"/C:/Users/Kozy-Korpesh/Desktop/datapalooza/website/pet_profile.html\",\"referrer\":\"\",\"search\":\"\",\"title\":\"Pet Profile Form\",\"url\":\"file:///C:/Users/Kozy-Korpesh/Desktop/datapalooza/website/pet_profile.html\"},\"timezone\":\"Europe/Berlin\",\"userAgent\":\"Mozilla/5.0 (Windows NT 10.0; Win64; x64) AppleWebKit/537.36 (KHTML, like Gecko) Chrome/112.0.0.0 Safari/537.36\",\"userAgentData\":{\"brands\":[{\"brand\":\"Chromium\",\"version\":\"112\"},{\"brand\":\"Google Chrome\",\"version\":\"112\"},{\"brand\":\"Not:A-Brand\",\"version\":\"99\"}],\"mobile\":false,\"platform\":\"Windows\"}},\"event\":\"Pet profile Submitted\",\"integrations\":{},\"messageId\":\"ajs-next-727c920afe12056d5e39460c5b020958\",\"originalTimestamp\":\"2023-11-16T12:03:01.384Z\",\"projectId\":\"pGmYy5aVoCQqk1qGQQ1Z1h\",\"properties\":{\"type\":\"Lead Generation\"},\"receivedAt\":\"2023-11-16T12:03:03.160Z\",\"sentAt\":\"2023-11-16T12:03:01.386Z\",\"timestamp\":\"2023-11-16T12:03:03.158Z\",\"type\":\"track\",\"userId\":\"12345\",\"version\":2                                           }</td></tr><tr><td>{\"_metadata\":{\"bundled\":[\"Segment.io\"],\"bundledIds\":[],\"unbundled\":[]},\"anonymousId\":\"bafd4d6a-1a95-460d-aae7-611d32052d8b\",\"channel\":\"client\",\"context\":{\"ip\":\"93.47.20.8\",\"library\":{\"name\":\"analytics.js\",\"version\":\"next-1.61.0\"},\"locale\":\"ru-RU\",\"page\":{\"path\":\"/C:/Users/Kozy-Korpesh/Desktop/datapalooza/website/pet_profile.html\",\"referrer\":\"\",\"search\":\"\",\"title\":\"Pet Profile Form\",\"url\":\"file:///C:/Users/Kozy-Korpesh/Desktop/datapalooza/website/pet_profile.html\"},\"timezone\":\"Europe/Berlin\",\"userAgent\":\"Mozilla/5.0 (Windows NT 10.0; Win64; x64) AppleWebKit/537.36 (KHTML, like Gecko) Chrome/112.0.0.0 Safari/537.36\",\"userAgentData\":{\"brands\":[{\"brand\":\"Chromium\",\"version\":\"112\"},{\"brand\":\"Google Chrome\",\"version\":\"112\"},{\"brand\":\"Not:A-Brand\",\"version\":\"99\"}],\"mobile\":false,\"platform\":\"Windows\"}},\"event\":\"Pet profile Submitted\",\"integrations\":{},\"messageId\":\"ajs-next-bf2e3e0911680a7edeb9212d34125196\",\"originalTimestamp\":\"2023-11-16T12:03:04.626Z\",\"projectId\":\"pGmYy5aVoCQqk1qGQQ1Z1h\",\"properties\":{\"type\":\"Lead Generation\"},\"receivedAt\":\"2023-11-16T12:03:06.044Z\",\"sentAt\":\"2023-11-16T12:03:04.629Z\",\"timestamp\":\"2023-11-16T12:03:06.041Z\",\"type\":\"track\",\"userId\":\"12345\",\"version\":2                                           }</td></tr><tr><td>{\"_metadata\":{\"bundled\":[\"Segment.io\"],\"bundledIds\":[],\"unbundled\":[]},\"anonymousId\":\"bafd4d6a-1a95-460d-aae7-611d32052d8b\",\"channel\":\"client\",\"context\":{\"ip\":\"93.47.20.8\",\"library\":{\"name\":\"analytics.js\",\"version\":\"next-1.61.0\"},\"locale\":\"ru-RU\",\"page\":{\"path\":\"/C:/Users/Kozy-Korpesh/Desktop/datapalooza/website/pet_profile.html\",\"referrer\":\"\",\"search\":\"\",\"title\":\"Pet Profile Form\",\"url\":\"file:///C:/Users/Kozy-Korpesh/Desktop/datapalooza/website/pet_profile.html\"},\"timezone\":\"Europe/Berlin\",\"userAgent\":\"Mozilla/5.0 (Windows NT 10.0; Win64; x64) AppleWebKit/537.36 (KHTML, like Gecko) Chrome/112.0.0.0 Safari/537.36\",\"userAgentData\":{\"brands\":[{\"brand\":\"Chromium\",\"version\":\"112\"},{\"brand\":\"Google Chrome\",\"version\":\"112\"},{\"brand\":\"Not:A-Brand\",\"version\":\"99\"}],\"mobile\":false,\"platform\":\"Windows\"}},\"integrations\":{\"Salesforce\":true},\"messageId\":\"ajs-next-0b0289e5f8a870d932c91f9a4f4e45d0\",\"originalTimestamp\":\"2023-11-16T12:03:04.625Z\",\"projectId\":\"pGmYy5aVoCQqk1qGQQ1Z1h\",\"receivedAt\":\"2023-11-16T12:03:06.044Z\",\"sentAt\":\"2023-11-16T12:03:04.628Z\",\"timestamp\":\"2023-11-16T12:03:06.041Z\",\"traits\":{\"Obesity\":\"true\",\"VaccinationsUpToDate\":\"true\",\"address\":\"2 Via Asiago\",\"age\":\"78\",\"breed\":\"bulldog\",\"breedPredisposition\":\"true\",\"category\":\"Marketing\",\"clicked_random_link\":\"true\",\"diet\":\"hjhj\",\"email\":\"admin@ir.kz\",\"exercise\":\"7\",\"geneticFactors\":\"true\",\"id\":\"4\",\"is_first_session\":\"true\",\"leadSource\":\"Newsletter\",\"name\":\"Kozy-Korpesh Tolep\",\"previoushealthconditions\":\"hjh\",\"viewed_product\":\"true\",\"weight\":\"78\"},\"type\":\"identify\",\"userId\":\"12345\",\"version\":2                                           }</td></tr><tr><td>{\"_metadata\":{\"bundled\":[\"Segment.io\"],\"bundledIds\":[],\"unbundled\":[]},\"anonymousId\":\"bafd4d6a-1a95-460d-aae7-611d32052d8b\",\"channel\":\"client\",\"context\":{\"ip\":\"93.47.20.8\",\"library\":{\"name\":\"analytics.js\",\"version\":\"next-1.61.0\"},\"locale\":\"ru-RU\",\"page\":{\"path\":\"/C:/Users/Kozy-Korpesh/Desktop/datapalooza/website/pet_profile.html\",\"referrer\":\"\",\"search\":\"\",\"title\":\"Pet Profile Form\",\"url\":\"file:///C:/Users/Kozy-Korpesh/Desktop/datapalooza/website/pet_profile.html\"},\"timezone\":\"Europe/Berlin\",\"userAgent\":\"Mozilla/5.0 (Windows NT 10.0; Win64; x64) AppleWebKit/537.36 (KHTML, like Gecko) Chrome/112.0.0.0 Safari/537.36\",\"userAgentData\":{\"brands\":[{\"brand\":\"Chromium\",\"version\":\"112\"},{\"brand\":\"Google Chrome\",\"version\":\"112\"},{\"brand\":\"Not:A-Brand\",\"version\":\"99\"}],\"mobile\":false,\"platform\":\"Windows\"}},\"integrations\":{\"Salesforce\":true},\"messageId\":\"ajs-next-73603ed3cac8e4f1ce136386ddf12fcd\",\"originalTimestamp\":\"2023-11-16T12:10:26.885Z\",\"projectId\":\"pGmYy5aVoCQqk1qGQQ1Z1h\",\"receivedAt\":\"2023-11-16T12:10:28.684Z\",\"sentAt\":\"2023-11-16T12:10:26.889Z\",\"timestamp\":\"2023-11-16T12:10:28.680Z\",\"traits\":{\"Obesity\":\"true\",\"VaccinationsUpToDate\":\"true\",\"address\":\"2 Via Asiago\",\"age\":\"78\",\"breed\":\"bulldog\",\"breedPredisposition\":\"true\",\"category\":\"Marketing\",\"clicked_random_link\":\"true\",\"diet\":\"hjhj\",\"email\":\"admin@ir.kz\",\"exercise\":\"7\",\"geneticFactors\":\"true\",\"id\":\"4\",\"is_first_session\":\"true\",\"leadSource\":\"Newsletter\",\"name\":\"Kozy-Korpesh Tolep\",\"previoushealthconditions\":\"hjh\",\"viewed_product\":\"true\",\"weight\":\"78\"},\"type\":\"identify\",\"userId\":\"12345\",\"version\":2                                           }</td></tr><tr><td>{\"_metadata\":{\"bundled\":[\"Segment.io\"],\"bundledIds\":[],\"unbundled\":[]},\"anonymousId\":\"bafd4d6a-1a95-460d-aae7-611d32052d8b\",\"channel\":\"client\",\"context\":{\"ip\":\"93.47.20.8\",\"library\":{\"name\":\"analytics.js\",\"version\":\"next-1.61.0\"},\"locale\":\"ru-RU\",\"page\":{\"path\":\"/C:/Users/Kozy-Korpesh/Desktop/datapalooza/website/pet_profile.html\",\"referrer\":\"\",\"search\":\"\",\"title\":\"Pet Profile Form\",\"url\":\"file:///C:/Users/Kozy-Korpesh/Desktop/datapalooza/website/pet_profile.html\"},\"timezone\":\"Europe/Berlin\",\"userAgent\":\"Mozilla/5.0 (Windows NT 10.0; Win64; x64) AppleWebKit/537.36 (KHTML, like Gecko) Chrome/112.0.0.0 Safari/537.36\",\"userAgentData\":{\"brands\":[{\"brand\":\"Chromium\",\"version\":\"112\"},{\"brand\":\"Google Chrome\",\"version\":\"112\"},{\"brand\":\"Not:A-Brand\",\"version\":\"99\"}],\"mobile\":false,\"platform\":\"Windows\"}},\"event\":\"Pet profile Submitted\",\"integrations\":{},\"messageId\":\"ajs-next-72dd46f77a263a90d9d4a18c6f370244\",\"originalTimestamp\":\"2023-11-16T12:10:26.886Z\",\"projectId\":\"pGmYy5aVoCQqk1qGQQ1Z1h\",\"properties\":{\"type\":\"Lead Generation\"},\"receivedAt\":\"2023-11-16T12:10:28.683Z\",\"sentAt\":\"2023-11-16T12:10:26.889Z\",\"timestamp\":\"2023-11-16T12:10:28.680Z\",\"type\":\"track\",\"userId\":\"12345\",\"version\":2                                           }</td></tr><tr><td>{\"_metadata\":{\"bundled\":[\"Segment.io\"],\"bundledIds\":[],\"unbundled\":[]},\"anonymousId\":\"bafd4d6a-1a95-460d-aae7-611d32052d8b\",\"channel\":\"client\",\"context\":{\"ip\":\"93.47.20.8\",\"library\":{\"name\":\"analytics.js\",\"version\":\"next-1.61.0\"},\"locale\":\"ru-RU\",\"page\":{\"path\":\"/C:/Users/Kozy-Korpesh/Desktop/datapalooza/website/pet_profile.html\",\"referrer\":\"\",\"search\":\"\",\"title\":\"Pet Profile Form\",\"url\":\"file:///C:/Users/Kozy-Korpesh/Desktop/datapalooza/website/pet_profile.html\"},\"timezone\":\"Europe/Berlin\",\"userAgent\":\"Mozilla/5.0 (Windows NT 10.0; Win64; x64) AppleWebKit/537.36 (KHTML, like Gecko) Chrome/112.0.0.0 Safari/537.36\",\"userAgentData\":{\"brands\":[{\"brand\":\"Chromium\",\"version\":\"112\"},{\"brand\":\"Google Chrome\",\"version\":\"112\"},{\"brand\":\"Not:A-Brand\",\"version\":\"99\"}],\"mobile\":false,\"platform\":\"Windows\"}},\"integrations\":{\"Salesforce\":true},\"messageId\":\"ajs-next-852ac40fa88059a35d1b9d8ff9069f0b\",\"originalTimestamp\":\"2023-11-16T12:10:28.205Z\",\"projectId\":\"pGmYy5aVoCQqk1qGQQ1Z1h\",\"receivedAt\":\"2023-11-16T12:10:29.635Z\",\"sentAt\":\"2023-11-16T12:10:28.209Z\",\"timestamp\":\"2023-11-16T12:10:29.631Z\",\"traits\":{\"Obesity\":\"true\",\"VaccinationsUpToDate\":\"true\",\"address\":\"2 Via Asiago\",\"age\":\"78\",\"breed\":\"bulldog\",\"breedPredisposition\":\"true\",\"category\":\"Marketing\",\"clicked_random_link\":\"true\",\"diet\":\"hjhj\",\"email\":\"admin@ir.kz\",\"exercise\":\"7\",\"geneticFactors\":\"true\",\"id\":\"4\",\"is_first_session\":\"true\",\"leadSource\":\"Newsletter\",\"name\":\"Kozy-Korpesh Tolep\",\"previoushealthconditions\":\"hjh\",\"viewed_product\":\"true\",\"weight\":\"78\"},\"type\":\"identify\",\"userId\":\"12345\",\"version\":2                                           }</td></tr><tr><td>{\"_metadata\":{\"bundled\":[\"Segment.io\"],\"bundledIds\":[],\"unbundled\":[]},\"anonymousId\":\"bafd4d6a-1a95-460d-aae7-611d32052d8b\",\"channel\":\"client\",\"context\":{\"ip\":\"93.47.20.8\",\"library\":{\"name\":\"analytics.js\",\"version\":\"next-1.61.0\"},\"locale\":\"ru-RU\",\"page\":{\"path\":\"/C:/Users/Kozy-Korpesh/Desktop/datapalooza/website/pet_profile.html\",\"referrer\":\"\",\"search\":\"\",\"title\":\"Pet Profile Form\",\"url\":\"file:///C:/Users/Kozy-Korpesh/Desktop/datapalooza/website/pet_profile.html\"},\"timezone\":\"Europe/Berlin\",\"userAgent\":\"Mozilla/5.0 (Windows NT 10.0; Win64; x64) AppleWebKit/537.36 (KHTML, like Gecko) Chrome/112.0.0.0 Safari/537.36\",\"userAgentData\":{\"brands\":[{\"brand\":\"Chromium\",\"version\":\"112\"},{\"brand\":\"Google Chrome\",\"version\":\"112\"},{\"brand\":\"Not:A-Brand\",\"version\":\"99\"}],\"mobile\":false,\"platform\":\"Windows\"}},\"event\":\"Pet profile Submitted\",\"integrations\":{},\"messageId\":\"ajs-next-38dccd2632e0302ba4b5b63a76c58a0f\",\"originalTimestamp\":\"2023-11-16T12:10:28.207Z\",\"projectId\":\"pGmYy5aVoCQqk1qGQQ1Z1h\",\"properties\":{\"type\":\"Lead Generation\"},\"receivedAt\":\"2023-11-16T12:10:29.635Z\",\"sentAt\":\"2023-11-16T12:10:28.210Z\",\"timestamp\":\"2023-11-16T12:10:29.632Z\",\"type\":\"track\",\"userId\":\"12345\",\"version\":2                                           }</td></tr><tr><td>{\"_metadata\":{\"bundled\":[\"Segment.io\"],\"bundledIds\":[],\"unbundled\":[]},\"anonymousId\":\"bafd4d6a-1a95-460d-aae7-611d32052d8b\",\"channel\":\"client\",\"context\":{\"ip\":\"93.47.20.8\",\"library\":{\"name\":\"analytics.js\",\"version\":\"next-1.61.0\"},\"locale\":\"ru-RU\",\"page\":{\"path\":\"/C:/Users/Kozy-Korpesh/Desktop/datapalooza/website/pet_profile.html\",\"referrer\":\"\",\"search\":\"\",\"title\":\"Pet Profile Form\",\"url\":\"file:///C:/Users/Kozy-Korpesh/Desktop/datapalooza/website/pet_profile.html\"},\"timezone\":\"Europe/Berlin\",\"userAgent\":\"Mozilla/5.0 (Windows NT 10.0; Win64; x64) AppleWebKit/537.36 (KHTML, like Gecko) Chrome/112.0.0.0 Safari/537.36\",\"userAgentData\":{\"brands\":[{\"brand\":\"Chromium\",\"version\":\"112\"},{\"brand\":\"Google Chrome\",\"version\":\"112\"},{\"brand\":\"Not:A-Brand\",\"version\":\"99\"}],\"mobile\":false,\"platform\":\"Windows\"}},\"integrations\":{\"Salesforce\":true},\"messageId\":\"ajs-next-c141eaafe550e7ebfb5301ae6b3f1d34\",\"originalTimestamp\":\"2023-11-16T12:10:30.069Z\",\"projectId\":\"pGmYy5aVoCQqk1qGQQ1Z1h\",\"receivedAt\":\"2023-11-16T12:10:31.500Z\",\"sentAt\":\"2023-11-16T12:10:30.073Z\",\"timestamp\":\"2023-11-16T12:10:31.496Z\",\"traits\":{\"Obesity\":\"true\",\"VaccinationsUpToDate\":\"true\",\"address\":\"2 Via Asiago\",\"age\":\"78\",\"breed\":\"bulldog\",\"breedPredisposition\":\"true\",\"category\":\"Marketing\",\"clicked_random_link\":\"true\",\"diet\":\"hjhj\",\"email\":\"admin@ir.kz\",\"exercise\":\"7\",\"geneticFactors\":\"true\",\"id\":\"4\",\"is_first_session\":\"true\",\"leadSource\":\"Newsletter\",\"name\":\"Kozy-Korpesh Tolep\",\"previoushealthconditions\":\"hjh\",\"viewed_product\":\"true\",\"weight\":\"78\"},\"type\":\"identify\",\"userId\":\"12345\",\"version\":2                                           }</td></tr><tr><td>{\"_metadata\":{\"bundled\":[\"Segment.io\"],\"bundledIds\":[],\"unbundled\":[]},\"anonymousId\":\"bafd4d6a-1a95-460d-aae7-611d32052d8b\",\"channel\":\"client\",\"context\":{\"ip\":\"93.47.20.8\",\"library\":{\"name\":\"analytics.js\",\"version\":\"next-1.61.0\"},\"locale\":\"ru-RU\",\"page\":{\"path\":\"/C:/Users/Kozy-Korpesh/Desktop/datapalooza/website/pet_profile.html\",\"referrer\":\"\",\"search\":\"\",\"title\":\"Pet Profile Form\",\"url\":\"file:///C:/Users/Kozy-Korpesh/Desktop/datapalooza/website/pet_profile.html\"},\"timezone\":\"Europe/Berlin\",\"userAgent\":\"Mozilla/5.0 (Windows NT 10.0; Win64; x64) AppleWebKit/537.36 (KHTML, like Gecko) Chrome/112.0.0.0 Safari/537.36\",\"userAgentData\":{\"brands\":[{\"brand\":\"Chromium\",\"version\":\"112\"},{\"brand\":\"Google Chrome\",\"version\":\"112\"},{\"brand\":\"Not:A-Brand\",\"version\":\"99\"}],\"mobile\":false,\"platform\":\"Windows\"}},\"event\":\"Pet profile Submitted\",\"integrations\":{},\"messageId\":\"ajs-next-89109f53a9c544faa3452fca4299e7f7\",\"originalTimestamp\":\"2023-11-16T12:10:30.070Z\",\"projectId\":\"pGmYy5aVoCQqk1qGQQ1Z1h\",\"properties\":{\"type\":\"Lead Generation\"},\"receivedAt\":\"2023-11-16T12:10:31.500Z\",\"sentAt\":\"2023-11-16T12:10:30.074Z\",\"timestamp\":\"2023-11-16T12:10:31.496Z\",\"type\":\"track\",\"userId\":\"12345\",\"version\":2                                           }</td></tr><tr><td>{\"_metadata\":{\"bundled\":[\"Segment.io\"],\"bundledIds\":[],\"unbundled\":[]},\"anonymousId\":\"bafd4d6a-1a95-460d-aae7-611d32052d8b\",\"channel\":\"client\",\"context\":{\"ip\":\"93.47.20.8\",\"library\":{\"name\":\"analytics.js\",\"version\":\"next-1.61.0\"},\"locale\":\"ru-RU\",\"page\":{\"path\":\"/C:/Users/Kozy-Korpesh/Desktop/datapalooza/website/pet_profile.html\",\"referrer\":\"\",\"search\":\"\",\"title\":\"Pet Profile Form\",\"url\":\"file:///C:/Users/Kozy-Korpesh/Desktop/datapalooza/website/pet_profile.html\"},\"timezone\":\"Europe/Berlin\",\"userAgent\":\"Mozilla/5.0 (Windows NT 10.0; Win64; x64) AppleWebKit/537.36 (KHTML, like Gecko) Chrome/112.0.0.0 Safari/537.36\",\"userAgentData\":{\"brands\":[{\"brand\":\"Chromium\",\"version\":\"112\"},{\"brand\":\"Google Chrome\",\"version\":\"112\"},{\"brand\":\"Not:A-Brand\",\"version\":\"99\"}],\"mobile\":false,\"platform\":\"Windows\"}},\"integrations\":{\"Salesforce\":true},\"messageId\":\"ajs-next-3d95f4061459b86f3ddf490ddc99d505\",\"originalTimestamp\":\"2023-11-16T12:17:09.777Z\",\"projectId\":\"pGmYy5aVoCQqk1qGQQ1Z1h\",\"receivedAt\":\"2023-11-16T12:17:11.572Z\",\"sentAt\":\"2023-11-16T12:17:09.781Z\",\"timestamp\":\"2023-11-16T12:17:11.568Z\",\"traits\":{\"Obesity\":\"true\",\"VaccinationsUpToDate\":\"true\",\"address\":\"2 Via Asiago\",\"age\":\"78\",\"breed\":\"bulldog\",\"breedPredisposition\":\"true\",\"category\":\"Marketing\",\"clicked_random_link\":\"true\",\"diet\":\"hjhj\",\"email\":\"admin@ir.kz\",\"exercise\":\"7\",\"geneticFactors\":\"true\",\"id\":\"4\",\"is_first_session\":\"true\",\"leadSource\":\"Newsletter\",\"name\":\"Kozy-Korpesh Tolep\",\"previoushealthconditions\":\"hjh\",\"viewed_product\":\"true\",\"weight\":\"78\"},\"type\":\"identify\",\"userId\":\"12345\",\"version\":2                                           }</td></tr><tr><td>{\"_metadata\":{\"bundled\":[\"Segment.io\"],\"bundledIds\":[],\"unbundled\":[]},\"anonymousId\":\"bafd4d6a-1a95-460d-aae7-611d32052d8b\",\"channel\":\"client\",\"context\":{\"ip\":\"93.47.20.8\",\"library\":{\"name\":\"analytics.js\",\"version\":\"next-1.61.0\"},\"locale\":\"ru-RU\",\"page\":{\"path\":\"/C:/Users/Kozy-Korpesh/Desktop/datapalooza/website/pet_profile.html\",\"referrer\":\"\",\"search\":\"\",\"title\":\"Pet Profile Form\",\"url\":\"file:///C:/Users/Kozy-Korpesh/Desktop/datapalooza/website/pet_profile.html\"},\"timezone\":\"Europe/Berlin\",\"userAgent\":\"Mozilla/5.0 (Windows NT 10.0; Win64; x64) AppleWebKit/537.36 (KHTML, like Gecko) Chrome/112.0.0.0 Safari/537.36\",\"userAgentData\":{\"brands\":[{\"brand\":\"Chromium\",\"version\":\"112\"},{\"brand\":\"Google Chrome\",\"version\":\"112\"},{\"brand\":\"Not:A-Brand\",\"version\":\"99\"}],\"mobile\":false,\"platform\":\"Windows\"}},\"event\":\"Pet profile Submitted\",\"integrations\":{},\"messageId\":\"ajs-next-1ec167ffb9a7fc6e6e1d9c62314428b5\",\"originalTimestamp\":\"2023-11-16T12:17:09.779Z\",\"projectId\":\"pGmYy5aVoCQqk1qGQQ1Z1h\",\"properties\":{\"type\":\"Lead Generation\"},\"receivedAt\":\"2023-11-16T12:17:11.572Z\",\"sentAt\":\"2023-11-16T12:17:09.782Z\",\"timestamp\":\"2023-11-16T12:17:11.569Z\",\"type\":\"track\",\"userId\":\"12345\",\"version\":2                                           }</td></tr><tr><td>{\"_metadata\":{\"bundled\":[\"Segment.io\"],\"bundledIds\":[],\"unbundled\":[]},\"anonymousId\":\"1adad8dc-cb78-4806-b83e-3b313b672267\",\"channel\":\"client\",\"context\":{\"ip\":\"93.47.20.8\",\"library\":{\"name\":\"analytics.js\",\"version\":\"next-1.61.0\"},\"locale\":\"ru\",\"page\":{\"path\":\"/datapalooza/website/\",\"referrer\":\"\",\"search\":\"\",\"title\":\"Pet Caring Services\",\"url\":\"https://kozeke.github.io/datapalooza/website/\"},\"timezone\":\"Europe/Berlin\",\"userAgent\":\"Mozilla/5.0 (Windows NT 10.0; Win64; x64) AppleWebKit/537.36 (KHTML, like Gecko) Chrome/119.0.0.0 Safari/537.36 Edg/119.0.0.0\",\"userAgentData\":{\"brands\":[{\"brand\":\"Microsoft Edge\",\"version\":\"119\"},{\"brand\":\"Chromium\",\"version\":\"119\"},{\"brand\":\"Not?A_Brand\",\"version\":\"24\"}],\"mobile\":false,\"platform\":\"Windows\"}},\"integrations\":{},\"messageId\":\"ajs-next-454e5e581cd01c41f27922fbe916d7f9\",\"originalTimestamp\":\"2023-11-16T16:59:57.553Z\",\"projectId\":\"pGmYy5aVoCQqk1qGQQ1Z1h\",\"properties\":{\"path\":\"/datapalooza/website/\",\"referrer\":\"\",\"search\":\"\",\"title\":\"Pet Caring Services\",\"url\":\"https://kozeke.github.io/datapalooza/website/\"},\"receivedAt\":\"2023-11-16T16:59:59.197Z\",\"sentAt\":\"2023-11-16T16:59:57.568Z\",\"timestamp\":\"2023-11-16T16:59:59.182Z\",\"type\":\"page\",\"userId\":\"12345\",\"version\":2                                           }</td></tr><tr><td>{\"_metadata\":{\"bundled\":[\"Segment.io\"],\"bundledIds\":[],\"unbundled\":[]},\"anonymousId\":\"bafd4d6a-1a95-460d-aae7-611d32052d8b\",\"channel\":\"client\",\"context\":{\"ip\":\"93.47.20.8\",\"library\":{\"name\":\"analytics.js\",\"version\":\"next-1.61.0\"},\"locale\":\"ru-RU\",\"page\":{\"path\":\"/C:/Users/Kozy-Korpesh/Desktop/datapalooza/website/pet_profile.html\",\"referrer\":\"\",\"search\":\"\",\"title\":\"Pet Profile Form\",\"url\":\"file:///C:/Users/Kozy-Korpesh/Desktop/datapalooza/website/pet_profile.html\"},\"timezone\":\"Europe/Berlin\",\"userAgent\":\"Mozilla/5.0 (Windows NT 10.0; Win64; x64) AppleWebKit/537.36 (KHTML, like Gecko) Chrome/112.0.0.0 Safari/537.36\",\"userAgentData\":{\"brands\":[{\"brand\":\"Chromium\",\"version\":\"112\"},{\"brand\":\"Google Chrome\",\"version\":\"112\"},{\"brand\":\"Not:A-Brand\",\"version\":\"99\"}],\"mobile\":false,\"platform\":\"Windows\"}},\"integrations\":{},\"messageId\":\"ajs-next-1d06a59091eb2c8cbc4c1eeea5c1666d\",\"originalTimestamp\":\"2023-11-16T21:34:35.553Z\",\"projectId\":\"pGmYy5aVoCQqk1qGQQ1Z1h\",\"properties\":{\"path\":\"/C:/Users/Kozy-Korpesh/Desktop/datapalooza/website/pet_profile.html\",\"referrer\":\"\",\"search\":\"\",\"title\":\"Pet Profile Form\",\"url\":\"file:///C:/Users/Kozy-Korpesh/Desktop/datapalooza/website/pet_profile.html\"},\"receivedAt\":\"2023-11-16T21:34:37.420Z\",\"sentAt\":\"2023-11-16T21:34:35.571Z\",\"timestamp\":\"2023-11-16T21:34:37.402Z\",\"type\":\"page\",\"userId\":\"12345\",\"version\":2                                           }</td></tr><tr><td>{\"_metadata\":{\"bundled\":[\"Segment.io\"],\"bundledIds\":[],\"unbundled\":[]},\"anonymousId\":\"bafd4d6a-1a95-460d-aae7-611d32052d8b\",\"channel\":\"client\",\"context\":{\"ip\":\"93.47.20.8\",\"library\":{\"name\":\"analytics.js\",\"version\":\"next-1.61.0\"},\"locale\":\"ru-RU\",\"page\":{\"path\":\"/C:/Users/Kozy-Korpesh/Desktop/datapalooza/website/pet_profile.html\",\"referrer\":\"\",\"search\":\"\",\"title\":\"Pet Profile Form\",\"url\":\"file:///C:/Users/Kozy-Korpesh/Desktop/datapalooza/website/pet_profile.html\"},\"timezone\":\"Europe/Berlin\",\"userAgent\":\"Mozilla/5.0 (Windows NT 10.0; Win64; x64) AppleWebKit/537.36 (KHTML, like Gecko) Chrome/112.0.0.0 Safari/537.36\",\"userAgentData\":{\"brands\":[{\"brand\":\"Chromium\",\"version\":\"112\"},{\"brand\":\"Google Chrome\",\"version\":\"112\"},{\"brand\":\"Not:A-Brand\",\"version\":\"99\"}],\"mobile\":false,\"platform\":\"Windows\"}},\"integrations\":{\"Salesforce\":true},\"messageId\":\"ajs-next-9e37e22382669d6ff29dd654deae36f1\",\"originalTimestamp\":\"2023-11-16T21:34:56.205Z\",\"projectId\":\"pGmYy5aVoCQqk1qGQQ1Z1h\",\"receivedAt\":\"2023-11-16T21:34:58.042Z\",\"sentAt\":\"2023-11-16T21:34:56.211Z\",\"timestamp\":\"2023-11-16T21:34:58.036Z\",\"traits\":{\"Obesity\":\"true\",\"VaccinationsUpToDate\":\"true\",\"address\":\"2 Via Asiago\",\"age\":\"3\",\"breed\":\"bulldog\",\"breedPredisposition\":\"true\",\"category\":\"Marketing\",\"clicked_random_link\":\"true\",\"diet\":\"hjhj\",\"email\":\"admin@ir.kz\",\"exercise\":\"3\",\"geneticFactors\":\"true\",\"id\":\"1\",\"is_first_session\":\"true\",\"leadSource\":\"Newsletter\",\"name\":\"Kozy-Korpesh Tolep\",\"previoushealthconditions\":\"kil\",\"viewed_product\":\"true\",\"weight\":\"0\"},\"type\":\"identify\",\"userId\":\"12345\",\"version\":2                                           }</td></tr><tr><td>{\"_metadata\":{\"bundled\":[\"Segment.io\"],\"bundledIds\":[],\"unbundled\":[]},\"anonymousId\":\"bafd4d6a-1a95-460d-aae7-611d32052d8b\",\"channel\":\"client\",\"context\":{\"ip\":\"93.47.20.8\",\"library\":{\"name\":\"analytics.js\",\"version\":\"next-1.61.0\"},\"locale\":\"ru-RU\",\"page\":{\"path\":\"/C:/Users/Kozy-Korpesh/Desktop/datapalooza/website/pet_profile.html\",\"referrer\":\"\",\"search\":\"\",\"title\":\"Pet Profile Form\",\"url\":\"file:///C:/Users/Kozy-Korpesh/Desktop/datapalooza/website/pet_profile.html\"},\"timezone\":\"Europe/Berlin\",\"userAgent\":\"Mozilla/5.0 (Windows NT 10.0; Win64; x64) AppleWebKit/537.36 (KHTML, like Gecko) Chrome/112.0.0.0 Safari/537.36\",\"userAgentData\":{\"brands\":[{\"brand\":\"Chromium\",\"version\":\"112\"},{\"brand\":\"Google Chrome\",\"version\":\"112\"},{\"brand\":\"Not:A-Brand\",\"version\":\"99\"}],\"mobile\":false,\"platform\":\"Windows\"}},\"event\":\"Pet profile Submitted\",\"integrations\":{},\"messageId\":\"ajs-next-56060b1fc314d80373040128e8191e9e\",\"originalTimestamp\":\"2023-11-16T21:34:56.208Z\",\"projectId\":\"pGmYy5aVoCQqk1qGQQ1Z1h\",\"properties\":{\"type\":\"Lead Generation\"},\"receivedAt\":\"2023-11-16T21:34:58.042Z\",\"sentAt\":\"2023-11-16T21:34:56.212Z\",\"timestamp\":\"2023-11-16T21:34:58.038Z\",\"type\":\"track\",\"userId\":\"12345\",\"version\":2                                           }</td></tr></tbody></table></div>"
      ]
     },
     "metadata": {
      "application/vnd.databricks.v1+output": {
       "addedWidgets": {},
       "aggData": [],
       "aggError": "",
       "aggOverflow": false,
       "aggSchema": [],
       "aggSeriesLimitReached": false,
       "aggType": "",
       "arguments": {},
       "columnCustomDisplayInfos": {},
       "data": [
        [
         "{\"_metadata\":{\"bundled\":[\"Segment.io\"],\"bundledIds\":[],\"unbundled\":[]},\"anonymousId\":\"1adad8dc-cb78-4806-b83e-3b313b672267\",\"channel\":\"client\",\"context\":{\"ip\":\"93.47.20.8\",\"library\":{\"name\":\"analytics.js\",\"version\":\"next-1.61.0\"},\"locale\":\"ru\",\"page\":{\"path\":\"/datapalooza/website/\",\"referrer\":\"\",\"search\":\"\",\"title\":\"Pet Caring Services\",\"url\":\"https://kozeke.github.io/datapalooza/website/\"},\"timezone\":\"Europe/Berlin\",\"userAgent\":\"Mozilla/5.0 (Windows NT 10.0; Win64; x64) AppleWebKit/537.36 (KHTML, like Gecko) Chrome/119.0.0.0 Safari/537.36 Edg/119.0.0.0\",\"userAgentData\":{\"brands\":[{\"brand\":\"Microsoft Edge\",\"version\":\"119\"},{\"brand\":\"Chromium\",\"version\":\"119\"},{\"brand\":\"Not?A_Brand\",\"version\":\"24\"}],\"mobile\":false,\"platform\":\"Windows\"}},\"integrations\":{},\"messageId\":\"ajs-next-95f82b5692c29fb882bd01c09679706a\",\"originalTimestamp\":\"2023-11-16T09:19:10.441Z\",\"projectId\":\"pGmYy5aVoCQqk1qGQQ1Z1h\",\"properties\":{\"path\":\"/datapalooza/website/\",\"referrer\":\"\",\"search\":\"\",\"title\":\"Pet Caring Services\",\"url\":\"https://kozeke.github.io/datapalooza/website/\"},\"receivedAt\":\"2023-11-16T09:19:11.635Z\",\"sentAt\":\"2023-11-16T09:19:10.457Z\",\"timestamp\":\"2023-11-16T09:19:11.619Z\",\"type\":\"page\",\"userId\":\"12345\",\"version\":2                                           }"
        ],
        [
         "{\"_metadata\":{\"bundled\":[\"Segment.io\"],\"bundledIds\":[],\"unbundled\":[]},\"anonymousId\":\"1adad8dc-cb78-4806-b83e-3b313b672267\",\"channel\":\"client\",\"context\":{\"ip\":\"93.47.20.8\",\"library\":{\"name\":\"analytics.js\",\"version\":\"next-1.61.0\"},\"locale\":\"ru\",\"page\":{\"path\":\"/datapalooza/website/register.html\",\"referrer\":\"https://kozeke.github.io/datapalooza/website/\",\"search\":\"\",\"title\":\"Register - Pet Caring Services\",\"url\":\"https://kozeke.github.io/datapalooza/website/register.html\"},\"timezone\":\"Europe/Berlin\",\"userAgent\":\"Mozilla/5.0 (Windows NT 10.0; Win64; x64) AppleWebKit/537.36 (KHTML, like Gecko) Chrome/119.0.0.0 Safari/537.36 Edg/119.0.0.0\",\"userAgentData\":{\"brands\":[{\"brand\":\"Microsoft Edge\",\"version\":\"119\"},{\"brand\":\"Chromium\",\"version\":\"119\"},{\"brand\":\"Not?A_Brand\",\"version\":\"24\"}],\"mobile\":false,\"platform\":\"Windows\"}},\"integrations\":{},\"messageId\":\"ajs-next-5faa9e054802d724b3ccdabd5b8ed0dd\",\"originalTimestamp\":\"2023-11-16T09:19:17.149Z\",\"projectId\":\"pGmYy5aVoCQqk1qGQQ1Z1h\",\"properties\":{\"path\":\"/datapalooza/website/register.html\",\"referrer\":\"https://kozeke.github.io/datapalooza/website/\",\"search\":\"\",\"title\":\"Register - Pet Caring Services\",\"url\":\"https://kozeke.github.io/datapalooza/website/register.html\"},\"receivedAt\":\"2023-11-16T09:19:17.970Z\",\"sentAt\":\"2023-11-16T09:19:17.152Z\",\"timestamp\":\"2023-11-16T09:19:17.967Z\",\"type\":\"page\",\"userId\":\"12345\",\"version\":2                                           }"
        ],
        [
         "{\"_metadata\":{\"bundled\":[\"Segment.io\"],\"bundledIds\":[],\"unbundled\":[]},\"anonymousId\":\"1adad8dc-cb78-4806-b83e-3b313b672267\",\"channel\":\"client\",\"context\":{\"ip\":\"93.47.20.8\",\"library\":{\"name\":\"analytics.js\",\"version\":\"next-1.61.0\"},\"locale\":\"ru\",\"page\":{\"path\":\"/datapalooza/website/register.html\",\"referrer\":\"https://kozeke.github.io/datapalooza/website/\",\"search\":\"\",\"title\":\"Register - Pet Caring Services\",\"url\":\"https://kozeke.github.io/datapalooza/website/register.html\"},\"timezone\":\"Europe/Berlin\",\"userAgent\":\"Mozilla/5.0 (Windows NT 10.0; Win64; x64) AppleWebKit/537.36 (KHTML, like Gecko) Chrome/119.0.0.0 Safari/537.36 Edg/119.0.0.0\",\"userAgentData\":{\"brands\":[{\"brand\":\"Microsoft Edge\",\"version\":\"119\"},{\"brand\":\"Chromium\",\"version\":\"119\"},{\"brand\":\"Not?A_Brand\",\"version\":\"24\"}],\"mobile\":false,\"platform\":\"Windows\"}},\"integrations\":{\"Salesforce\":true},\"messageId\":\"ajs-next-6f5260005989ff4802eba2a80e6b8ccf\",\"originalTimestamp\":\"2023-11-16T09:19:25.106Z\",\"projectId\":\"pGmYy5aVoCQqk1qGQQ1Z1h\",\"receivedAt\":\"2023-11-16T09:19:25.938Z\",\"sentAt\":\"2023-11-16T09:19:25.115Z\",\"timestamp\":\"2023-11-16T09:19:25.929Z\",\"traits\":{\"address\":\"Corso Sardegna\",\"category\":\"Marketing\",\"clicked_random_link\":\"true\",\"email\":\"kozykorpesh.tolep@gmail.com\",\"is_first_session\":\"true\",\"leadSource\":\"Newsletter\",\"name\":\"Customer.io Instance #2\",\"viewed_product\":\"true\"},\"type\":\"identify\",\"userId\":\"12345\",\"version\":2                                           }"
        ],
        [
         "{\"_metadata\":{\"bundled\":[\"Segment.io\"],\"bundledIds\":[],\"unbundled\":[]},\"anonymousId\":\"1adad8dc-cb78-4806-b83e-3b313b672267\",\"channel\":\"client\",\"context\":{\"ip\":\"93.47.20.8\",\"library\":{\"name\":\"analytics.js\",\"version\":\"next-1.61.0\"},\"locale\":\"ru\",\"page\":{\"path\":\"/datapalooza/website/register.html\",\"referrer\":\"https://kozeke.github.io/datapalooza/website/\",\"search\":\"\",\"title\":\"Register - Pet Caring Services\",\"url\":\"https://kozeke.github.io/datapalooza/website/register.html\"},\"timezone\":\"Europe/Berlin\",\"userAgent\":\"Mozilla/5.0 (Windows NT 10.0; Win64; x64) AppleWebKit/537.36 (KHTML, like Gecko) Chrome/119.0.0.0 Safari/537.36 Edg/119.0.0.0\",\"userAgentData\":{\"brands\":[{\"brand\":\"Microsoft Edge\",\"version\":\"119\"},{\"brand\":\"Chromium\",\"version\":\"119\"},{\"brand\":\"Not?A_Brand\",\"version\":\"24\"}],\"mobile\":false,\"platform\":\"Windows\"}},\"event\":\"Form Submitted\",\"integrations\":{},\"messageId\":\"ajs-next-985631a2531fb2067a3da3a5daf0d8c8\",\"originalTimestamp\":\"2023-11-16T09:19:25.108Z\",\"projectId\":\"pGmYy5aVoCQqk1qGQQ1Z1h\",\"properties\":{\"type\":\"Lead Generation\"},\"receivedAt\":\"2023-11-16T09:19:25.938Z\",\"sentAt\":\"2023-11-16T09:19:25.116Z\",\"timestamp\":\"2023-11-16T09:19:25.930Z\",\"type\":\"track\",\"userId\":\"12345\",\"version\":2                                           }"
        ],
        [
         "{\"_metadata\":{\"bundled\":[\"Segment.io\"],\"bundledIds\":[],\"unbundled\":[]},\"anonymousId\":\"1adad8dc-cb78-4806-b83e-3b313b672267\",\"channel\":\"client\",\"context\":{\"ip\":\"93.47.20.8\",\"library\":{\"name\":\"analytics.js\",\"version\":\"next-1.61.0\"},\"locale\":\"ru\",\"page\":{\"path\":\"/datapalooza/website/services.html\",\"referrer\":\"https://kozeke.github.io/datapalooza/website/register.html\",\"search\":\"\",\"title\":\"Blog - Pet Caring Services\",\"url\":\"https://kozeke.github.io/datapalooza/website/services.html\"},\"timezone\":\"Europe/Berlin\",\"userAgent\":\"Mozilla/5.0 (Windows NT 10.0; Win64; x64) AppleWebKit/537.36 (KHTML, like Gecko) Chrome/119.0.0.0 Safari/537.36 Edg/119.0.0.0\",\"userAgentData\":{\"brands\":[{\"brand\":\"Microsoft Edge\",\"version\":\"119\"},{\"brand\":\"Chromium\",\"version\":\"119\"},{\"brand\":\"Not?A_Brand\",\"version\":\"24\"}],\"mobile\":false,\"platform\":\"Windows\"}},\"integrations\":{},\"messageId\":\"ajs-next-68f14aaba36c617c85468e3caf2ea928\",\"originalTimestamp\":\"2023-11-16T09:21:21.378Z\",\"projectId\":\"pGmYy5aVoCQqk1qGQQ1Z1h\",\"properties\":{\"path\":\"/datapalooza/website/services.html\",\"referrer\":\"https://kozeke.github.io/datapalooza/website/register.html\",\"search\":\"\",\"title\":\"Blog - Pet Caring Services\",\"url\":\"https://kozeke.github.io/datapalooza/website/services.html\"},\"receivedAt\":\"2023-11-16T09:21:23.156Z\",\"sentAt\":\"2023-11-16T09:21:21.383Z\",\"timestamp\":\"2023-11-16T09:21:23.151Z\",\"type\":\"page\",\"userId\":\"12345\",\"version\":2                                           }"
        ],
        [
         "{\"_metadata\":{\"bundled\":[\"Segment.io\"],\"bundledIds\":[],\"unbundled\":[]},\"anonymousId\":\"1adad8dc-cb78-4806-b83e-3b313b672267\",\"channel\":\"client\",\"context\":{\"ip\":\"93.47.20.8\",\"library\":{\"name\":\"analytics.js\",\"version\":\"next-1.61.0\"},\"locale\":\"ru\",\"page\":{\"path\":\"/datapalooza/website/index.html\",\"referrer\":\"https://kozeke.github.io/datapalooza/website/services.html\",\"search\":\"\",\"title\":\"Pet Caring Services\",\"url\":\"https://kozeke.github.io/datapalooza/website/index.html\"},\"timezone\":\"Europe/Berlin\",\"userAgent\":\"Mozilla/5.0 (Windows NT 10.0; Win64; x64) AppleWebKit/537.36 (KHTML, like Gecko) Chrome/119.0.0.0 Safari/537.36 Edg/119.0.0.0\",\"userAgentData\":{\"brands\":[{\"brand\":\"Microsoft Edge\",\"version\":\"119\"},{\"brand\":\"Chromium\",\"version\":\"119\"},{\"brand\":\"Not?A_Brand\",\"version\":\"24\"}],\"mobile\":false,\"platform\":\"Windows\"}},\"integrations\":{},\"messageId\":\"ajs-next-54032e7b2ecd538db00a5bb526ea7acf\",\"originalTimestamp\":\"2023-11-16T09:21:22.570Z\",\"projectId\":\"pGmYy5aVoCQqk1qGQQ1Z1h\",\"properties\":{\"path\":\"/datapalooza/website/index.html\",\"referrer\":\"https://kozeke.github.io/datapalooza/website/services.html\",\"search\":\"\",\"title\":\"Pet Caring Services\",\"url\":\"https://kozeke.github.io/datapalooza/website/index.html\"},\"receivedAt\":\"2023-11-16T09:21:23.394Z\",\"sentAt\":\"2023-11-16T09:21:22.575Z\",\"timestamp\":\"2023-11-16T09:21:23.389Z\",\"type\":\"page\",\"userId\":\"12345\",\"version\":2                                           }"
        ],
        [
         "{\"_metadata\":{\"bundled\":[\"Segment.io\"],\"bundledIds\":[],\"unbundled\":[]},\"anonymousId\":\"bafd4d6a-1a95-460d-aae7-611d32052d8b\",\"channel\":\"client\",\"context\":{\"ip\":\"93.47.20.8\",\"library\":{\"name\":\"analytics.js\",\"version\":\"next-1.61.0\"},\"locale\":\"ru-RU\",\"page\":{\"path\":\"/C:/Users/Kozy-Korpesh/Desktop/datapalooza/website/pet_profile.html\",\"referrer\":\"\",\"search\":\"\",\"title\":\"Pet Profile Form\",\"url\":\"file:///C:/Users/Kozy-Korpesh/Desktop/datapalooza/website/pet_profile.html\"},\"timezone\":\"Europe/Berlin\",\"userAgent\":\"Mozilla/5.0 (Windows NT 10.0; Win64; x64) AppleWebKit/537.36 (KHTML, like Gecko) Chrome/112.0.0.0 Safari/537.36\",\"userAgentData\":{\"brands\":[{\"brand\":\"Chromium\",\"version\":\"112\"},{\"brand\":\"Google Chrome\",\"version\":\"112\"},{\"brand\":\"Not:A-Brand\",\"version\":\"99\"}],\"mobile\":false,\"platform\":\"Windows\"}},\"integrations\":{},\"messageId\":\"ajs-next-a9d21d4209128aa5a2b0a60be039cab7\",\"originalTimestamp\":\"2023-11-16T09:22:06.771Z\",\"projectId\":\"pGmYy5aVoCQqk1qGQQ1Z1h\",\"properties\":{\"path\":\"/C:/Users/Kozy-Korpesh/Desktop/datapalooza/website/pet_profile.html\",\"referrer\":\"\",\"search\":\"\",\"title\":\"Pet Profile Form\",\"url\":\"file:///C:/Users/Kozy-Korpesh/Desktop/datapalooza/website/pet_profile.html\"},\"receivedAt\":\"2023-11-16T09:22:07.971Z\",\"sentAt\":\"2023-11-16T09:22:06.792Z\",\"timestamp\":\"2023-11-16T09:22:07.950Z\",\"type\":\"page\",\"userId\":\"12345\",\"version\":2                                           }"
        ],
        [
         "{\"_metadata\":{\"bundled\":[\"Segment.io\"],\"bundledIds\":[],\"unbundled\":[]},\"anonymousId\":\"bafd4d6a-1a95-460d-aae7-611d32052d8b\",\"channel\":\"client\",\"context\":{\"ip\":\"93.47.20.8\",\"library\":{\"name\":\"analytics.js\",\"version\":\"next-1.61.0\"},\"locale\":\"ru-RU\",\"page\":{\"path\":\"/C:/Users/Kozy-Korpesh/Desktop/datapalooza/website/pet_profile.html\",\"referrer\":\"\",\"search\":\"\",\"title\":\"Pet Profile Form\",\"url\":\"file:///C:/Users/Kozy-Korpesh/Desktop/datapalooza/website/pet_profile.html\"},\"timezone\":\"Europe/Berlin\",\"userAgent\":\"Mozilla/5.0 (Windows NT 10.0; Win64; x64) AppleWebKit/537.36 (KHTML, like Gecko) Chrome/112.0.0.0 Safari/537.36\",\"userAgentData\":{\"brands\":[{\"brand\":\"Chromium\",\"version\":\"112\"},{\"brand\":\"Google Chrome\",\"version\":\"112\"},{\"brand\":\"Not:A-Brand\",\"version\":\"99\"}],\"mobile\":false,\"platform\":\"Windows\"}},\"event\":\"Pet profile Submitted\",\"integrations\":{},\"messageId\":\"ajs-next-f5a49938b3b3b927d8e1c24736c08ffb\",\"originalTimestamp\":\"2023-11-16T09:22:45.577Z\",\"projectId\":\"pGmYy5aVoCQqk1qGQQ1Z1h\",\"properties\":{\"type\":\"Lead Generation\"},\"receivedAt\":\"2023-11-16T09:22:46.409Z\",\"sentAt\":\"2023-11-16T09:22:45.581Z\",\"timestamp\":\"2023-11-16T09:22:46.405Z\",\"type\":\"track\",\"userId\":\"12345\",\"version\":2                                           }"
        ],
        [
         "{\"_metadata\":{\"bundled\":[\"Segment.io\"],\"bundledIds\":[],\"unbundled\":[]},\"anonymousId\":\"bafd4d6a-1a95-460d-aae7-611d32052d8b\",\"channel\":\"client\",\"context\":{\"ip\":\"93.47.20.8\",\"library\":{\"name\":\"analytics.js\",\"version\":\"next-1.61.0\"},\"locale\":\"ru-RU\",\"page\":{\"path\":\"/C:/Users/Kozy-Korpesh/Desktop/datapalooza/website/pet_profile.html\",\"referrer\":\"\",\"search\":\"\",\"title\":\"Pet Profile Form\",\"url\":\"file:///C:/Users/Kozy-Korpesh/Desktop/datapalooza/website/pet_profile.html\"},\"timezone\":\"Europe/Berlin\",\"userAgent\":\"Mozilla/5.0 (Windows NT 10.0; Win64; x64) AppleWebKit/537.36 (KHTML, like Gecko) Chrome/112.0.0.0 Safari/537.36\",\"userAgentData\":{\"brands\":[{\"brand\":\"Chromium\",\"version\":\"112\"},{\"brand\":\"Google Chrome\",\"version\":\"112\"},{\"brand\":\"Not:A-Brand\",\"version\":\"99\"}],\"mobile\":false,\"platform\":\"Windows\"}},\"integrations\":{\"Salesforce\":true},\"messageId\":\"ajs-next-d1c288be38232c0acd0b409e194a38e6\",\"originalTimestamp\":\"2023-11-16T09:22:45.576Z\",\"projectId\":\"pGmYy5aVoCQqk1qGQQ1Z1h\",\"receivedAt\":\"2023-11-16T09:22:46.409Z\",\"sentAt\":\"2023-11-16T09:22:45.580Z\",\"timestamp\":\"2023-11-16T09:22:46.405Z\",\"traits\":{\"Obesity\":\"true\",\"VaccinationsUpToDate\":\"true\",\"address\":\"2 Via Asiago\",\"age\":\"78\",\"breed\":\"bulldog\",\"breedPredisposition\":\"true\",\"category\":\"Marketing\",\"clicked_random_link\":\"true\",\"diet\":\"hjhj\",\"email\":\"admin@ir.kz\",\"exercise\":\"7\",\"geneticFactors\":\"true\",\"id\":\"6\",\"is_first_session\":\"true\",\"leadSource\":\"Newsletter\",\"name\":\"Kozy-Korpesh Tolep\",\"previoushealthconditions\":\"hjh\",\"viewed_product\":\"true\",\"weight\":\"78\"},\"type\":\"identify\",\"userId\":\"12345\",\"version\":2                                           }"
        ],
        [
         "{\"_metadata\":{\"bundled\":[\"Segment.io\"],\"bundledIds\":[],\"unbundled\":[]},\"anonymousId\":\"1adad8dc-cb78-4806-b83e-3b313b672267\",\"channel\":\"client\",\"context\":{\"ip\":\"93.47.20.8\",\"library\":{\"name\":\"analytics.js\",\"version\":\"next-1.61.0\"},\"locale\":\"ru\",\"page\":{\"path\":\"/datapalooza/website/index.html\",\"referrer\":\"https://kozeke.github.io/datapalooza/website/services.html\",\"search\":\"\",\"title\":\"Pet Caring Services\",\"url\":\"https://kozeke.github.io/datapalooza/website/index.html\"},\"timezone\":\"Europe/Berlin\",\"userAgent\":\"Mozilla/5.0 (Windows NT 10.0; Win64; x64) AppleWebKit/537.36 (KHTML, like Gecko) Chrome/119.0.0.0 Safari/537.36 Edg/119.0.0.0\",\"userAgentData\":{\"brands\":[{\"brand\":\"Microsoft Edge\",\"version\":\"119\"},{\"brand\":\"Chromium\",\"version\":\"119\"},{\"brand\":\"Not?A_Brand\",\"version\":\"24\"}],\"mobile\":false,\"platform\":\"Windows\"}},\"integrations\":{},\"messageId\":\"ajs-next-a062a78be5572f25eb0f84dd639f2033\",\"originalTimestamp\":\"2023-11-16T11:12:38.476Z\",\"projectId\":\"pGmYy5aVoCQqk1qGQQ1Z1h\",\"properties\":{\"path\":\"/datapalooza/website/index.html\",\"referrer\":\"https://kozeke.github.io/datapalooza/website/services.html\",\"search\":\"\",\"title\":\"Pet Caring Services\",\"url\":\"https://kozeke.github.io/datapalooza/website/index.html\"},\"receivedAt\":\"2023-11-16T11:12:40.420Z\",\"sentAt\":\"2023-11-16T11:12:38.494Z\",\"timestamp\":\"2023-11-16T11:12:40.402Z\",\"type\":\"page\",\"userId\":\"12345\",\"version\":2                                           }"
        ],
        [
         "{\"_metadata\":{\"bundled\":[\"Segment.io\"],\"bundledIds\":[],\"unbundled\":[]},\"anonymousId\":\"bafd4d6a-1a95-460d-aae7-611d32052d8b\",\"channel\":\"client\",\"context\":{\"ip\":\"93.47.20.8\",\"library\":{\"name\":\"analytics.js\",\"version\":\"next-1.61.0\"},\"locale\":\"ru-RU\",\"page\":{\"path\":\"/C:/Users/Kozy-Korpesh/Desktop/datapalooza/website/pet_profile.html\",\"referrer\":\"\",\"search\":\"\",\"title\":\"Pet Profile Form\",\"url\":\"file:///C:/Users/Kozy-Korpesh/Desktop/datapalooza/website/pet_profile.html\"},\"timezone\":\"Europe/Berlin\",\"userAgent\":\"Mozilla/5.0 (Windows NT 10.0; Win64; x64) AppleWebKit/537.36 (KHTML, like Gecko) Chrome/112.0.0.0 Safari/537.36\",\"userAgentData\":{\"brands\":[{\"brand\":\"Chromium\",\"version\":\"112\"},{\"brand\":\"Google Chrome\",\"version\":\"112\"},{\"brand\":\"Not:A-Brand\",\"version\":\"99\"}],\"mobile\":false,\"platform\":\"Windows\"}},\"event\":\"Pet profile Submitted\",\"integrations\":{},\"messageId\":\"ajs-next-5861b6641481f85e49df5ffc1a8c557a\",\"originalTimestamp\":\"2023-11-16T11:42:11.299Z\",\"projectId\":\"pGmYy5aVoCQqk1qGQQ1Z1h\",\"properties\":{\"type\":\"Lead Generation\"},\"receivedAt\":\"2023-11-16T11:42:13.249Z\",\"sentAt\":\"2023-11-16T11:42:11.307Z\",\"timestamp\":\"2023-11-16T11:42:13.241Z\",\"type\":\"track\",\"userId\":\"12345\",\"version\":2                                           }"
        ],
        [
         "{\"_metadata\":{\"bundled\":[\"Segment.io\"],\"bundledIds\":[],\"unbundled\":[]},\"anonymousId\":\"bafd4d6a-1a95-460d-aae7-611d32052d8b\",\"channel\":\"client\",\"context\":{\"ip\":\"93.47.20.8\",\"library\":{\"name\":\"analytics.js\",\"version\":\"next-1.61.0\"},\"locale\":\"ru-RU\",\"page\":{\"path\":\"/C:/Users/Kozy-Korpesh/Desktop/datapalooza/website/pet_profile.html\",\"referrer\":\"\",\"search\":\"\",\"title\":\"Pet Profile Form\",\"url\":\"file:///C:/Users/Kozy-Korpesh/Desktop/datapalooza/website/pet_profile.html\"},\"timezone\":\"Europe/Berlin\",\"userAgent\":\"Mozilla/5.0 (Windows NT 10.0; Win64; x64) AppleWebKit/537.36 (KHTML, like Gecko) Chrome/112.0.0.0 Safari/537.36\",\"userAgentData\":{\"brands\":[{\"brand\":\"Chromium\",\"version\":\"112\"},{\"brand\":\"Google Chrome\",\"version\":\"112\"},{\"brand\":\"Not:A-Brand\",\"version\":\"99\"}],\"mobile\":false,\"platform\":\"Windows\"}},\"integrations\":{\"Salesforce\":true},\"messageId\":\"ajs-next-e40c124d65fccc686241660d8feb5e13\",\"originalTimestamp\":\"2023-11-16T11:42:11.866Z\",\"projectId\":\"pGmYy5aVoCQqk1qGQQ1Z1h\",\"receivedAt\":\"2023-11-16T11:42:13.451Z\",\"sentAt\":\"2023-11-16T11:42:11.871Z\",\"timestamp\":\"2023-11-16T11:42:13.446Z\",\"traits\":{\"Obesity\":\"true\",\"VaccinationsUpToDate\":\"true\",\"address\":\"2 Via Asiago\",\"age\":\"78\",\"breed\":\"bulldog\",\"breedPredisposition\":\"true\",\"category\":\"Marketing\",\"clicked_random_link\":\"true\",\"diet\":\"hjhj\",\"email\":\"admin@ir.kz\",\"exercise\":\"7\",\"geneticFactors\":\"true\",\"id\":\"6\",\"is_first_session\":\"true\",\"leadSource\":\"Newsletter\",\"name\":\"Kozy-Korpesh Tolep\",\"previoushealthconditions\":\"hjh\",\"viewed_product\":\"true\",\"weight\":\"78\"},\"type\":\"identify\",\"userId\":\"12345\",\"version\":2                                           }"
        ],
        [
         "{\"_metadata\":{\"bundled\":[\"Segment.io\"],\"bundledIds\":[],\"unbundled\":[]},\"anonymousId\":\"bafd4d6a-1a95-460d-aae7-611d32052d8b\",\"channel\":\"client\",\"context\":{\"ip\":\"93.47.20.8\",\"library\":{\"name\":\"analytics.js\",\"version\":\"next-1.61.0\"},\"locale\":\"ru-RU\",\"page\":{\"path\":\"/C:/Users/Kozy-Korpesh/Desktop/datapalooza/website/pet_profile.html\",\"referrer\":\"\",\"search\":\"\",\"title\":\"Pet Profile Form\",\"url\":\"file:///C:/Users/Kozy-Korpesh/Desktop/datapalooza/website/pet_profile.html\"},\"timezone\":\"Europe/Berlin\",\"userAgent\":\"Mozilla/5.0 (Windows NT 10.0; Win64; x64) AppleWebKit/537.36 (KHTML, like Gecko) Chrome/112.0.0.0 Safari/537.36\",\"userAgentData\":{\"brands\":[{\"brand\":\"Chromium\",\"version\":\"112\"},{\"brand\":\"Google Chrome\",\"version\":\"112\"},{\"brand\":\"Not:A-Brand\",\"version\":\"99\"}],\"mobile\":false,\"platform\":\"Windows\"}},\"event\":\"Pet profile Submitted\",\"integrations\":{},\"messageId\":\"ajs-next-762fc7829b177197603db5f5d75de6d2\",\"originalTimestamp\":\"2023-11-16T11:42:11.868Z\",\"projectId\":\"pGmYy5aVoCQqk1qGQQ1Z1h\",\"properties\":{\"type\":\"Lead Generation\"},\"receivedAt\":\"2023-11-16T11:42:13.451Z\",\"sentAt\":\"2023-11-16T11:42:11.871Z\",\"timestamp\":\"2023-11-16T11:42:13.448Z\",\"type\":\"track\",\"userId\":\"12345\",\"version\":2                                           }"
        ],
        [
         "{\"_metadata\":{\"bundled\":[\"Segment.io\"],\"bundledIds\":[],\"unbundled\":[]},\"anonymousId\":\"bafd4d6a-1a95-460d-aae7-611d32052d8b\",\"channel\":\"client\",\"context\":{\"ip\":\"93.47.20.8\",\"library\":{\"name\":\"analytics.js\",\"version\":\"next-1.61.0\"},\"locale\":\"ru-RU\",\"page\":{\"path\":\"/C:/Users/Kozy-Korpesh/Desktop/datapalooza/website/pet_profile.html\",\"referrer\":\"\",\"search\":\"\",\"title\":\"Pet Profile Form\",\"url\":\"file:///C:/Users/Kozy-Korpesh/Desktop/datapalooza/website/pet_profile.html\"},\"timezone\":\"Europe/Berlin\",\"userAgent\":\"Mozilla/5.0 (Windows NT 10.0; Win64; x64) AppleWebKit/537.36 (KHTML, like Gecko) Chrome/112.0.0.0 Safari/537.36\",\"userAgentData\":{\"brands\":[{\"brand\":\"Chromium\",\"version\":\"112\"},{\"brand\":\"Google Chrome\",\"version\":\"112\"},{\"brand\":\"Not:A-Brand\",\"version\":\"99\"}],\"mobile\":false,\"platform\":\"Windows\"}},\"integrations\":{\"Salesforce\":true},\"messageId\":\"ajs-next-1b223211c54cba8dc7e29059699b42e1\",\"originalTimestamp\":\"2023-11-16T11:42:12.354Z\",\"projectId\":\"pGmYy5aVoCQqk1qGQQ1Z1h\",\"receivedAt\":\"2023-11-16T11:42:13.942Z\",\"sentAt\":\"2023-11-16T11:42:12.361Z\",\"timestamp\":\"2023-11-16T11:42:13.935Z\",\"traits\":{\"Obesity\":\"true\",\"VaccinationsUpToDate\":\"true\",\"address\":\"2 Via Asiago\",\"age\":\"78\",\"breed\":\"bulldog\",\"breedPredisposition\":\"true\",\"category\":\"Marketing\",\"clicked_random_link\":\"true\",\"diet\":\"hjhj\",\"email\":\"admin@ir.kz\",\"exercise\":\"7\",\"geneticFactors\":\"true\",\"id\":\"6\",\"is_first_session\":\"true\",\"leadSource\":\"Newsletter\",\"name\":\"Kozy-Korpesh Tolep\",\"previoushealthconditions\":\"hjh\",\"viewed_product\":\"true\",\"weight\":\"78\"},\"type\":\"identify\",\"userId\":\"12345\",\"version\":2                                           }"
        ],
        [
         "{\"_metadata\":{\"bundled\":[\"Segment.io\"],\"bundledIds\":[],\"unbundled\":[]},\"anonymousId\":\"bafd4d6a-1a95-460d-aae7-611d32052d8b\",\"channel\":\"client\",\"context\":{\"ip\":\"93.47.20.8\",\"library\":{\"name\":\"analytics.js\",\"version\":\"next-1.61.0\"},\"locale\":\"ru-RU\",\"page\":{\"path\":\"/C:/Users/Kozy-Korpesh/Desktop/datapalooza/website/pet_profile.html\",\"referrer\":\"\",\"search\":\"\",\"title\":\"Pet Profile Form\",\"url\":\"file:///C:/Users/Kozy-Korpesh/Desktop/datapalooza/website/pet_profile.html\"},\"timezone\":\"Europe/Berlin\",\"userAgent\":\"Mozilla/5.0 (Windows NT 10.0; Win64; x64) AppleWebKit/537.36 (KHTML, like Gecko) Chrome/112.0.0.0 Safari/537.36\",\"userAgentData\":{\"brands\":[{\"brand\":\"Chromium\",\"version\":\"112\"},{\"brand\":\"Google Chrome\",\"version\":\"112\"},{\"brand\":\"Not:A-Brand\",\"version\":\"99\"}],\"mobile\":false,\"platform\":\"Windows\"}},\"event\":\"Pet profile Submitted\",\"integrations\":{},\"messageId\":\"ajs-next-42e55c8a1e602474926282b5fb5856d0\",\"originalTimestamp\":\"2023-11-16T11:42:12.356Z\",\"projectId\":\"pGmYy5aVoCQqk1qGQQ1Z1h\",\"properties\":{\"type\":\"Lead Generation\"},\"receivedAt\":\"2023-11-16T11:42:13.942Z\",\"sentAt\":\"2023-11-16T11:42:12.362Z\",\"timestamp\":\"2023-11-16T11:42:13.936Z\",\"type\":\"track\",\"userId\":\"12345\",\"version\":2                                           }"
        ],
        [
         "{\"_metadata\":{\"bundled\":[\"Segment.io\"],\"bundledIds\":[],\"unbundled\":[]},\"anonymousId\":\"bafd4d6a-1a95-460d-aae7-611d32052d8b\",\"channel\":\"client\",\"context\":{\"ip\":\"93.47.20.8\",\"library\":{\"name\":\"analytics.js\",\"version\":\"next-1.61.0\"},\"locale\":\"ru-RU\",\"page\":{\"path\":\"/C:/Users/Kozy-Korpesh/Desktop/datapalooza/website/pet_profile.html\",\"referrer\":\"\",\"search\":\"\",\"title\":\"Pet Profile Form\",\"url\":\"file:///C:/Users/Kozy-Korpesh/Desktop/datapalooza/website/pet_profile.html\"},\"timezone\":\"Europe/Berlin\",\"userAgent\":\"Mozilla/5.0 (Windows NT 10.0; Win64; x64) AppleWebKit/537.36 (KHTML, like Gecko) Chrome/112.0.0.0 Safari/537.36\",\"userAgentData\":{\"brands\":[{\"brand\":\"Chromium\",\"version\":\"112\"},{\"brand\":\"Google Chrome\",\"version\":\"112\"},{\"brand\":\"Not:A-Brand\",\"version\":\"99\"}],\"mobile\":false,\"platform\":\"Windows\"}},\"integrations\":{\"Salesforce\":true},\"messageId\":\"ajs-next-261ac8031a16257e8e97a0df453bf866\",\"originalTimestamp\":\"2023-11-16T11:42:11.293Z\",\"projectId\":\"pGmYy5aVoCQqk1qGQQ1Z1h\",\"receivedAt\":\"2023-11-16T11:42:13.249Z\",\"sentAt\":\"2023-11-16T11:42:11.305Z\",\"timestamp\":\"2023-11-16T11:42:13.237Z\",\"traits\":{\"Obesity\":\"true\",\"VaccinationsUpToDate\":\"true\",\"address\":\"2 Via Asiago\",\"age\":\"78\",\"breed\":\"bulldog\",\"breedPredisposition\":\"true\",\"category\":\"Marketing\",\"clicked_random_link\":\"true\",\"diet\":\"hjhj\",\"email\":\"admin@ir.kz\",\"exercise\":\"7\",\"geneticFactors\":\"true\",\"id\":\"6\",\"is_first_session\":\"true\",\"leadSource\":\"Newsletter\",\"name\":\"Kozy-Korpesh Tolep\",\"previoushealthconditions\":\"hjh\",\"viewed_product\":\"true\",\"weight\":\"78\"},\"type\":\"identify\",\"userId\":\"12345\",\"version\":2                                           }"
        ],
        [
         "{\"_metadata\":{\"bundled\":[\"Segment.io\"],\"bundledIds\":[],\"unbundled\":[]},\"anonymousId\":\"bafd4d6a-1a95-460d-aae7-611d32052d8b\",\"channel\":\"client\",\"context\":{\"ip\":\"93.47.20.8\",\"library\":{\"name\":\"analytics.js\",\"version\":\"next-1.61.0\"},\"locale\":\"ru-RU\",\"page\":{\"path\":\"/C:/Users/Kozy-Korpesh/Desktop/datapalooza/website/pet_profile.html\",\"referrer\":\"\",\"search\":\"\",\"title\":\"Pet Profile Form\",\"url\":\"file:///C:/Users/Kozy-Korpesh/Desktop/datapalooza/website/pet_profile.html\"},\"timezone\":\"Europe/Berlin\",\"userAgent\":\"Mozilla/5.0 (Windows NT 10.0; Win64; x64) AppleWebKit/537.36 (KHTML, like Gecko) Chrome/112.0.0.0 Safari/537.36\",\"userAgentData\":{\"brands\":[{\"brand\":\"Chromium\",\"version\":\"112\"},{\"brand\":\"Google Chrome\",\"version\":\"112\"},{\"brand\":\"Not:A-Brand\",\"version\":\"99\"}],\"mobile\":false,\"platform\":\"Windows\"}},\"integrations\":{\"Salesforce\":true},\"messageId\":\"ajs-next-79a176462175f8a82e1e4390890ebd84\",\"originalTimestamp\":\"2023-11-16T11:42:12.586Z\",\"projectId\":\"pGmYy5aVoCQqk1qGQQ1Z1h\",\"receivedAt\":\"2023-11-16T11:42:14.172Z\",\"sentAt\":\"2023-11-16T11:42:12.592Z\",\"timestamp\":\"2023-11-16T11:42:14.166Z\",\"traits\":{\"Obesity\":\"true\",\"VaccinationsUpToDate\":\"true\",\"address\":\"2 Via Asiago\",\"age\":\"78\",\"breed\":\"bulldog\",\"breedPredisposition\":\"true\",\"category\":\"Marketing\",\"clicked_random_link\":\"true\",\"diet\":\"hjhj\",\"email\":\"admin@ir.kz\",\"exercise\":\"7\",\"geneticFactors\":\"true\",\"id\":\"6\",\"is_first_session\":\"true\",\"leadSource\":\"Newsletter\",\"name\":\"Kozy-Korpesh Tolep\",\"previoushealthconditions\":\"hjh\",\"viewed_product\":\"true\",\"weight\":\"78\"},\"type\":\"identify\",\"userId\":\"12345\",\"version\":2                                           }"
        ],
        [
         "{\"_metadata\":{\"bundled\":[\"Segment.io\"],\"bundledIds\":[],\"unbundled\":[]},\"anonymousId\":\"bafd4d6a-1a95-460d-aae7-611d32052d8b\",\"channel\":\"client\",\"context\":{\"ip\":\"93.47.20.8\",\"library\":{\"name\":\"analytics.js\",\"version\":\"next-1.61.0\"},\"locale\":\"ru-RU\",\"page\":{\"path\":\"/C:/Users/Kozy-Korpesh/Desktop/datapalooza/website/pet_profile.html\",\"referrer\":\"\",\"search\":\"\",\"title\":\"Pet Profile Form\",\"url\":\"file:///C:/Users/Kozy-Korpesh/Desktop/datapalooza/website/pet_profile.html\"},\"timezone\":\"Europe/Berlin\",\"userAgent\":\"Mozilla/5.0 (Windows NT 10.0; Win64; x64) AppleWebKit/537.36 (KHTML, like Gecko) Chrome/112.0.0.0 Safari/537.36\",\"userAgentData\":{\"brands\":[{\"brand\":\"Chromium\",\"version\":\"112\"},{\"brand\":\"Google Chrome\",\"version\":\"112\"},{\"brand\":\"Not:A-Brand\",\"version\":\"99\"}],\"mobile\":false,\"platform\":\"Windows\"}},\"event\":\"Pet profile Submitted\",\"integrations\":{},\"messageId\":\"ajs-next-aa0afa9335eb7f4f058a2b2e48ac3f04\",\"originalTimestamp\":\"2023-11-16T11:42:12.588Z\",\"projectId\":\"pGmYy5aVoCQqk1qGQQ1Z1h\",\"properties\":{\"type\":\"Lead Generation\"},\"receivedAt\":\"2023-11-16T11:42:14.172Z\",\"sentAt\":\"2023-11-16T11:42:12.593Z\",\"timestamp\":\"2023-11-16T11:42:14.167Z\",\"type\":\"track\",\"userId\":\"12345\",\"version\":2                                           }"
        ],
        [
         "{\"_metadata\":{\"bundled\":[\"Segment.io\"],\"bundledIds\":[],\"unbundled\":[]},\"anonymousId\":\"bafd4d6a-1a95-460d-aae7-611d32052d8b\",\"channel\":\"client\",\"context\":{\"ip\":\"93.47.20.8\",\"library\":{\"name\":\"analytics.js\",\"version\":\"next-1.61.0\"},\"locale\":\"ru-RU\",\"page\":{\"path\":\"/C:/Users/Kozy-Korpesh/Desktop/datapalooza/website/pet_profile.html\",\"referrer\":\"\",\"search\":\"\",\"title\":\"Pet Profile Form\",\"url\":\"file:///C:/Users/Kozy-Korpesh/Desktop/datapalooza/website/pet_profile.html\"},\"timezone\":\"Europe/Berlin\",\"userAgent\":\"Mozilla/5.0 (Windows NT 10.0; Win64; x64) AppleWebKit/537.36 (KHTML, like Gecko) Chrome/112.0.0.0 Safari/537.36\",\"userAgentData\":{\"brands\":[{\"brand\":\"Chromium\",\"version\":\"112\"},{\"brand\":\"Google Chrome\",\"version\":\"112\"},{\"brand\":\"Not:A-Brand\",\"version\":\"99\"}],\"mobile\":false,\"platform\":\"Windows\"}},\"integrations\":{\"Salesforce\":true},\"messageId\":\"ajs-next-44b9834a4bc2694f60a4e989468c0221\",\"originalTimestamp\":\"2023-11-16T12:03:01.383Z\",\"projectId\":\"pGmYy5aVoCQqk1qGQQ1Z1h\",\"receivedAt\":\"2023-11-16T12:03:03.160Z\",\"sentAt\":\"2023-11-16T12:03:01.385Z\",\"timestamp\":\"2023-11-16T12:03:03.158Z\",\"traits\":{\"Obesity\":\"true\",\"VaccinationsUpToDate\":\"true\",\"address\":\"2 Via Asiago\",\"age\":\"78\",\"breed\":\"bulldog\",\"breedPredisposition\":\"true\",\"category\":\"Marketing\",\"clicked_random_link\":\"true\",\"diet\":\"hjhj\",\"email\":\"admin@ir.kz\",\"exercise\":\"7\",\"geneticFactors\":\"true\",\"id\":\"5\",\"is_first_session\":\"true\",\"leadSource\":\"Newsletter\",\"name\":\"Kozy-Korpesh Tolep\",\"previoushealthconditions\":\"hjh\",\"viewed_product\":\"true\",\"weight\":\"78\"},\"type\":\"identify\",\"userId\":\"12345\",\"version\":2                                           }"
        ],
        [
         "{\"_metadata\":{\"bundled\":[\"Segment.io\"],\"bundledIds\":[],\"unbundled\":[]},\"anonymousId\":\"bafd4d6a-1a95-460d-aae7-611d32052d8b\",\"channel\":\"client\",\"context\":{\"ip\":\"93.47.20.8\",\"library\":{\"name\":\"analytics.js\",\"version\":\"next-1.61.0\"},\"locale\":\"ru-RU\",\"page\":{\"path\":\"/C:/Users/Kozy-Korpesh/Desktop/datapalooza/website/pet_profile.html\",\"referrer\":\"\",\"search\":\"\",\"title\":\"Pet Profile Form\",\"url\":\"file:///C:/Users/Kozy-Korpesh/Desktop/datapalooza/website/pet_profile.html\"},\"timezone\":\"Europe/Berlin\",\"userAgent\":\"Mozilla/5.0 (Windows NT 10.0; Win64; x64) AppleWebKit/537.36 (KHTML, like Gecko) Chrome/112.0.0.0 Safari/537.36\",\"userAgentData\":{\"brands\":[{\"brand\":\"Chromium\",\"version\":\"112\"},{\"brand\":\"Google Chrome\",\"version\":\"112\"},{\"brand\":\"Not:A-Brand\",\"version\":\"99\"}],\"mobile\":false,\"platform\":\"Windows\"}},\"event\":\"Pet profile Submitted\",\"integrations\":{},\"messageId\":\"ajs-next-727c920afe12056d5e39460c5b020958\",\"originalTimestamp\":\"2023-11-16T12:03:01.384Z\",\"projectId\":\"pGmYy5aVoCQqk1qGQQ1Z1h\",\"properties\":{\"type\":\"Lead Generation\"},\"receivedAt\":\"2023-11-16T12:03:03.160Z\",\"sentAt\":\"2023-11-16T12:03:01.386Z\",\"timestamp\":\"2023-11-16T12:03:03.158Z\",\"type\":\"track\",\"userId\":\"12345\",\"version\":2                                           }"
        ],
        [
         "{\"_metadata\":{\"bundled\":[\"Segment.io\"],\"bundledIds\":[],\"unbundled\":[]},\"anonymousId\":\"bafd4d6a-1a95-460d-aae7-611d32052d8b\",\"channel\":\"client\",\"context\":{\"ip\":\"93.47.20.8\",\"library\":{\"name\":\"analytics.js\",\"version\":\"next-1.61.0\"},\"locale\":\"ru-RU\",\"page\":{\"path\":\"/C:/Users/Kozy-Korpesh/Desktop/datapalooza/website/pet_profile.html\",\"referrer\":\"\",\"search\":\"\",\"title\":\"Pet Profile Form\",\"url\":\"file:///C:/Users/Kozy-Korpesh/Desktop/datapalooza/website/pet_profile.html\"},\"timezone\":\"Europe/Berlin\",\"userAgent\":\"Mozilla/5.0 (Windows NT 10.0; Win64; x64) AppleWebKit/537.36 (KHTML, like Gecko) Chrome/112.0.0.0 Safari/537.36\",\"userAgentData\":{\"brands\":[{\"brand\":\"Chromium\",\"version\":\"112\"},{\"brand\":\"Google Chrome\",\"version\":\"112\"},{\"brand\":\"Not:A-Brand\",\"version\":\"99\"}],\"mobile\":false,\"platform\":\"Windows\"}},\"event\":\"Pet profile Submitted\",\"integrations\":{},\"messageId\":\"ajs-next-bf2e3e0911680a7edeb9212d34125196\",\"originalTimestamp\":\"2023-11-16T12:03:04.626Z\",\"projectId\":\"pGmYy5aVoCQqk1qGQQ1Z1h\",\"properties\":{\"type\":\"Lead Generation\"},\"receivedAt\":\"2023-11-16T12:03:06.044Z\",\"sentAt\":\"2023-11-16T12:03:04.629Z\",\"timestamp\":\"2023-11-16T12:03:06.041Z\",\"type\":\"track\",\"userId\":\"12345\",\"version\":2                                           }"
        ],
        [
         "{\"_metadata\":{\"bundled\":[\"Segment.io\"],\"bundledIds\":[],\"unbundled\":[]},\"anonymousId\":\"bafd4d6a-1a95-460d-aae7-611d32052d8b\",\"channel\":\"client\",\"context\":{\"ip\":\"93.47.20.8\",\"library\":{\"name\":\"analytics.js\",\"version\":\"next-1.61.0\"},\"locale\":\"ru-RU\",\"page\":{\"path\":\"/C:/Users/Kozy-Korpesh/Desktop/datapalooza/website/pet_profile.html\",\"referrer\":\"\",\"search\":\"\",\"title\":\"Pet Profile Form\",\"url\":\"file:///C:/Users/Kozy-Korpesh/Desktop/datapalooza/website/pet_profile.html\"},\"timezone\":\"Europe/Berlin\",\"userAgent\":\"Mozilla/5.0 (Windows NT 10.0; Win64; x64) AppleWebKit/537.36 (KHTML, like Gecko) Chrome/112.0.0.0 Safari/537.36\",\"userAgentData\":{\"brands\":[{\"brand\":\"Chromium\",\"version\":\"112\"},{\"brand\":\"Google Chrome\",\"version\":\"112\"},{\"brand\":\"Not:A-Brand\",\"version\":\"99\"}],\"mobile\":false,\"platform\":\"Windows\"}},\"integrations\":{\"Salesforce\":true},\"messageId\":\"ajs-next-0b0289e5f8a870d932c91f9a4f4e45d0\",\"originalTimestamp\":\"2023-11-16T12:03:04.625Z\",\"projectId\":\"pGmYy5aVoCQqk1qGQQ1Z1h\",\"receivedAt\":\"2023-11-16T12:03:06.044Z\",\"sentAt\":\"2023-11-16T12:03:04.628Z\",\"timestamp\":\"2023-11-16T12:03:06.041Z\",\"traits\":{\"Obesity\":\"true\",\"VaccinationsUpToDate\":\"true\",\"address\":\"2 Via Asiago\",\"age\":\"78\",\"breed\":\"bulldog\",\"breedPredisposition\":\"true\",\"category\":\"Marketing\",\"clicked_random_link\":\"true\",\"diet\":\"hjhj\",\"email\":\"admin@ir.kz\",\"exercise\":\"7\",\"geneticFactors\":\"true\",\"id\":\"4\",\"is_first_session\":\"true\",\"leadSource\":\"Newsletter\",\"name\":\"Kozy-Korpesh Tolep\",\"previoushealthconditions\":\"hjh\",\"viewed_product\":\"true\",\"weight\":\"78\"},\"type\":\"identify\",\"userId\":\"12345\",\"version\":2                                           }"
        ],
        [
         "{\"_metadata\":{\"bundled\":[\"Segment.io\"],\"bundledIds\":[],\"unbundled\":[]},\"anonymousId\":\"bafd4d6a-1a95-460d-aae7-611d32052d8b\",\"channel\":\"client\",\"context\":{\"ip\":\"93.47.20.8\",\"library\":{\"name\":\"analytics.js\",\"version\":\"next-1.61.0\"},\"locale\":\"ru-RU\",\"page\":{\"path\":\"/C:/Users/Kozy-Korpesh/Desktop/datapalooza/website/pet_profile.html\",\"referrer\":\"\",\"search\":\"\",\"title\":\"Pet Profile Form\",\"url\":\"file:///C:/Users/Kozy-Korpesh/Desktop/datapalooza/website/pet_profile.html\"},\"timezone\":\"Europe/Berlin\",\"userAgent\":\"Mozilla/5.0 (Windows NT 10.0; Win64; x64) AppleWebKit/537.36 (KHTML, like Gecko) Chrome/112.0.0.0 Safari/537.36\",\"userAgentData\":{\"brands\":[{\"brand\":\"Chromium\",\"version\":\"112\"},{\"brand\":\"Google Chrome\",\"version\":\"112\"},{\"brand\":\"Not:A-Brand\",\"version\":\"99\"}],\"mobile\":false,\"platform\":\"Windows\"}},\"integrations\":{\"Salesforce\":true},\"messageId\":\"ajs-next-73603ed3cac8e4f1ce136386ddf12fcd\",\"originalTimestamp\":\"2023-11-16T12:10:26.885Z\",\"projectId\":\"pGmYy5aVoCQqk1qGQQ1Z1h\",\"receivedAt\":\"2023-11-16T12:10:28.684Z\",\"sentAt\":\"2023-11-16T12:10:26.889Z\",\"timestamp\":\"2023-11-16T12:10:28.680Z\",\"traits\":{\"Obesity\":\"true\",\"VaccinationsUpToDate\":\"true\",\"address\":\"2 Via Asiago\",\"age\":\"78\",\"breed\":\"bulldog\",\"breedPredisposition\":\"true\",\"category\":\"Marketing\",\"clicked_random_link\":\"true\",\"diet\":\"hjhj\",\"email\":\"admin@ir.kz\",\"exercise\":\"7\",\"geneticFactors\":\"true\",\"id\":\"4\",\"is_first_session\":\"true\",\"leadSource\":\"Newsletter\",\"name\":\"Kozy-Korpesh Tolep\",\"previoushealthconditions\":\"hjh\",\"viewed_product\":\"true\",\"weight\":\"78\"},\"type\":\"identify\",\"userId\":\"12345\",\"version\":2                                           }"
        ],
        [
         "{\"_metadata\":{\"bundled\":[\"Segment.io\"],\"bundledIds\":[],\"unbundled\":[]},\"anonymousId\":\"bafd4d6a-1a95-460d-aae7-611d32052d8b\",\"channel\":\"client\",\"context\":{\"ip\":\"93.47.20.8\",\"library\":{\"name\":\"analytics.js\",\"version\":\"next-1.61.0\"},\"locale\":\"ru-RU\",\"page\":{\"path\":\"/C:/Users/Kozy-Korpesh/Desktop/datapalooza/website/pet_profile.html\",\"referrer\":\"\",\"search\":\"\",\"title\":\"Pet Profile Form\",\"url\":\"file:///C:/Users/Kozy-Korpesh/Desktop/datapalooza/website/pet_profile.html\"},\"timezone\":\"Europe/Berlin\",\"userAgent\":\"Mozilla/5.0 (Windows NT 10.0; Win64; x64) AppleWebKit/537.36 (KHTML, like Gecko) Chrome/112.0.0.0 Safari/537.36\",\"userAgentData\":{\"brands\":[{\"brand\":\"Chromium\",\"version\":\"112\"},{\"brand\":\"Google Chrome\",\"version\":\"112\"},{\"brand\":\"Not:A-Brand\",\"version\":\"99\"}],\"mobile\":false,\"platform\":\"Windows\"}},\"event\":\"Pet profile Submitted\",\"integrations\":{},\"messageId\":\"ajs-next-72dd46f77a263a90d9d4a18c6f370244\",\"originalTimestamp\":\"2023-11-16T12:10:26.886Z\",\"projectId\":\"pGmYy5aVoCQqk1qGQQ1Z1h\",\"properties\":{\"type\":\"Lead Generation\"},\"receivedAt\":\"2023-11-16T12:10:28.683Z\",\"sentAt\":\"2023-11-16T12:10:26.889Z\",\"timestamp\":\"2023-11-16T12:10:28.680Z\",\"type\":\"track\",\"userId\":\"12345\",\"version\":2                                           }"
        ],
        [
         "{\"_metadata\":{\"bundled\":[\"Segment.io\"],\"bundledIds\":[],\"unbundled\":[]},\"anonymousId\":\"bafd4d6a-1a95-460d-aae7-611d32052d8b\",\"channel\":\"client\",\"context\":{\"ip\":\"93.47.20.8\",\"library\":{\"name\":\"analytics.js\",\"version\":\"next-1.61.0\"},\"locale\":\"ru-RU\",\"page\":{\"path\":\"/C:/Users/Kozy-Korpesh/Desktop/datapalooza/website/pet_profile.html\",\"referrer\":\"\",\"search\":\"\",\"title\":\"Pet Profile Form\",\"url\":\"file:///C:/Users/Kozy-Korpesh/Desktop/datapalooza/website/pet_profile.html\"},\"timezone\":\"Europe/Berlin\",\"userAgent\":\"Mozilla/5.0 (Windows NT 10.0; Win64; x64) AppleWebKit/537.36 (KHTML, like Gecko) Chrome/112.0.0.0 Safari/537.36\",\"userAgentData\":{\"brands\":[{\"brand\":\"Chromium\",\"version\":\"112\"},{\"brand\":\"Google Chrome\",\"version\":\"112\"},{\"brand\":\"Not:A-Brand\",\"version\":\"99\"}],\"mobile\":false,\"platform\":\"Windows\"}},\"integrations\":{\"Salesforce\":true},\"messageId\":\"ajs-next-852ac40fa88059a35d1b9d8ff9069f0b\",\"originalTimestamp\":\"2023-11-16T12:10:28.205Z\",\"projectId\":\"pGmYy5aVoCQqk1qGQQ1Z1h\",\"receivedAt\":\"2023-11-16T12:10:29.635Z\",\"sentAt\":\"2023-11-16T12:10:28.209Z\",\"timestamp\":\"2023-11-16T12:10:29.631Z\",\"traits\":{\"Obesity\":\"true\",\"VaccinationsUpToDate\":\"true\",\"address\":\"2 Via Asiago\",\"age\":\"78\",\"breed\":\"bulldog\",\"breedPredisposition\":\"true\",\"category\":\"Marketing\",\"clicked_random_link\":\"true\",\"diet\":\"hjhj\",\"email\":\"admin@ir.kz\",\"exercise\":\"7\",\"geneticFactors\":\"true\",\"id\":\"4\",\"is_first_session\":\"true\",\"leadSource\":\"Newsletter\",\"name\":\"Kozy-Korpesh Tolep\",\"previoushealthconditions\":\"hjh\",\"viewed_product\":\"true\",\"weight\":\"78\"},\"type\":\"identify\",\"userId\":\"12345\",\"version\":2                                           }"
        ],
        [
         "{\"_metadata\":{\"bundled\":[\"Segment.io\"],\"bundledIds\":[],\"unbundled\":[]},\"anonymousId\":\"bafd4d6a-1a95-460d-aae7-611d32052d8b\",\"channel\":\"client\",\"context\":{\"ip\":\"93.47.20.8\",\"library\":{\"name\":\"analytics.js\",\"version\":\"next-1.61.0\"},\"locale\":\"ru-RU\",\"page\":{\"path\":\"/C:/Users/Kozy-Korpesh/Desktop/datapalooza/website/pet_profile.html\",\"referrer\":\"\",\"search\":\"\",\"title\":\"Pet Profile Form\",\"url\":\"file:///C:/Users/Kozy-Korpesh/Desktop/datapalooza/website/pet_profile.html\"},\"timezone\":\"Europe/Berlin\",\"userAgent\":\"Mozilla/5.0 (Windows NT 10.0; Win64; x64) AppleWebKit/537.36 (KHTML, like Gecko) Chrome/112.0.0.0 Safari/537.36\",\"userAgentData\":{\"brands\":[{\"brand\":\"Chromium\",\"version\":\"112\"},{\"brand\":\"Google Chrome\",\"version\":\"112\"},{\"brand\":\"Not:A-Brand\",\"version\":\"99\"}],\"mobile\":false,\"platform\":\"Windows\"}},\"event\":\"Pet profile Submitted\",\"integrations\":{},\"messageId\":\"ajs-next-38dccd2632e0302ba4b5b63a76c58a0f\",\"originalTimestamp\":\"2023-11-16T12:10:28.207Z\",\"projectId\":\"pGmYy5aVoCQqk1qGQQ1Z1h\",\"properties\":{\"type\":\"Lead Generation\"},\"receivedAt\":\"2023-11-16T12:10:29.635Z\",\"sentAt\":\"2023-11-16T12:10:28.210Z\",\"timestamp\":\"2023-11-16T12:10:29.632Z\",\"type\":\"track\",\"userId\":\"12345\",\"version\":2                                           }"
        ],
        [
         "{\"_metadata\":{\"bundled\":[\"Segment.io\"],\"bundledIds\":[],\"unbundled\":[]},\"anonymousId\":\"bafd4d6a-1a95-460d-aae7-611d32052d8b\",\"channel\":\"client\",\"context\":{\"ip\":\"93.47.20.8\",\"library\":{\"name\":\"analytics.js\",\"version\":\"next-1.61.0\"},\"locale\":\"ru-RU\",\"page\":{\"path\":\"/C:/Users/Kozy-Korpesh/Desktop/datapalooza/website/pet_profile.html\",\"referrer\":\"\",\"search\":\"\",\"title\":\"Pet Profile Form\",\"url\":\"file:///C:/Users/Kozy-Korpesh/Desktop/datapalooza/website/pet_profile.html\"},\"timezone\":\"Europe/Berlin\",\"userAgent\":\"Mozilla/5.0 (Windows NT 10.0; Win64; x64) AppleWebKit/537.36 (KHTML, like Gecko) Chrome/112.0.0.0 Safari/537.36\",\"userAgentData\":{\"brands\":[{\"brand\":\"Chromium\",\"version\":\"112\"},{\"brand\":\"Google Chrome\",\"version\":\"112\"},{\"brand\":\"Not:A-Brand\",\"version\":\"99\"}],\"mobile\":false,\"platform\":\"Windows\"}},\"integrations\":{\"Salesforce\":true},\"messageId\":\"ajs-next-c141eaafe550e7ebfb5301ae6b3f1d34\",\"originalTimestamp\":\"2023-11-16T12:10:30.069Z\",\"projectId\":\"pGmYy5aVoCQqk1qGQQ1Z1h\",\"receivedAt\":\"2023-11-16T12:10:31.500Z\",\"sentAt\":\"2023-11-16T12:10:30.073Z\",\"timestamp\":\"2023-11-16T12:10:31.496Z\",\"traits\":{\"Obesity\":\"true\",\"VaccinationsUpToDate\":\"true\",\"address\":\"2 Via Asiago\",\"age\":\"78\",\"breed\":\"bulldog\",\"breedPredisposition\":\"true\",\"category\":\"Marketing\",\"clicked_random_link\":\"true\",\"diet\":\"hjhj\",\"email\":\"admin@ir.kz\",\"exercise\":\"7\",\"geneticFactors\":\"true\",\"id\":\"4\",\"is_first_session\":\"true\",\"leadSource\":\"Newsletter\",\"name\":\"Kozy-Korpesh Tolep\",\"previoushealthconditions\":\"hjh\",\"viewed_product\":\"true\",\"weight\":\"78\"},\"type\":\"identify\",\"userId\":\"12345\",\"version\":2                                           }"
        ],
        [
         "{\"_metadata\":{\"bundled\":[\"Segment.io\"],\"bundledIds\":[],\"unbundled\":[]},\"anonymousId\":\"bafd4d6a-1a95-460d-aae7-611d32052d8b\",\"channel\":\"client\",\"context\":{\"ip\":\"93.47.20.8\",\"library\":{\"name\":\"analytics.js\",\"version\":\"next-1.61.0\"},\"locale\":\"ru-RU\",\"page\":{\"path\":\"/C:/Users/Kozy-Korpesh/Desktop/datapalooza/website/pet_profile.html\",\"referrer\":\"\",\"search\":\"\",\"title\":\"Pet Profile Form\",\"url\":\"file:///C:/Users/Kozy-Korpesh/Desktop/datapalooza/website/pet_profile.html\"},\"timezone\":\"Europe/Berlin\",\"userAgent\":\"Mozilla/5.0 (Windows NT 10.0; Win64; x64) AppleWebKit/537.36 (KHTML, like Gecko) Chrome/112.0.0.0 Safari/537.36\",\"userAgentData\":{\"brands\":[{\"brand\":\"Chromium\",\"version\":\"112\"},{\"brand\":\"Google Chrome\",\"version\":\"112\"},{\"brand\":\"Not:A-Brand\",\"version\":\"99\"}],\"mobile\":false,\"platform\":\"Windows\"}},\"event\":\"Pet profile Submitted\",\"integrations\":{},\"messageId\":\"ajs-next-89109f53a9c544faa3452fca4299e7f7\",\"originalTimestamp\":\"2023-11-16T12:10:30.070Z\",\"projectId\":\"pGmYy5aVoCQqk1qGQQ1Z1h\",\"properties\":{\"type\":\"Lead Generation\"},\"receivedAt\":\"2023-11-16T12:10:31.500Z\",\"sentAt\":\"2023-11-16T12:10:30.074Z\",\"timestamp\":\"2023-11-16T12:10:31.496Z\",\"type\":\"track\",\"userId\":\"12345\",\"version\":2                                           }"
        ],
        [
         "{\"_metadata\":{\"bundled\":[\"Segment.io\"],\"bundledIds\":[],\"unbundled\":[]},\"anonymousId\":\"bafd4d6a-1a95-460d-aae7-611d32052d8b\",\"channel\":\"client\",\"context\":{\"ip\":\"93.47.20.8\",\"library\":{\"name\":\"analytics.js\",\"version\":\"next-1.61.0\"},\"locale\":\"ru-RU\",\"page\":{\"path\":\"/C:/Users/Kozy-Korpesh/Desktop/datapalooza/website/pet_profile.html\",\"referrer\":\"\",\"search\":\"\",\"title\":\"Pet Profile Form\",\"url\":\"file:///C:/Users/Kozy-Korpesh/Desktop/datapalooza/website/pet_profile.html\"},\"timezone\":\"Europe/Berlin\",\"userAgent\":\"Mozilla/5.0 (Windows NT 10.0; Win64; x64) AppleWebKit/537.36 (KHTML, like Gecko) Chrome/112.0.0.0 Safari/537.36\",\"userAgentData\":{\"brands\":[{\"brand\":\"Chromium\",\"version\":\"112\"},{\"brand\":\"Google Chrome\",\"version\":\"112\"},{\"brand\":\"Not:A-Brand\",\"version\":\"99\"}],\"mobile\":false,\"platform\":\"Windows\"}},\"integrations\":{\"Salesforce\":true},\"messageId\":\"ajs-next-3d95f4061459b86f3ddf490ddc99d505\",\"originalTimestamp\":\"2023-11-16T12:17:09.777Z\",\"projectId\":\"pGmYy5aVoCQqk1qGQQ1Z1h\",\"receivedAt\":\"2023-11-16T12:17:11.572Z\",\"sentAt\":\"2023-11-16T12:17:09.781Z\",\"timestamp\":\"2023-11-16T12:17:11.568Z\",\"traits\":{\"Obesity\":\"true\",\"VaccinationsUpToDate\":\"true\",\"address\":\"2 Via Asiago\",\"age\":\"78\",\"breed\":\"bulldog\",\"breedPredisposition\":\"true\",\"category\":\"Marketing\",\"clicked_random_link\":\"true\",\"diet\":\"hjhj\",\"email\":\"admin@ir.kz\",\"exercise\":\"7\",\"geneticFactors\":\"true\",\"id\":\"4\",\"is_first_session\":\"true\",\"leadSource\":\"Newsletter\",\"name\":\"Kozy-Korpesh Tolep\",\"previoushealthconditions\":\"hjh\",\"viewed_product\":\"true\",\"weight\":\"78\"},\"type\":\"identify\",\"userId\":\"12345\",\"version\":2                                           }"
        ],
        [
         "{\"_metadata\":{\"bundled\":[\"Segment.io\"],\"bundledIds\":[],\"unbundled\":[]},\"anonymousId\":\"bafd4d6a-1a95-460d-aae7-611d32052d8b\",\"channel\":\"client\",\"context\":{\"ip\":\"93.47.20.8\",\"library\":{\"name\":\"analytics.js\",\"version\":\"next-1.61.0\"},\"locale\":\"ru-RU\",\"page\":{\"path\":\"/C:/Users/Kozy-Korpesh/Desktop/datapalooza/website/pet_profile.html\",\"referrer\":\"\",\"search\":\"\",\"title\":\"Pet Profile Form\",\"url\":\"file:///C:/Users/Kozy-Korpesh/Desktop/datapalooza/website/pet_profile.html\"},\"timezone\":\"Europe/Berlin\",\"userAgent\":\"Mozilla/5.0 (Windows NT 10.0; Win64; x64) AppleWebKit/537.36 (KHTML, like Gecko) Chrome/112.0.0.0 Safari/537.36\",\"userAgentData\":{\"brands\":[{\"brand\":\"Chromium\",\"version\":\"112\"},{\"brand\":\"Google Chrome\",\"version\":\"112\"},{\"brand\":\"Not:A-Brand\",\"version\":\"99\"}],\"mobile\":false,\"platform\":\"Windows\"}},\"event\":\"Pet profile Submitted\",\"integrations\":{},\"messageId\":\"ajs-next-1ec167ffb9a7fc6e6e1d9c62314428b5\",\"originalTimestamp\":\"2023-11-16T12:17:09.779Z\",\"projectId\":\"pGmYy5aVoCQqk1qGQQ1Z1h\",\"properties\":{\"type\":\"Lead Generation\"},\"receivedAt\":\"2023-11-16T12:17:11.572Z\",\"sentAt\":\"2023-11-16T12:17:09.782Z\",\"timestamp\":\"2023-11-16T12:17:11.569Z\",\"type\":\"track\",\"userId\":\"12345\",\"version\":2                                           }"
        ],
        [
         "{\"_metadata\":{\"bundled\":[\"Segment.io\"],\"bundledIds\":[],\"unbundled\":[]},\"anonymousId\":\"1adad8dc-cb78-4806-b83e-3b313b672267\",\"channel\":\"client\",\"context\":{\"ip\":\"93.47.20.8\",\"library\":{\"name\":\"analytics.js\",\"version\":\"next-1.61.0\"},\"locale\":\"ru\",\"page\":{\"path\":\"/datapalooza/website/\",\"referrer\":\"\",\"search\":\"\",\"title\":\"Pet Caring Services\",\"url\":\"https://kozeke.github.io/datapalooza/website/\"},\"timezone\":\"Europe/Berlin\",\"userAgent\":\"Mozilla/5.0 (Windows NT 10.0; Win64; x64) AppleWebKit/537.36 (KHTML, like Gecko) Chrome/119.0.0.0 Safari/537.36 Edg/119.0.0.0\",\"userAgentData\":{\"brands\":[{\"brand\":\"Microsoft Edge\",\"version\":\"119\"},{\"brand\":\"Chromium\",\"version\":\"119\"},{\"brand\":\"Not?A_Brand\",\"version\":\"24\"}],\"mobile\":false,\"platform\":\"Windows\"}},\"integrations\":{},\"messageId\":\"ajs-next-454e5e581cd01c41f27922fbe916d7f9\",\"originalTimestamp\":\"2023-11-16T16:59:57.553Z\",\"projectId\":\"pGmYy5aVoCQqk1qGQQ1Z1h\",\"properties\":{\"path\":\"/datapalooza/website/\",\"referrer\":\"\",\"search\":\"\",\"title\":\"Pet Caring Services\",\"url\":\"https://kozeke.github.io/datapalooza/website/\"},\"receivedAt\":\"2023-11-16T16:59:59.197Z\",\"sentAt\":\"2023-11-16T16:59:57.568Z\",\"timestamp\":\"2023-11-16T16:59:59.182Z\",\"type\":\"page\",\"userId\":\"12345\",\"version\":2                                           }"
        ],
        [
         "{\"_metadata\":{\"bundled\":[\"Segment.io\"],\"bundledIds\":[],\"unbundled\":[]},\"anonymousId\":\"bafd4d6a-1a95-460d-aae7-611d32052d8b\",\"channel\":\"client\",\"context\":{\"ip\":\"93.47.20.8\",\"library\":{\"name\":\"analytics.js\",\"version\":\"next-1.61.0\"},\"locale\":\"ru-RU\",\"page\":{\"path\":\"/C:/Users/Kozy-Korpesh/Desktop/datapalooza/website/pet_profile.html\",\"referrer\":\"\",\"search\":\"\",\"title\":\"Pet Profile Form\",\"url\":\"file:///C:/Users/Kozy-Korpesh/Desktop/datapalooza/website/pet_profile.html\"},\"timezone\":\"Europe/Berlin\",\"userAgent\":\"Mozilla/5.0 (Windows NT 10.0; Win64; x64) AppleWebKit/537.36 (KHTML, like Gecko) Chrome/112.0.0.0 Safari/537.36\",\"userAgentData\":{\"brands\":[{\"brand\":\"Chromium\",\"version\":\"112\"},{\"brand\":\"Google Chrome\",\"version\":\"112\"},{\"brand\":\"Not:A-Brand\",\"version\":\"99\"}],\"mobile\":false,\"platform\":\"Windows\"}},\"integrations\":{},\"messageId\":\"ajs-next-1d06a59091eb2c8cbc4c1eeea5c1666d\",\"originalTimestamp\":\"2023-11-16T21:34:35.553Z\",\"projectId\":\"pGmYy5aVoCQqk1qGQQ1Z1h\",\"properties\":{\"path\":\"/C:/Users/Kozy-Korpesh/Desktop/datapalooza/website/pet_profile.html\",\"referrer\":\"\",\"search\":\"\",\"title\":\"Pet Profile Form\",\"url\":\"file:///C:/Users/Kozy-Korpesh/Desktop/datapalooza/website/pet_profile.html\"},\"receivedAt\":\"2023-11-16T21:34:37.420Z\",\"sentAt\":\"2023-11-16T21:34:35.571Z\",\"timestamp\":\"2023-11-16T21:34:37.402Z\",\"type\":\"page\",\"userId\":\"12345\",\"version\":2                                           }"
        ],
        [
         "{\"_metadata\":{\"bundled\":[\"Segment.io\"],\"bundledIds\":[],\"unbundled\":[]},\"anonymousId\":\"bafd4d6a-1a95-460d-aae7-611d32052d8b\",\"channel\":\"client\",\"context\":{\"ip\":\"93.47.20.8\",\"library\":{\"name\":\"analytics.js\",\"version\":\"next-1.61.0\"},\"locale\":\"ru-RU\",\"page\":{\"path\":\"/C:/Users/Kozy-Korpesh/Desktop/datapalooza/website/pet_profile.html\",\"referrer\":\"\",\"search\":\"\",\"title\":\"Pet Profile Form\",\"url\":\"file:///C:/Users/Kozy-Korpesh/Desktop/datapalooza/website/pet_profile.html\"},\"timezone\":\"Europe/Berlin\",\"userAgent\":\"Mozilla/5.0 (Windows NT 10.0; Win64; x64) AppleWebKit/537.36 (KHTML, like Gecko) Chrome/112.0.0.0 Safari/537.36\",\"userAgentData\":{\"brands\":[{\"brand\":\"Chromium\",\"version\":\"112\"},{\"brand\":\"Google Chrome\",\"version\":\"112\"},{\"brand\":\"Not:A-Brand\",\"version\":\"99\"}],\"mobile\":false,\"platform\":\"Windows\"}},\"integrations\":{\"Salesforce\":true},\"messageId\":\"ajs-next-9e37e22382669d6ff29dd654deae36f1\",\"originalTimestamp\":\"2023-11-16T21:34:56.205Z\",\"projectId\":\"pGmYy5aVoCQqk1qGQQ1Z1h\",\"receivedAt\":\"2023-11-16T21:34:58.042Z\",\"sentAt\":\"2023-11-16T21:34:56.211Z\",\"timestamp\":\"2023-11-16T21:34:58.036Z\",\"traits\":{\"Obesity\":\"true\",\"VaccinationsUpToDate\":\"true\",\"address\":\"2 Via Asiago\",\"age\":\"3\",\"breed\":\"bulldog\",\"breedPredisposition\":\"true\",\"category\":\"Marketing\",\"clicked_random_link\":\"true\",\"diet\":\"hjhj\",\"email\":\"admin@ir.kz\",\"exercise\":\"3\",\"geneticFactors\":\"true\",\"id\":\"1\",\"is_first_session\":\"true\",\"leadSource\":\"Newsletter\",\"name\":\"Kozy-Korpesh Tolep\",\"previoushealthconditions\":\"kil\",\"viewed_product\":\"true\",\"weight\":\"0\"},\"type\":\"identify\",\"userId\":\"12345\",\"version\":2                                           }"
        ],
        [
         "{\"_metadata\":{\"bundled\":[\"Segment.io\"],\"bundledIds\":[],\"unbundled\":[]},\"anonymousId\":\"bafd4d6a-1a95-460d-aae7-611d32052d8b\",\"channel\":\"client\",\"context\":{\"ip\":\"93.47.20.8\",\"library\":{\"name\":\"analytics.js\",\"version\":\"next-1.61.0\"},\"locale\":\"ru-RU\",\"page\":{\"path\":\"/C:/Users/Kozy-Korpesh/Desktop/datapalooza/website/pet_profile.html\",\"referrer\":\"\",\"search\":\"\",\"title\":\"Pet Profile Form\",\"url\":\"file:///C:/Users/Kozy-Korpesh/Desktop/datapalooza/website/pet_profile.html\"},\"timezone\":\"Europe/Berlin\",\"userAgent\":\"Mozilla/5.0 (Windows NT 10.0; Win64; x64) AppleWebKit/537.36 (KHTML, like Gecko) Chrome/112.0.0.0 Safari/537.36\",\"userAgentData\":{\"brands\":[{\"brand\":\"Chromium\",\"version\":\"112\"},{\"brand\":\"Google Chrome\",\"version\":\"112\"},{\"brand\":\"Not:A-Brand\",\"version\":\"99\"}],\"mobile\":false,\"platform\":\"Windows\"}},\"event\":\"Pet profile Submitted\",\"integrations\":{},\"messageId\":\"ajs-next-56060b1fc314d80373040128e8191e9e\",\"originalTimestamp\":\"2023-11-16T21:34:56.208Z\",\"projectId\":\"pGmYy5aVoCQqk1qGQQ1Z1h\",\"properties\":{\"type\":\"Lead Generation\"},\"receivedAt\":\"2023-11-16T21:34:58.042Z\",\"sentAt\":\"2023-11-16T21:34:56.212Z\",\"timestamp\":\"2023-11-16T21:34:58.038Z\",\"type\":\"track\",\"userId\":\"12345\",\"version\":2                                           }"
        ]
       ],
       "datasetInfos": [],
       "dbfsResultPath": null,
       "isJsonSchema": true,
       "metadata": {},
       "overflow": false,
       "plotOptions": {
        "customPlotOptions": {},
        "displayType": "table",
        "pivotAggregation": null,
        "pivotColumns": null,
        "xColumns": null,
        "yColumns": null
       },
       "removedWidgets": [],
       "schema": [
        {
         "metadata": "{}",
         "name": "data",
         "type": "\"string\""
        }
       ],
       "type": "table"
      }
     }
    }
   ],
   "metadata": {
    "application/vnd.databricks.v1+cell": {
     "cellMetadata": {
      "byteLimit": 2048000,
      "rowLimit": 10000
     },
     "inputWidgets": {},
     "nuid": "389fe85b-5645-4fbf-93fd-4b2264200f9e",
     "showTitle": false,
     "title": ""
    }
   }
  },
  {
   "cell_type": "code",
   "execution_count": null,
   "source": [
    "from pyspark.sql.functions import col,from_json, current_timestamp\n",
    "\n",
    "df = sql_context\\\n",
    ".readStream\\\n",
    ".format(\"kinesis\")\\\n",
    ".option(\"streamName\", my_stream_name)\\\n",
    ".option(\"initialPosition\", \"earliest\")\\\n",
    ".option (\"awsAccessKey\", awsAccessKeyId)\\\n",
    ".option (\"awsSecretKey\", awsSecretKeyId)\\\n",
    ".option(\"region\", kinesisRegion).load()\\\n",
    ".withColumn('data', from_json(col('data').cast('string'), input_schema)).select('data')"
   ],
   "outputs": [],
   "metadata": {
    "application/vnd.databricks.v1+cell": {
     "cellMetadata": {
      "byteLimit": 2048000,
      "rowLimit": 10000
     },
     "inputWidgets": {},
     "nuid": "783f5bd5-a1aa-416c-a459-f391fcb56d5a",
     "showTitle": false,
     "title": ""
    }
   }
  },
  {
   "cell_type": "code",
   "execution_count": null,
   "source": [
    "display(df)"
   ],
   "outputs": [
    {
     "output_type": "display_data",
     "data": {
      "text/html": [
       "<style scoped>\n",
       "  .table-result-container {\n",
       "    max-height: 300px;\n",
       "    overflow: auto;\n",
       "  }\n",
       "  table, th, td {\n",
       "    border: 1px solid black;\n",
       "    border-collapse: collapse;\n",
       "  }\n",
       "  th, td {\n",
       "    padding: 5px;\n",
       "  }\n",
       "  th {\n",
       "    text-align: left;\n",
       "  }\n",
       "</style><div class='table-result-container'><table class='table-result'><thead style='background-color: white'><tr><th>data</th></tr></thead><tbody><tr><td>List(page, 12345, null, null)</td></tr><tr><td>List(page, 12345, null, null)</td></tr><tr><td>List(identify, 12345, List(null, null, null, null, null, null, null, null, null, null, null), null)</td></tr><tr><td>List(track, 12345, null, Form Submitted)</td></tr><tr><td>List(page, 12345, null, null)</td></tr><tr><td>List(page, 12345, null, null)</td></tr><tr><td>List(page, 12345, null, null)</td></tr><tr><td>List(track, 12345, null, Pet profile Submitted)</td></tr><tr><td>List(identify, 12345, List(6, 78, true, true, 78, hjhj, 7, bulldog, hjh, true, true), null)</td></tr><tr><td>List(page, 12345, null, null)</td></tr><tr><td>List(track, 12345, null, Pet profile Submitted)</td></tr><tr><td>List(identify, 12345, List(6, 78, true, true, 78, hjhj, 7, bulldog, hjh, true, true), null)</td></tr><tr><td>List(track, 12345, null, Pet profile Submitted)</td></tr><tr><td>List(identify, 12345, List(6, 78, true, true, 78, hjhj, 7, bulldog, hjh, true, true), null)</td></tr><tr><td>List(track, 12345, null, Pet profile Submitted)</td></tr><tr><td>List(identify, 12345, List(6, 78, true, true, 78, hjhj, 7, bulldog, hjh, true, true), null)</td></tr><tr><td>List(identify, 12345, List(6, 78, true, true, 78, hjhj, 7, bulldog, hjh, true, true), null)</td></tr><tr><td>List(track, 12345, null, Pet profile Submitted)</td></tr><tr><td>List(identify, 12345, List(5, 78, true, true, 78, hjhj, 7, bulldog, hjh, true, true), null)</td></tr><tr><td>List(track, 12345, null, Pet profile Submitted)</td></tr><tr><td>List(track, 12345, null, Pet profile Submitted)</td></tr><tr><td>List(identify, 12345, List(4, 78, true, true, 78, hjhj, 7, bulldog, hjh, true, true), null)</td></tr><tr><td>List(identify, 12345, List(4, 78, true, true, 78, hjhj, 7, bulldog, hjh, true, true), null)</td></tr><tr><td>List(track, 12345, null, Pet profile Submitted)</td></tr><tr><td>List(identify, 12345, List(4, 78, true, true, 78, hjhj, 7, bulldog, hjh, true, true), null)</td></tr><tr><td>List(track, 12345, null, Pet profile Submitted)</td></tr><tr><td>List(identify, 12345, List(4, 78, true, true, 78, hjhj, 7, bulldog, hjh, true, true), null)</td></tr><tr><td>List(track, 12345, null, Pet profile Submitted)</td></tr><tr><td>List(identify, 12345, List(4, 78, true, true, 78, hjhj, 7, bulldog, hjh, true, true), null)</td></tr><tr><td>List(track, 12345, null, Pet profile Submitted)</td></tr><tr><td>List(page, 12345, null, null)</td></tr><tr><td>List(page, 12345, null, null)</td></tr><tr><td>List(identify, 12345, List(1, 0, true, true, 3, hjhj, 3, bulldog, kil, true, true), null)</td></tr><tr><td>List(track, 12345, null, Pet profile Submitted)</td></tr></tbody></table></div>"
      ]
     },
     "metadata": {
      "application/vnd.databricks.v1+output": {
       "addedWidgets": {},
       "aggData": [],
       "aggError": "",
       "aggOverflow": false,
       "aggSchema": [],
       "aggSeriesLimitReached": false,
       "aggType": "",
       "arguments": {},
       "columnCustomDisplayInfos": {},
       "data": [
        [
         [
          "page",
          "12345",
          null,
          null
         ]
        ],
        [
         [
          "page",
          "12345",
          null,
          null
         ]
        ],
        [
         [
          "identify",
          "12345",
          [
           null,
           null,
           null,
           null,
           null,
           null,
           null,
           null,
           null,
           null,
           null
          ],
          null
         ]
        ],
        [
         [
          "track",
          "12345",
          null,
          "Form Submitted"
         ]
        ],
        [
         [
          "page",
          "12345",
          null,
          null
         ]
        ],
        [
         [
          "page",
          "12345",
          null,
          null
         ]
        ],
        [
         [
          "page",
          "12345",
          null,
          null
         ]
        ],
        [
         [
          "track",
          "12345",
          null,
          "Pet profile Submitted"
         ]
        ],
        [
         [
          "identify",
          "12345",
          [
           "6",
           "78",
           "true",
           "true",
           "78",
           "hjhj",
           "7",
           "bulldog",
           "hjh",
           "true",
           "true"
          ],
          null
         ]
        ],
        [
         [
          "page",
          "12345",
          null,
          null
         ]
        ],
        [
         [
          "track",
          "12345",
          null,
          "Pet profile Submitted"
         ]
        ],
        [
         [
          "identify",
          "12345",
          [
           "6",
           "78",
           "true",
           "true",
           "78",
           "hjhj",
           "7",
           "bulldog",
           "hjh",
           "true",
           "true"
          ],
          null
         ]
        ],
        [
         [
          "track",
          "12345",
          null,
          "Pet profile Submitted"
         ]
        ],
        [
         [
          "identify",
          "12345",
          [
           "6",
           "78",
           "true",
           "true",
           "78",
           "hjhj",
           "7",
           "bulldog",
           "hjh",
           "true",
           "true"
          ],
          null
         ]
        ],
        [
         [
          "track",
          "12345",
          null,
          "Pet profile Submitted"
         ]
        ],
        [
         [
          "identify",
          "12345",
          [
           "6",
           "78",
           "true",
           "true",
           "78",
           "hjhj",
           "7",
           "bulldog",
           "hjh",
           "true",
           "true"
          ],
          null
         ]
        ],
        [
         [
          "identify",
          "12345",
          [
           "6",
           "78",
           "true",
           "true",
           "78",
           "hjhj",
           "7",
           "bulldog",
           "hjh",
           "true",
           "true"
          ],
          null
         ]
        ],
        [
         [
          "track",
          "12345",
          null,
          "Pet profile Submitted"
         ]
        ],
        [
         [
          "identify",
          "12345",
          [
           "5",
           "78",
           "true",
           "true",
           "78",
           "hjhj",
           "7",
           "bulldog",
           "hjh",
           "true",
           "true"
          ],
          null
         ]
        ],
        [
         [
          "track",
          "12345",
          null,
          "Pet profile Submitted"
         ]
        ],
        [
         [
          "track",
          "12345",
          null,
          "Pet profile Submitted"
         ]
        ],
        [
         [
          "identify",
          "12345",
          [
           "4",
           "78",
           "true",
           "true",
           "78",
           "hjhj",
           "7",
           "bulldog",
           "hjh",
           "true",
           "true"
          ],
          null
         ]
        ],
        [
         [
          "identify",
          "12345",
          [
           "4",
           "78",
           "true",
           "true",
           "78",
           "hjhj",
           "7",
           "bulldog",
           "hjh",
           "true",
           "true"
          ],
          null
         ]
        ],
        [
         [
          "track",
          "12345",
          null,
          "Pet profile Submitted"
         ]
        ],
        [
         [
          "identify",
          "12345",
          [
           "4",
           "78",
           "true",
           "true",
           "78",
           "hjhj",
           "7",
           "bulldog",
           "hjh",
           "true",
           "true"
          ],
          null
         ]
        ],
        [
         [
          "track",
          "12345",
          null,
          "Pet profile Submitted"
         ]
        ],
        [
         [
          "identify",
          "12345",
          [
           "4",
           "78",
           "true",
           "true",
           "78",
           "hjhj",
           "7",
           "bulldog",
           "hjh",
           "true",
           "true"
          ],
          null
         ]
        ],
        [
         [
          "track",
          "12345",
          null,
          "Pet profile Submitted"
         ]
        ],
        [
         [
          "identify",
          "12345",
          [
           "4",
           "78",
           "true",
           "true",
           "78",
           "hjhj",
           "7",
           "bulldog",
           "hjh",
           "true",
           "true"
          ],
          null
         ]
        ],
        [
         [
          "track",
          "12345",
          null,
          "Pet profile Submitted"
         ]
        ],
        [
         [
          "page",
          "12345",
          null,
          null
         ]
        ],
        [
         [
          "page",
          "12345",
          null,
          null
         ]
        ],
        [
         [
          "identify",
          "12345",
          [
           "1",
           "0",
           "true",
           "true",
           "3",
           "hjhj",
           "3",
           "bulldog",
           "kil",
           "true",
           "true"
          ],
          null
         ]
        ],
        [
         [
          "track",
          "12345",
          null,
          "Pet profile Submitted"
         ]
        ]
       ],
       "datasetInfos": [],
       "dbfsResultPath": null,
       "isJsonSchema": true,
       "metadata": {
        "isDbfsCommandResult": false
       },
       "overflow": false,
       "plotOptions": {
        "customPlotOptions": {},
        "displayType": "table",
        "pivotAggregation": null,
        "pivotColumns": null,
        "xColumns": null,
        "yColumns": null
       },
       "removedWidgets": [],
       "schema": [
        {
         "metadata": "{}",
         "name": "data",
         "type": "{\"type\":\"struct\",\"fields\":[{\"name\":\"type\",\"type\":\"string\",\"nullable\":true,\"metadata\":{}},{\"name\":\"userId\",\"type\":\"string\",\"nullable\":true,\"metadata\":{}},{\"name\":\"traits\",\"type\":{\"type\":\"struct\",\"fields\":[{\"name\":\"id\",\"type\":\"string\",\"nullable\":true,\"metadata\":{}},{\"name\":\"weight\",\"type\":\"string\",\"nullable\":true,\"metadata\":{}},{\"name\":\"VaccinationsUpToDate\",\"type\":\"string\",\"nullable\":true,\"metadata\":{}},{\"name\":\"Obesity\",\"type\":\"string\",\"nullable\":true,\"metadata\":{}},{\"name\":\"age\",\"type\":\"string\",\"nullable\":true,\"metadata\":{}},{\"name\":\"diet\",\"type\":\"string\",\"nullable\":true,\"metadata\":{}},{\"name\":\"exercise\",\"type\":\"string\",\"nullable\":true,\"metadata\":{}},{\"name\":\"breed\",\"type\":\"string\",\"nullable\":true,\"metadata\":{}},{\"name\":\"previoushealthconditions\",\"type\":\"string\",\"nullable\":true,\"metadata\":{}},{\"name\":\"breedPredisposition\",\"type\":\"string\",\"nullable\":true,\"metadata\":{}},{\"name\":\"geneticFactors\",\"type\":\"string\",\"nullable\":true,\"metadata\":{}}]},\"nullable\":true,\"metadata\":{}},{\"name\":\"event\",\"type\":\"string\",\"nullable\":true,\"metadata\":{}}]}"
        }
       ],
       "type": "table"
      }
     }
    }
   ],
   "metadata": {
    "application/vnd.databricks.v1+cell": {
     "cellMetadata": {
      "byteLimit": 2048000,
      "rowLimit": 10000
     },
     "inputWidgets": {},
     "nuid": "390263a0-c2ed-4e74-9f57-7b8ce13fc647",
     "showTitle": false,
     "title": ""
    }
   }
  },
  {
   "cell_type": "code",
   "execution_count": null,
   "source": [
    "df.printSchema()"
   ],
   "outputs": [
    {
     "output_type": "stream",
     "name": "stdout",
     "text": [
      "root\n",
      " |-- data: struct (nullable = true)\n",
      " |    |-- type: string (nullable = true)\n",
      " |    |-- userId: string (nullable = true)\n",
      " |    |-- traits: struct (nullable = true)\n",
      " |    |    |-- id: string (nullable = true)\n",
      " |    |    |-- weight: string (nullable = true)\n",
      " |    |    |-- VaccinationsUpToDate: string (nullable = true)\n",
      " |    |    |-- Obesity: string (nullable = true)\n",
      " |    |    |-- age: string (nullable = true)\n",
      " |    |    |-- diet: string (nullable = true)\n",
      " |    |    |-- exercise: string (nullable = true)\n",
      " |    |    |-- breed: string (nullable = true)\n",
      " |    |    |-- previoushealthconditions: string (nullable = true)\n",
      " |    |    |-- breedPredisposition: string (nullable = true)\n",
      " |    |    |-- geneticFactors: string (nullable = true)\n",
      " |    |-- event: string (nullable = true)\n",
      "\n"
     ]
    }
   ],
   "metadata": {
    "application/vnd.databricks.v1+cell": {
     "cellMetadata": {
      "byteLimit": 2048000,
      "rowLimit": 10000
     },
     "inputWidgets": {},
     "nuid": "ce542000-55ba-43d1-80d6-328b51836b49",
     "showTitle": false,
     "title": ""
    }
   }
  },
  {
   "cell_type": "code",
   "execution_count": null,
   "source": [
    "df = df.filter(col('data.type')==\"identify\")\n",
    "df = df.filter(col('data.traits.weight').isNotNull())\n",
    "df = df.filter(col('data.traits.id').isNotNull())\n"
   ],
   "outputs": [],
   "metadata": {
    "application/vnd.databricks.v1+cell": {
     "cellMetadata": {
      "byteLimit": 2048000,
      "rowLimit": 10000
     },
     "inputWidgets": {},
     "nuid": "3200b6a9-ecc0-4d7d-b371-063a75a09ac3",
     "showTitle": false,
     "title": ""
    }
   }
  },
  {
   "cell_type": "code",
   "execution_count": null,
   "source": [
    "display(df)"
   ],
   "outputs": [],
   "metadata": {
    "application/vnd.databricks.v1+cell": {
     "cellMetadata": {
      "byteLimit": 2048000,
      "rowLimit": 10000
     },
     "inputWidgets": {},
     "nuid": "034581e5-ae57-489e-8161-20d1c4dc169d",
     "showTitle": false,
     "title": ""
    }
   }
  },
  {
   "cell_type": "code",
   "execution_count": null,
   "source": [
    "df=df\\\n",
    "    .select('data.type','data.traits.weight','data.traits.id','data.traits.VaccinationsUpToDate','data.traits.Obesity','data.traits.age', 'data.traits.diet','data.traits.exercise','data.traits.breed', 'data.traits.previoushealthconditions','data.traits.geneticFactors','data.traits.breedPredisposition')"
   ],
   "outputs": [],
   "metadata": {
    "application/vnd.databricks.v1+cell": {
     "cellMetadata": {
      "byteLimit": 2048000,
      "rowLimit": 10000
     },
     "inputWidgets": {},
     "nuid": "c87e71b1-372d-4cd9-ad54-efb5b174af10",
     "showTitle": false,
     "title": ""
    }
   }
  },
  {
   "cell_type": "code",
   "execution_count": null,
   "source": [
    "df = df.withColumn('id', col('id').cast('int'))\\\n",
    "        .withColumn('weight', col('weight').cast('int'))\\\n",
    "        .withColumn('age', col('age').cast('int'))\\\n",
    "        .withColumn('exercise', col('exercise').cast('int'))\\\n",
    "        .withColumn('VaccinationsUpToDate', col('VaccinationsUpToDate').cast('boolean'))\\\n",
    "        .withColumn('breedPredisposition', col('breedPredisposition').cast('boolean'))\\\n",
    "        .withColumn('geneticFactors', col('geneticFactors').cast('boolean'))\\\n",
    "        .withColumn('Obesity', col('Obesity').cast('boolean'))"
   ],
   "outputs": [],
   "metadata": {
    "application/vnd.databricks.v1+cell": {
     "cellMetadata": {
      "byteLimit": 2048000,
      "rowLimit": 10000
     },
     "inputWidgets": {},
     "nuid": "d772bdc1-be32-4a1c-877b-699d598ec46d",
     "showTitle": false,
     "title": ""
    }
   }
  },
  {
   "cell_type": "code",
   "execution_count": null,
   "source": [
    "df = df.withColumnRenamed('VaccinationsUpToDate', 'VaccinationsUpToDate')\\\n",
    "        .withColumnRenamed('breedPredisposition', 'Breed Predisposition')\\\n",
    "        .withColumnRenamed('geneticFactors', 'Genetic Factors')"
   ],
   "outputs": [],
   "metadata": {
    "application/vnd.databricks.v1+cell": {
     "cellMetadata": {
      "byteLimit": 2048000,
      "rowLimit": 10000
     },
     "inputWidgets": {},
     "nuid": "b61b2ba0-b59f-41be-8dd2-210801231676",
     "showTitle": false,
     "title": ""
    }
   }
  },
  {
   "cell_type": "code",
   "execution_count": null,
   "source": [
    "import mlflow\n",
    "from pyspark.sql.functions import struct, col\n",
    "logged_model = 'runs:/c3854779465d4578b7197bf0c272b9fc/model'\n",
    "\n",
    "# Load model as a Spark UDF. Override result_type if the model does not return double values.\n",
    "loaded_model = mlflow.pyfunc.spark_udf(spark, model_uri=logged_model, result_type='string')\n",
    "\n",
    "# Predict on a Spark DataFrame.\n",
    "prediction = loaded_model(struct(*map(col, df.columns)))\n",
    "print(prediction[0])\n",
    "with_prediction_df = df.withColumn('prediction', prediction)"
   ],
   "outputs": [
    {
     "output_type": "stream",
     "name": "stderr",
     "text": [
      "2023/11/16 21:40:29 WARNING mlflow.pyfunc: Detected one or more mismatches between the model's dependencies and the current Python environment:\n",
      " - cloudpickle (current: 2.0.0, required: cloudpickle==1.6.0)\n",
      " - databricks-automl-runtime (current: 0.2.15, required: databricks-automl-runtime==0.2.6.5)\n",
      " - holidays (current: 0.18, required: holidays==0.12)\n",
      " - koalas (current: uninstalled, required: koalas==1.8.2)\n",
      " - scikit-learn (current: 1.0.2, required: scikit-learn==0.24.1)\n",
      " - typing-extensions (current: 4.1.1, required: typing-extensions==3.7.4.3)\n",
      "To fix the mismatches, call `mlflow.pyfunc.get_model_dependencies(model_uri)` to fetch the model's environment and install dependencies using the resulting environment file.\n",
      "2023/11/16 21:40:29 WARNING mlflow.pyfunc: Calling `spark_udf()` with `env_manager=\"local\"` does not recreate the same environment that was used during training, which may lead to errors or inaccurate predictions. We recommend specifying `env_manager=\"conda\"`, which automatically recreates the environment that was used to train the model and performs inference in the recreated environment.\n",
      "2023/11/16 21:40:29 INFO mlflow.models.flavor_backend_registry: Selected backend for flavor 'python_function'\n"
     ]
    },
    {
     "output_type": "stream",
     "name": "stdout",
     "text": [
      "Column<'udf(struct(type, type, weight, weight, id, id, VaccinationsUpToDate, VaccinationsUpToDate, Obesity, Obesity, age, age, diet, diet, exercise, exercise, breed, breed, previoushealthconditions, previoushealthconditions, Genetic Factors, Genetic Factors, Breed Predisposition, Breed Predisposition))[0]'>\n"
     ]
    }
   ],
   "metadata": {
    "application/vnd.databricks.v1+cell": {
     "cellMetadata": {
      "byteLimit": 2048000,
      "rowLimit": 10000
     },
     "inputWidgets": {},
     "nuid": "f3fcddcd-5614-4794-a69c-dd173ae2125d",
     "showTitle": false,
     "title": ""
    }
   }
  },
  {
   "cell_type": "code",
   "execution_count": null,
   "source": [
    "display(with_prediction_df)"
   ],
   "outputs": [
    {
     "output_type": "display_data",
     "data": {
      "text/html": [
       "<style scoped>\n",
       "  .table-result-container {\n",
       "    max-height: 300px;\n",
       "    overflow: auto;\n",
       "  }\n",
       "  table, th, td {\n",
       "    border: 1px solid black;\n",
       "    border-collapse: collapse;\n",
       "  }\n",
       "  th, td {\n",
       "    padding: 5px;\n",
       "  }\n",
       "  th {\n",
       "    text-align: left;\n",
       "  }\n",
       "</style><div class='table-result-container'><table class='table-result'><thead style='background-color: white'><tr><th>type</th><th>weight</th><th>id</th><th>VaccinationsUpToDate</th><th>Obesity</th><th>age</th><th>diet</th><th>exercise</th><th>breed</th><th>previoushealthconditions</th><th>Genetic Factors</th><th>Breed Predisposition</th><th>prediction</th></tr></thead><tbody><tr><td>identify</td><td>78</td><td>6</td><td>true</td><td>true</td><td>78</td><td>hjhj</td><td>7</td><td>bulldog</td><td>hjh</td><td>true</td><td>true</td><td>True</td></tr><tr><td>identify</td><td>78</td><td>6</td><td>true</td><td>true</td><td>78</td><td>hjhj</td><td>7</td><td>bulldog</td><td>hjh</td><td>true</td><td>true</td><td>True</td></tr><tr><td>identify</td><td>78</td><td>6</td><td>true</td><td>true</td><td>78</td><td>hjhj</td><td>7</td><td>bulldog</td><td>hjh</td><td>true</td><td>true</td><td>True</td></tr><tr><td>identify</td><td>78</td><td>6</td><td>true</td><td>true</td><td>78</td><td>hjhj</td><td>7</td><td>bulldog</td><td>hjh</td><td>true</td><td>true</td><td>True</td></tr><tr><td>identify</td><td>78</td><td>6</td><td>true</td><td>true</td><td>78</td><td>hjhj</td><td>7</td><td>bulldog</td><td>hjh</td><td>true</td><td>true</td><td>True</td></tr><tr><td>identify</td><td>78</td><td>5</td><td>true</td><td>true</td><td>78</td><td>hjhj</td><td>7</td><td>bulldog</td><td>hjh</td><td>true</td><td>true</td><td>True</td></tr><tr><td>identify</td><td>78</td><td>4</td><td>true</td><td>true</td><td>78</td><td>hjhj</td><td>7</td><td>bulldog</td><td>hjh</td><td>true</td><td>true</td><td>True</td></tr><tr><td>identify</td><td>78</td><td>4</td><td>true</td><td>true</td><td>78</td><td>hjhj</td><td>7</td><td>bulldog</td><td>hjh</td><td>true</td><td>true</td><td>True</td></tr><tr><td>identify</td><td>78</td><td>4</td><td>true</td><td>true</td><td>78</td><td>hjhj</td><td>7</td><td>bulldog</td><td>hjh</td><td>true</td><td>true</td><td>True</td></tr><tr><td>identify</td><td>78</td><td>4</td><td>true</td><td>true</td><td>78</td><td>hjhj</td><td>7</td><td>bulldog</td><td>hjh</td><td>true</td><td>true</td><td>True</td></tr><tr><td>identify</td><td>78</td><td>4</td><td>true</td><td>true</td><td>78</td><td>hjhj</td><td>7</td><td>bulldog</td><td>hjh</td><td>true</td><td>true</td><td>True</td></tr><tr><td>identify</td><td>0</td><td>1</td><td>true</td><td>true</td><td>3</td><td>hjhj</td><td>3</td><td>bulldog</td><td>kil</td><td>true</td><td>true</td><td>True</td></tr></tbody></table></div>"
      ]
     },
     "metadata": {
      "application/vnd.databricks.v1+output": {
       "addedWidgets": {},
       "aggData": [],
       "aggError": "",
       "aggOverflow": false,
       "aggSchema": [],
       "aggSeriesLimitReached": false,
       "aggType": "",
       "arguments": {},
       "columnCustomDisplayInfos": {},
       "data": [
        [
         "identify",
         78,
         6,
         true,
         true,
         78,
         "hjhj",
         7,
         "bulldog",
         "hjh",
         true,
         true,
         "True"
        ],
        [
         "identify",
         78,
         6,
         true,
         true,
         78,
         "hjhj",
         7,
         "bulldog",
         "hjh",
         true,
         true,
         "True"
        ],
        [
         "identify",
         78,
         6,
         true,
         true,
         78,
         "hjhj",
         7,
         "bulldog",
         "hjh",
         true,
         true,
         "True"
        ],
        [
         "identify",
         78,
         6,
         true,
         true,
         78,
         "hjhj",
         7,
         "bulldog",
         "hjh",
         true,
         true,
         "True"
        ],
        [
         "identify",
         78,
         6,
         true,
         true,
         78,
         "hjhj",
         7,
         "bulldog",
         "hjh",
         true,
         true,
         "True"
        ],
        [
         "identify",
         78,
         5,
         true,
         true,
         78,
         "hjhj",
         7,
         "bulldog",
         "hjh",
         true,
         true,
         "True"
        ],
        [
         "identify",
         78,
         4,
         true,
         true,
         78,
         "hjhj",
         7,
         "bulldog",
         "hjh",
         true,
         true,
         "True"
        ],
        [
         "identify",
         78,
         4,
         true,
         true,
         78,
         "hjhj",
         7,
         "bulldog",
         "hjh",
         true,
         true,
         "True"
        ],
        [
         "identify",
         78,
         4,
         true,
         true,
         78,
         "hjhj",
         7,
         "bulldog",
         "hjh",
         true,
         true,
         "True"
        ],
        [
         "identify",
         78,
         4,
         true,
         true,
         78,
         "hjhj",
         7,
         "bulldog",
         "hjh",
         true,
         true,
         "True"
        ],
        [
         "identify",
         78,
         4,
         true,
         true,
         78,
         "hjhj",
         7,
         "bulldog",
         "hjh",
         true,
         true,
         "True"
        ],
        [
         "identify",
         0,
         1,
         true,
         true,
         3,
         "hjhj",
         3,
         "bulldog",
         "kil",
         true,
         true,
         "True"
        ]
       ],
       "datasetInfos": [],
       "dbfsResultPath": null,
       "isJsonSchema": true,
       "metadata": {
        "isDbfsCommandResult": false
       },
       "overflow": false,
       "plotOptions": {
        "customPlotOptions": {},
        "displayType": "table",
        "pivotAggregation": null,
        "pivotColumns": null,
        "xColumns": null,
        "yColumns": null
       },
       "removedWidgets": [],
       "schema": [
        {
         "metadata": "{}",
         "name": "type",
         "type": "\"string\""
        },
        {
         "metadata": "{}",
         "name": "weight",
         "type": "\"integer\""
        },
        {
         "metadata": "{}",
         "name": "id",
         "type": "\"integer\""
        },
        {
         "metadata": "{}",
         "name": "VaccinationsUpToDate",
         "type": "\"boolean\""
        },
        {
         "metadata": "{}",
         "name": "Obesity",
         "type": "\"boolean\""
        },
        {
         "metadata": "{}",
         "name": "age",
         "type": "\"integer\""
        },
        {
         "metadata": "{}",
         "name": "diet",
         "type": "\"string\""
        },
        {
         "metadata": "{}",
         "name": "exercise",
         "type": "\"integer\""
        },
        {
         "metadata": "{}",
         "name": "breed",
         "type": "\"string\""
        },
        {
         "metadata": "{}",
         "name": "previoushealthconditions",
         "type": "\"string\""
        },
        {
         "metadata": "{}",
         "name": "Genetic Factors",
         "type": "\"boolean\""
        },
        {
         "metadata": "{}",
         "name": "Breed Predisposition",
         "type": "\"boolean\""
        },
        {
         "metadata": "{}",
         "name": "prediction",
         "type": "\"string\""
        }
       ],
       "type": "table"
      }
     }
    }
   ],
   "metadata": {
    "application/vnd.databricks.v1+cell": {
     "cellMetadata": {
      "byteLimit": 2048000,
      "rowLimit": 10000
     },
     "inputWidgets": {},
     "nuid": "06c89b86-4f38-40b7-b6c5-a71af1db706e",
     "showTitle": false,
     "title": ""
    }
   }
  },
  {
   "cell_type": "code",
   "execution_count": null,
   "source": [
    "with_prediction_df=with_prediction_df.drop('Breed Predisposition').drop('Genetic Factors')\n",
    "with_prediction_df = with_prediction_df.withColumn('prediction', col('prediction').cast('boolean'))\\\n",
    "                                        .withColumn('id', col('id').cast('string'))"
   ],
   "outputs": [],
   "metadata": {
    "application/vnd.databricks.v1+cell": {
     "cellMetadata": {
      "byteLimit": 2048000,
      "rowLimit": 10000
     },
     "inputWidgets": {},
     "nuid": "5833c162-3518-49eb-8847-99489ccf1a2d",
     "showTitle": false,
     "title": ""
    }
   }
  },
  {
   "cell_type": "code",
   "execution_count": null,
   "source": [
    "from pyspark.sql.functions import col, struct, to_json\n",
    "result_df = with_prediction_df.select(to_json(struct([col(c) for c in with_prediction_df.columns])).alias(\"data\"), col('id').alias('partitionKey'))"
   ],
   "outputs": [],
   "metadata": {
    "application/vnd.databricks.v1+cell": {
     "cellMetadata": {
      "byteLimit": 2048000,
      "rowLimit": 10000
     },
     "inputWidgets": {},
     "nuid": "75e66f5c-7cde-4983-9730-a32891b07aee",
     "showTitle": false,
     "title": ""
    }
   }
  },
  {
   "cell_type": "code",
   "execution_count": null,
   "source": [
    "display(result_df)"
   ],
   "outputs": [],
   "metadata": {
    "application/vnd.databricks.v1+cell": {
     "cellMetadata": {
      "byteLimit": 2048000,
      "rowLimit": 10000
     },
     "inputWidgets": {},
     "nuid": "9a3e85b3-ab5d-4d68-87af-06bfe286ab6b",
     "showTitle": false,
     "title": ""
    }
   }
  }
 ],
 "metadata": {
  "application/vnd.databricks.v1+notebook": {
   "dashboards": [],
   "language": "python",
   "notebookMetadata": {
    "pythonIndentUnit": 4
   },
   "notebookName": "Ingest Segment Bronze",
   "widgets": {}
  },
  "language_info": {
   "name": "python"
  }
 },
 "nbformat": 4,
 "nbformat_minor": 2
}